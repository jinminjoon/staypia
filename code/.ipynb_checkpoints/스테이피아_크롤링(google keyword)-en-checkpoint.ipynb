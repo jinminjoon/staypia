{
 "cells": [
  {
   "cell_type": "code",
   "execution_count": 3,
   "metadata": {},
   "outputs": [],
   "source": [
    "import requests as rq\n",
    "import pandas as pd\n",
    "from bs4 import BeautifulSoup\n",
    "from selenium import webdriver\n",
    "import time\n",
    "from tqdm import tqdm_notebook\n",
    "from selenium.webdriver.chrome.options import Options\n",
    "import numpy as np\n",
    "from tqdm.notebook import tqdm\n",
    "import re\n",
    "# from fake_useragent import UserAgent\n",
    "from selenium.webdriver.common.keys import Keys\n",
    "from selenium.webdriver.common.by import By\n",
    "from webdriver_manager.chrome import ChromeDriverManager\n",
    "\n",
    "import time\n",
    "import os\n",
    "import pymysql\n",
    "from sqlalchemy import create_engine\n",
    "\n",
    "import datetime"
   ]
  },
  {
   "cell_type": "code",
   "execution_count": 4,
   "metadata": {},
   "outputs": [],
   "source": [
    "#당일 날짜\n",
    "date = datetime.datetime.now().strftime('%y%m%d')"
   ]
  },
  {
   "cell_type": "markdown",
   "metadata": {},
   "source": [
    "# 1.엑셀에서 검색할 도시 정보 불러오기"
   ]
  },
  {
   "cell_type": "code",
   "execution_count": 5,
   "metadata": {},
   "outputs": [
    {
     "data": {
      "text/plain": [
       "'/Users/mycelebs/Desktop/staypia_데이터수집'"
      ]
     },
     "execution_count": 5,
     "metadata": {},
     "output_type": "execute_result"
    }
   ],
   "source": [
    "Desktop = os.path.dirname(os.getcwd())\n",
    "Desktop"
   ]
  },
  {
   "cell_type": "code",
   "execution_count": 6,
   "metadata": {
    "scrolled": true
   },
   "outputs": [
    {
     "data": {
      "text/html": [
       "<div>\n",
       "<style scoped>\n",
       "    .dataframe tbody tr th:only-of-type {\n",
       "        vertical-align: middle;\n",
       "    }\n",
       "\n",
       "    .dataframe tbody tr th {\n",
       "        vertical-align: top;\n",
       "    }\n",
       "\n",
       "    .dataframe thead th {\n",
       "        text-align: right;\n",
       "    }\n",
       "</style>\n",
       "<table border=\"1\" class=\"dataframe\">\n",
       "  <thead>\n",
       "    <tr style=\"text-align: right;\">\n",
       "      <th></th>\n",
       "      <th>ci_code</th>\n",
       "      <th>cd_idx</th>\n",
       "      <th>city_name</th>\n",
       "      <th>city_name_ko</th>\n",
       "      <th>country</th>\n",
       "      <th>country_name</th>\n",
       "      <th>country_name_ko</th>\n",
       "      <th>ko_youtube</th>\n",
       "    </tr>\n",
       "  </thead>\n",
       "  <tbody>\n",
       "    <tr>\n",
       "      <th>0</th>\n",
       "      <td>459419</td>\n",
       "      <td>3179591</td>\n",
       "      <td>Lhotka</td>\n",
       "      <td>Lhotka</td>\n",
       "      <td>cz</td>\n",
       "      <td>Czech Republic</td>\n",
       "      <td>체코</td>\n",
       "      <td>1.0</td>\n",
       "    </tr>\n",
       "    <tr>\n",
       "      <th>1</th>\n",
       "      <td>64398</td>\n",
       "      <td>3179532</td>\n",
       "      <td>Rakitovo</td>\n",
       "      <td>Rakitovo</td>\n",
       "      <td>bg</td>\n",
       "      <td>Bulgaria</td>\n",
       "      <td>불가리아</td>\n",
       "      <td>1.0</td>\n",
       "    </tr>\n",
       "    <tr>\n",
       "      <th>2</th>\n",
       "      <td>519813</td>\n",
       "      <td>3176579</td>\n",
       "      <td>Dvorište</td>\n",
       "      <td>Dvorište</td>\n",
       "      <td>rs</td>\n",
       "      <td>Serbia</td>\n",
       "      <td>세르비아</td>\n",
       "      <td>1.0</td>\n",
       "    </tr>\n",
       "    <tr>\n",
       "      <th>3</th>\n",
       "      <td>85749</td>\n",
       "      <td>3174718</td>\n",
       "      <td>Sibonga</td>\n",
       "      <td>Sibonga</td>\n",
       "      <td>ph</td>\n",
       "      <td>Philippines</td>\n",
       "      <td>필리핀</td>\n",
       "      <td>1.0</td>\n",
       "    </tr>\n",
       "    <tr>\n",
       "      <th>4</th>\n",
       "      <td>145555</td>\n",
       "      <td>3166441</td>\n",
       "      <td>Peñaflor</td>\n",
       "      <td>Peñaflor</td>\n",
       "      <td>cl</td>\n",
       "      <td>Chile</td>\n",
       "      <td>칠레</td>\n",
       "      <td>1.0</td>\n",
       "    </tr>\n",
       "    <tr>\n",
       "      <th>...</th>\n",
       "      <td>...</td>\n",
       "      <td>...</td>\n",
       "      <td>...</td>\n",
       "      <td>...</td>\n",
       "      <td>...</td>\n",
       "      <td>...</td>\n",
       "      <td>...</td>\n",
       "      <td>...</td>\n",
       "    </tr>\n",
       "    <tr>\n",
       "      <th>5595</th>\n",
       "      <td>135080</td>\n",
       "      <td>3178218</td>\n",
       "      <td>Prudhoe</td>\n",
       "      <td>Prudhoe</td>\n",
       "      <td>gb</td>\n",
       "      <td>United Kingdom</td>\n",
       "      <td>영국</td>\n",
       "      <td>NaN</td>\n",
       "    </tr>\n",
       "    <tr>\n",
       "      <th>5596</th>\n",
       "      <td>150577</td>\n",
       "      <td>3178587</td>\n",
       "      <td>Red Creek</td>\n",
       "      <td>Red Creek</td>\n",
       "      <td>us</td>\n",
       "      <td>USA</td>\n",
       "      <td>미국</td>\n",
       "      <td>NaN</td>\n",
       "    </tr>\n",
       "    <tr>\n",
       "      <th>5597</th>\n",
       "      <td>251274</td>\n",
       "      <td>3178842</td>\n",
       "      <td>Blanchisseuse</td>\n",
       "      <td>Blanchisseuse</td>\n",
       "      <td>tt</td>\n",
       "      <td>Trinidad and Tobago</td>\n",
       "      <td>트리니다드 토바고</td>\n",
       "      <td>NaN</td>\n",
       "    </tr>\n",
       "    <tr>\n",
       "      <th>5598</th>\n",
       "      <td>127952</td>\n",
       "      <td>3178916</td>\n",
       "      <td>Malešov</td>\n",
       "      <td>Malešov</td>\n",
       "      <td>cz</td>\n",
       "      <td>Czech Republic</td>\n",
       "      <td>체코</td>\n",
       "      <td>NaN</td>\n",
       "    </tr>\n",
       "    <tr>\n",
       "      <th>5599</th>\n",
       "      <td>86100</td>\n",
       "      <td>3179206</td>\n",
       "      <td>Hinatuan</td>\n",
       "      <td>Hinatuan</td>\n",
       "      <td>ph</td>\n",
       "      <td>Philippines</td>\n",
       "      <td>필리핀</td>\n",
       "      <td>NaN</td>\n",
       "    </tr>\n",
       "  </tbody>\n",
       "</table>\n",
       "<p>5600 rows × 8 columns</p>\n",
       "</div>"
      ],
      "text/plain": [
       "      ci_code   cd_idx      city_name   city_name_ko country  \\\n",
       "0      459419  3179591         Lhotka         Lhotka      cz   \n",
       "1       64398  3179532       Rakitovo       Rakitovo      bg   \n",
       "2      519813  3176579       Dvorište       Dvorište      rs   \n",
       "3       85749  3174718        Sibonga        Sibonga      ph   \n",
       "4      145555  3166441       Peñaflor       Peñaflor      cl   \n",
       "...       ...      ...            ...            ...     ...   \n",
       "5595   135080  3178218        Prudhoe        Prudhoe      gb   \n",
       "5596   150577  3178587      Red Creek      Red Creek      us   \n",
       "5597   251274  3178842  Blanchisseuse  Blanchisseuse      tt   \n",
       "5598   127952  3178916        Malešov        Malešov      cz   \n",
       "5599    86100  3179206       Hinatuan       Hinatuan      ph   \n",
       "\n",
       "             country_name country_name_ko  ko_youtube  \n",
       "0          Czech Republic              체코         1.0  \n",
       "1                Bulgaria            불가리아         1.0  \n",
       "2                  Serbia            세르비아         1.0  \n",
       "3             Philippines             필리핀         1.0  \n",
       "4                   Chile              칠레         1.0  \n",
       "...                   ...             ...         ...  \n",
       "5595       United Kingdom              영국         NaN  \n",
       "5596                  USA              미국         NaN  \n",
       "5597  Trinidad and Tobago       트리니다드 토바고         NaN  \n",
       "5598       Czech Republic              체코         NaN  \n",
       "5599          Philippines             필리핀         NaN  \n",
       "\n",
       "[5600 rows x 8 columns]"
      ]
     },
     "execution_count": 6,
     "metadata": {},
     "output_type": "execute_result"
    }
   ],
   "source": [
    "#전달 받은 수집해야할 도시 데이터 파일 경로 입력\n",
    "file_path = f'/{Desktop}/data/staypia_city_v2.xlsx'\n",
    "data = pd.read_excel(file_path)\n",
    "# del data['Unnamed: 0']\n",
    "data"
   ]
  },
  {
   "cell_type": "markdown",
   "metadata": {},
   "source": [
    "# DB에서 국가 이름 불러와서 딕셔너리로- 수집파일에 국가이름이 없는 경우에만"
   ]
  },
  {
   "cell_type": "code",
   "execution_count": 7,
   "metadata": {},
   "outputs": [
    {
     "name": "stdout",
     "output_type": "stream",
     "text": [
      " DB connect success!\n"
     ]
    }
   ],
   "source": [
    "host_url = \"db.ds.mycelebs.com\"\n",
    "user_nm = \"yooj\"\n",
    "passwd = \"tei0609!\"\n",
    "port_num = 3306\n",
    "db_name = \"mybucketlist\"\n",
    "engine = create_engine(f'mysql+pymysql://{user_nm}:{passwd}@{host_url}:{port_num}/{db_name}?charset=utf8mb4')\n",
    "engine_conn = engine.connect()\n",
    "print(\" DB connect success!\")"
   ]
  },
  {
   "cell_type": "code",
   "execution_count": 8,
   "metadata": {
    "scrolled": true
   },
   "outputs": [
    {
     "data": {
      "text/html": [
       "<div>\n",
       "<style scoped>\n",
       "    .dataframe tbody tr th:only-of-type {\n",
       "        vertical-align: middle;\n",
       "    }\n",
       "\n",
       "    .dataframe tbody tr th {\n",
       "        vertical-align: top;\n",
       "    }\n",
       "\n",
       "    .dataframe thead th {\n",
       "        text-align: right;\n",
       "    }\n",
       "</style>\n",
       "<table border=\"1\" class=\"dataframe\">\n",
       "  <thead>\n",
       "    <tr style=\"text-align: right;\">\n",
       "      <th></th>\n",
       "      <th>cd_country</th>\n",
       "      <th>country_name</th>\n",
       "    </tr>\n",
       "  </thead>\n",
       "  <tbody>\n",
       "    <tr>\n",
       "      <th>0</th>\n",
       "      <td>bh</td>\n",
       "      <td>Bahrain</td>\n",
       "    </tr>\n",
       "    <tr>\n",
       "      <th>1</th>\n",
       "      <td>ck</td>\n",
       "      <td>Cook Islands</td>\n",
       "    </tr>\n",
       "    <tr>\n",
       "      <th>2</th>\n",
       "      <td>gt</td>\n",
       "      <td>Guatemala</td>\n",
       "    </tr>\n",
       "    <tr>\n",
       "      <th>3</th>\n",
       "      <td>ke</td>\n",
       "      <td>Kenya</td>\n",
       "    </tr>\n",
       "    <tr>\n",
       "      <th>4</th>\n",
       "      <td>pk</td>\n",
       "      <td>Pakistan</td>\n",
       "    </tr>\n",
       "    <tr>\n",
       "      <th>...</th>\n",
       "      <td>...</td>\n",
       "      <td>...</td>\n",
       "    </tr>\n",
       "    <tr>\n",
       "      <th>197</th>\n",
       "      <td>cu</td>\n",
       "      <td>Cuba</td>\n",
       "    </tr>\n",
       "    <tr>\n",
       "      <th>198</th>\n",
       "      <td>ai</td>\n",
       "      <td>Anguilla</td>\n",
       "    </tr>\n",
       "    <tr>\n",
       "      <th>199</th>\n",
       "      <td>vg</td>\n",
       "      <td>UK Virgin Islands</td>\n",
       "    </tr>\n",
       "    <tr>\n",
       "      <th>200</th>\n",
       "      <td>as</td>\n",
       "      <td>American Samoa</td>\n",
       "    </tr>\n",
       "    <tr>\n",
       "      <th>201</th>\n",
       "      <td>gq</td>\n",
       "      <td>Equatorial Guinea</td>\n",
       "    </tr>\n",
       "  </tbody>\n",
       "</table>\n",
       "<p>202 rows × 2 columns</p>\n",
       "</div>"
      ],
      "text/plain": [
       "    cd_country       country_name\n",
       "0           bh            Bahrain\n",
       "1           ck       Cook Islands\n",
       "2           gt          Guatemala\n",
       "3           ke              Kenya\n",
       "4           pk           Pakistan\n",
       "..         ...                ...\n",
       "197         cu               Cuba\n",
       "198         ai           Anguilla\n",
       "199         vg  UK Virgin Islands\n",
       "200         as     American Samoa\n",
       "201         gq  Equatorial Guinea\n",
       "\n",
       "[202 rows x 2 columns]"
      ]
     },
     "execution_count": 8,
     "metadata": {},
     "output_type": "execute_result"
    }
   ],
   "source": [
    "db_country = pd.read_sql('select DISTINCT cd_country, country_name from service_city_data', engine_conn)\n",
    "db_country"
   ]
  },
  {
   "cell_type": "code",
   "execution_count": 9,
   "metadata": {},
   "outputs": [
    {
     "data": {
      "text/plain": [
       "202"
      ]
     },
     "execution_count": 9,
     "metadata": {},
     "output_type": "execute_result"
    }
   ],
   "source": [
    "len(db_country)"
   ]
  },
  {
   "cell_type": "code",
   "execution_count": 10,
   "metadata": {},
   "outputs": [],
   "source": [
    "db_cd_country_list=[]\n",
    "db_country_name_list=[]"
   ]
  },
  {
   "cell_type": "code",
   "execution_count": 11,
   "metadata": {},
   "outputs": [],
   "source": [
    "for i in range(len(db_country)):\n",
    "    db_cd_country_list.append(db_country['cd_country'][i])\n",
    "    db_country_name_list.append(db_country['country_name'][i])"
   ]
  },
  {
   "cell_type": "code",
   "execution_count": 12,
   "metadata": {},
   "outputs": [
    {
     "data": {
      "text/plain": [
       "{'bh': 'Bahrain',\n",
       " 'ck': 'Cook Islands',\n",
       " 'gt': 'Guatemala',\n",
       " 'ke': 'Kenya',\n",
       " 'pk': 'Pakistan',\n",
       " 'es': 'Spain',\n",
       " 'to': 'Tonga',\n",
       " 'mx': 'Mexico',\n",
       " 'si': 'Slovenia',\n",
       " 'zw': 'Zimbabwe',\n",
       " 'id': 'Indonesia',\n",
       " 'gr': 'Greece',\n",
       " 'bb': 'Barbados',\n",
       " 'hr': 'Croatia',\n",
       " 'it': 'Italy',\n",
       " 'za': 'South Africa',\n",
       " 'co': 'Colombia',\n",
       " 'la': 'Laos',\n",
       " 'tw': 'Taiwan',\n",
       " 'ar': 'Argentina',\n",
       " 'tr': 'Turkey',\n",
       " 'au': 'Australia',\n",
       " 'in': 'India',\n",
       " 'pf': 'French Polynesia',\n",
       " 'cn': 'China',\n",
       " 'bo': 'Bolivia',\n",
       " 'dk': 'Denmark',\n",
       " 'bd': 'Bangladesh',\n",
       " 'mz': 'Mozambique',\n",
       " 'mf': 'Saint Martin',\n",
       " 'pl': 'Poland',\n",
       " 'fr': 'France',\n",
       " 'ls': 'Lesotho',\n",
       " 'mr': 'Mauritania',\n",
       " 'bw': 'Botswana',\n",
       " 'ad': 'Andorra',\n",
       " 'bm': 'Bermuda',\n",
       " 'fi': 'Finland',\n",
       " 'sz': 'Swaziland',\n",
       " 'ga': 'Gabon',\n",
       " 'ag': 'Antigua & Barbuda',\n",
       " 'sc': 'Seychelles',\n",
       " 'sl': 'Sierra Leone',\n",
       " 'lc': 'Saint Lucia',\n",
       " 'cv': 'Cape Verde',\n",
       " 'tt': 'Trinidad and Tobago',\n",
       " 'st': 'São Tomé and Príncip',\n",
       " 'tc': 'Turks & Caicos Islan',\n",
       " 'kn': 'Saint Kitts and Nevi',\n",
       " 'mu': 'Mauritius',\n",
       " 'aw': 'Aruba',\n",
       " 'ws': 'Samoa',\n",
       " 'mv': 'Maldives',\n",
       " 'hk': 'Hong Kong',\n",
       " 'dm': 'Dominica',\n",
       " 'na': 'Namibia',\n",
       " 'bn': 'Brunei Darussalam',\n",
       " 'bj': 'Benin',\n",
       " 'vc': 'Saint Vincent & Gren',\n",
       " 'mo': 'Macao',\n",
       " 'gd': 'Grenada',\n",
       " 'ro': 'Romania',\n",
       " 'gm': 'Gambia',\n",
       " 'fj': 'Fiji',\n",
       " 'ky': 'Cayman Islands',\n",
       " 'gn': 'Guinea',\n",
       " 'bz': 'Belize',\n",
       " 'ni': 'Nicaragua',\n",
       " 'cr': 'Costa Rica',\n",
       " 'sv': 'El Salvador',\n",
       " 'gi': 'Gibraltar',\n",
       " 'hn': 'Honduras',\n",
       " 'ua': 'Ukraine',\n",
       " 'ml': 'Mali',\n",
       " 'kh': 'Cambodia',\n",
       " 'np': 'Nepal',\n",
       " 'ec': 'Ecuador',\n",
       " 'gy': 'Guyana',\n",
       " 'gf': 'French Guiana',\n",
       " 'sr': 'Suriname',\n",
       " 'py': 'Paraguay',\n",
       " 'jo': 'Jordan',\n",
       " 'uy': 'Uruguay',\n",
       " 've': 'Venezuela',\n",
       " 'cl': 'Chile',\n",
       " 'hu': 'Hungary',\n",
       " 'sk': 'Slovakia',\n",
       " 'bg': 'Bulgaria',\n",
       " 'ae': 'United Arab Emirates',\n",
       " 'il': 'Israel',\n",
       " 'lb': 'Lebanon',\n",
       " 'kw': 'Kuwait',\n",
       " 'om': 'Oman',\n",
       " 'kr': 'South Korea',\n",
       " 'qa': 'Qatar',\n",
       " 'br': 'Brazil',\n",
       " 'tn': 'Tunisia',\n",
       " 'et': 'Ethiopia',\n",
       " 'ca': 'Canada',\n",
       " 'cz': 'Czech Republic',\n",
       " 'jm': 'Jamaica',\n",
       " 'vn': 'Vietnam',\n",
       " 'th': 'Thailand',\n",
       " 'lv': 'Latvia',\n",
       " 'ru': 'Russia',\n",
       " 'cm': 'Cameroon',\n",
       " 'iq': 'Iraq',\n",
       " 'sa': 'Saudi Arabia',\n",
       " 'mm': 'Myanmar',\n",
       " 'dz': 'Algeria',\n",
       " 'fo': 'Faroe Islands',\n",
       " 'cy': 'Cyprus',\n",
       " 'az': 'Azerbaijan',\n",
       " 'gb': 'United Kingdom',\n",
       " 'pe': 'Peru',\n",
       " 'no': 'Norway',\n",
       " 'eg': 'Egypt',\n",
       " 'ee': 'Estonia',\n",
       " 'jp': 'Japan',\n",
       " 'pa': 'Panama',\n",
       " 'mg': 'Madagascar',\n",
       " 'sm': 'San Marino',\n",
       " 'ch': 'Switzerland',\n",
       " 'se': 'Sweden',\n",
       " 'ph': 'Philippines',\n",
       " 'uz': 'Uzbekistan',\n",
       " 'tz': 'Tanzania',\n",
       " 'my': 'Malaysia',\n",
       " 'tj': 'Tajikistan',\n",
       " 'ge': 'Georgia',\n",
       " 'xa': 'Abkhazia',\n",
       " 'am': 'Armenia',\n",
       " 'ba': 'Bosnia and Herzegovi',\n",
       " 'me': 'Montenegro',\n",
       " 'zm': 'Zambia',\n",
       " 'md': 'Moldova',\n",
       " 'mn': 'Mongolia',\n",
       " 'xk': 'Kosovo',\n",
       " 'kz': 'Kazakhstan',\n",
       " 'mk': 'Macedonia',\n",
       " 'sn': 'Senegal',\n",
       " 'kg': 'Kyrgyzstan',\n",
       " 'rs': 'Serbia',\n",
       " 'al': 'Albania',\n",
       " 'sg': 'Singapore',\n",
       " 'ht': 'Haiti',\n",
       " 'ma': 'Morocco',\n",
       " 'lk': 'Sri Lanka',\n",
       " 'nl': 'Netherlands',\n",
       " 'mt': 'Malta',\n",
       " 'nz': 'New Zealand',\n",
       " 'de': 'Germany',\n",
       " 'ie': 'Ireland',\n",
       " 'vu': 'Vanuatu',\n",
       " 'lr': 'Liberia',\n",
       " 'ci': \"Côte d'Ivoire\",\n",
       " 'gh': 'Ghana',\n",
       " 'us': 'USA',\n",
       " 'cd': 'Democratic Republic ',\n",
       " 'dj': 'Djibouti',\n",
       " 'ng': 'Nigeria',\n",
       " 'at': 'Austria',\n",
       " 'gl': 'Greenland',\n",
       " 'be': 'Belgium',\n",
       " 'by': 'Belarus',\n",
       " 'pr': 'Puerto Rico',\n",
       " 'vi': 'US Virgin Islands',\n",
       " 'pt': 'Portugal',\n",
       " 'is': 'Iceland',\n",
       " 'nf': 'Norfolk Island',\n",
       " 'gu': 'Guam',\n",
       " 'ps': 'Palestinian Territor',\n",
       " 'mp': 'Northern Mariana Isl',\n",
       " 'sx': 'Sint Maarten',\n",
       " 'tl': 'East Timor',\n",
       " 'li': 'Liechtenstein',\n",
       " 'xc': 'Crimea',\n",
       " 'lu': 'Luxembourg',\n",
       " 'ug': 'Uganda',\n",
       " 'bf': 'Burkina Faso',\n",
       " 'nc': 'New Caledonia',\n",
       " 'mq': 'Martinique',\n",
       " 'sb': 'Solomon Islands',\n",
       " 'bs': 'Bahamas',\n",
       " 'tg': 'Togo',\n",
       " 'mw': 'Malawi',\n",
       " 'mc': 'Monaco',\n",
       " 'do': 'Dominican Republic',\n",
       " 'ao': 'Angola',\n",
       " 'lt': 'Lithuania',\n",
       " 'bt': 'Bhutan',\n",
       " 'cg': 'Congo',\n",
       " 'pg': 'Papua New Guinea',\n",
       " 'rw': 'Rwanda',\n",
       " 'pw': 'Palau',\n",
       " 'bi': 'Burundi',\n",
       " 'bl': 'Saint Barthelemy',\n",
       " 'cu': 'Cuba',\n",
       " 'ai': 'Anguilla',\n",
       " 'vg': 'UK Virgin Islands',\n",
       " 'as': 'American Samoa',\n",
       " 'gq': 'Equatorial Guinea'}"
      ]
     },
     "execution_count": 12,
     "metadata": {},
     "output_type": "execute_result"
    }
   ],
   "source": [
    "db_country_name_dict=dict(zip(db_cd_country_list,db_country_name_list))\n",
    "db_country_name_dict"
   ]
  },
  {
   "cell_type": "code",
   "execution_count": 13,
   "metadata": {},
   "outputs": [
    {
     "data": {
      "text/plain": [
       "202"
      ]
     },
     "execution_count": 13,
     "metadata": {},
     "output_type": "execute_result"
    }
   ],
   "source": [
    "len(db_country_name_dict)"
   ]
  },
  {
   "cell_type": "code",
   "execution_count": 14,
   "metadata": {},
   "outputs": [],
   "source": [
    "engine_conn.close()\n",
    "engine.dispose()"
   ]
  },
  {
   "cell_type": "markdown",
   "metadata": {},
   "source": [
    "# 2.최종 데이터 프레임 데이터 구조 정의"
   ]
  },
  {
   "cell_type": "code",
   "execution_count": 15,
   "metadata": {},
   "outputs": [
    {
     "data": {
      "text/plain": [
       "{'cd_idx': [], 'keywords': [], 'words_length': [], 'index': []}"
      ]
     },
     "execution_count": 15,
     "metadata": {},
     "output_type": "execute_result"
    }
   ],
   "source": [
    "ggkw_result = {'cd_idx':[], 'keywords':[], 'words_length':[], 'index':[] }\n",
    "ggkw_result"
   ]
  },
  {
   "cell_type": "markdown",
   "metadata": {},
   "source": [
    "# 3.데이터 크롤링 시작"
   ]
  },
  {
   "cell_type": "code",
   "execution_count": 18,
   "metadata": {
    "scrolled": true
   },
   "outputs": [
    {
     "name": "stderr",
     "output_type": "stream",
     "text": [
      "/var/folders/tp/dglqnwk96sbbcnl6wq3tl3k00000gn/T/ipykernel_78505/3513662703.py:19: DeprecationWarning: executable_path has been deprecated, please pass in a Service object\n",
      "  driver = webdriver.Chrome(ChromeDriverManager().install(), options = options)\n"
     ]
    },
    {
     "data": {
      "application/vnd.jupyter.widget-view+json": {
       "model_id": "e625375637dd42209a7b025a3b2166f3",
       "version_major": 2,
       "version_minor": 0
      },
      "text/plain": [
       "돌리는중:   0%|          | 0/5600 [00:00<?, ?it/s]"
      ]
     },
     "metadata": {},
     "output_type": "display_data"
    },
    {
     "name": "stdout",
     "output_type": "stream",
     "text": [
      "#0: Czech Republic Lhotka travel: robot?\n",
      "#1: Bulgaria Rakitovo travel: robot?\n",
      "#2: Serbia Dvorište travel: robot?\n",
      "#4: Chile Peñaflor travel: robot?\n",
      "#5: Paraguay Hernandarias travel: robot?\n",
      "#6: Brazil Valparaíso de Goiás travel: robot?\n",
      "#8: Brazil Cidade Ocidental travel: robot?\n",
      "#9: Italy Stazzona travel: robot?\n"
     ]
    },
    {
     "ename": "NoSuchWindowException",
     "evalue": "Message: no such window: target window already closed\nfrom unknown error: web view not found\n  (Session info: chrome=108.0.5359.98)\nStacktrace:\n0   chromedriver                        0x000000010e570f38 chromedriver + 4910904\n1   chromedriver                        0x000000010e4f0a03 chromedriver + 4385283\n2   chromedriver                        0x000000010e135747 chromedriver + 472903\n3   chromedriver                        0x000000010e10bff5 chromedriver + 303093\n4   chromedriver                        0x000000010e1a4b0f chromedriver + 928527\n5   chromedriver                        0x000000010e1ba763 chromedriver + 1017699\n6   chromedriver                        0x000000010e19fee3 chromedriver + 909027\n7   chromedriver                        0x000000010e16a30c chromedriver + 688908\n8   chromedriver                        0x000000010e16b88e chromedriver + 694414\n9   chromedriver                        0x000000010e53e1de chromedriver + 4702686\n10  chromedriver                        0x000000010e542b19 chromedriver + 4721433\n11  chromedriver                        0x000000010e54a28e chromedriver + 4752014\n12  chromedriver                        0x000000010e54391a chromedriver + 4725018\n13  chromedriver                        0x000000010e517b02 chromedriver + 4545282\n14  chromedriver                        0x000000010e562888 chromedriver + 4851848\n15  chromedriver                        0x000000010e562a05 chromedriver + 4852229\n16  chromedriver                        0x000000010e578e5f chromedriver + 4943455\n17  libsystem_pthread.dylib             0x00007ff807bf74e1 _pthread_start + 125\n18  libsystem_pthread.dylib             0x00007ff807bf2f6b thread_start + 15\n",
     "output_type": "error",
     "traceback": [
      "\u001b[0;31m---------------------------------------------------------------------------\u001b[0m",
      "\u001b[0;31mNoSuchWindowException\u001b[0m                     Traceback (most recent call last)",
      "Input \u001b[0;32mIn [18]\u001b[0m, in \u001b[0;36m<cell line: 22>\u001b[0;34m()\u001b[0m\n\u001b[1;32m     28\u001b[0m ggkw_result[\u001b[38;5;124m'\u001b[39m\u001b[38;5;124mcd_idx\u001b[39m\u001b[38;5;124m'\u001b[39m]\u001b[38;5;241m.\u001b[39mappend(cd_idx)\n\u001b[1;32m     30\u001b[0m url \u001b[38;5;241m=\u001b[39m \u001b[38;5;124m'\u001b[39m\u001b[38;5;124mhttps://www.google.com/search?q=\u001b[39m\u001b[38;5;124m'\u001b[39m\u001b[38;5;241m+\u001b[39m search_keword\n\u001b[0;32m---> 31\u001b[0m \u001b[43mdriver\u001b[49m\u001b[38;5;241;43m.\u001b[39;49m\u001b[43mget\u001b[49m\u001b[43m(\u001b[49m\u001b[43murl\u001b[49m\u001b[43m)\u001b[49m\n\u001b[1;32m     33\u001b[0m no_of_pagedowns \u001b[38;5;241m=\u001b[39m \u001b[38;5;241m5\u001b[39m\n\u001b[1;32m     34\u001b[0m elem \u001b[38;5;241m=\u001b[39m driver\u001b[38;5;241m.\u001b[39mfind_element(By\u001b[38;5;241m.\u001b[39mTAG_NAME, \u001b[38;5;124m\"\u001b[39m\u001b[38;5;124mbody\u001b[39m\u001b[38;5;124m\"\u001b[39m)\n",
      "File \u001b[0;32m/Library/Frameworks/Python.framework/Versions/3.10/lib/python3.10/site-packages/selenium/webdriver/remote/webdriver.py:440\u001b[0m, in \u001b[0;36mWebDriver.get\u001b[0;34m(self, url)\u001b[0m\n\u001b[1;32m    436\u001b[0m \u001b[38;5;28;01mdef\u001b[39;00m \u001b[38;5;21mget\u001b[39m(\u001b[38;5;28mself\u001b[39m, url: \u001b[38;5;28mstr\u001b[39m) \u001b[38;5;241m-\u001b[39m\u001b[38;5;241m>\u001b[39m \u001b[38;5;28;01mNone\u001b[39;00m:\n\u001b[1;32m    437\u001b[0m     \u001b[38;5;124;03m\"\"\"\u001b[39;00m\n\u001b[1;32m    438\u001b[0m \u001b[38;5;124;03m    Loads a web page in the current browser session.\u001b[39;00m\n\u001b[1;32m    439\u001b[0m \u001b[38;5;124;03m    \"\"\"\u001b[39;00m\n\u001b[0;32m--> 440\u001b[0m     \u001b[38;5;28;43mself\u001b[39;49m\u001b[38;5;241;43m.\u001b[39;49m\u001b[43mexecute\u001b[49m\u001b[43m(\u001b[49m\u001b[43mCommand\u001b[49m\u001b[38;5;241;43m.\u001b[39;49m\u001b[43mGET\u001b[49m\u001b[43m,\u001b[49m\u001b[43m \u001b[49m\u001b[43m{\u001b[49m\u001b[38;5;124;43m'\u001b[39;49m\u001b[38;5;124;43murl\u001b[39;49m\u001b[38;5;124;43m'\u001b[39;49m\u001b[43m:\u001b[49m\u001b[43m \u001b[49m\u001b[43murl\u001b[49m\u001b[43m}\u001b[49m\u001b[43m)\u001b[49m\n",
      "File \u001b[0;32m/Library/Frameworks/Python.framework/Versions/3.10/lib/python3.10/site-packages/selenium/webdriver/remote/webdriver.py:428\u001b[0m, in \u001b[0;36mWebDriver.execute\u001b[0;34m(self, driver_command, params)\u001b[0m\n\u001b[1;32m    426\u001b[0m response \u001b[38;5;241m=\u001b[39m \u001b[38;5;28mself\u001b[39m\u001b[38;5;241m.\u001b[39mcommand_executor\u001b[38;5;241m.\u001b[39mexecute(driver_command, params)\n\u001b[1;32m    427\u001b[0m \u001b[38;5;28;01mif\u001b[39;00m response:\n\u001b[0;32m--> 428\u001b[0m     \u001b[38;5;28;43mself\u001b[39;49m\u001b[38;5;241;43m.\u001b[39;49m\u001b[43merror_handler\u001b[49m\u001b[38;5;241;43m.\u001b[39;49m\u001b[43mcheck_response\u001b[49m\u001b[43m(\u001b[49m\u001b[43mresponse\u001b[49m\u001b[43m)\u001b[49m\n\u001b[1;32m    429\u001b[0m     response[\u001b[38;5;124m'\u001b[39m\u001b[38;5;124mvalue\u001b[39m\u001b[38;5;124m'\u001b[39m] \u001b[38;5;241m=\u001b[39m \u001b[38;5;28mself\u001b[39m\u001b[38;5;241m.\u001b[39m_unwrap_value(\n\u001b[1;32m    430\u001b[0m         response\u001b[38;5;241m.\u001b[39mget(\u001b[38;5;124m'\u001b[39m\u001b[38;5;124mvalue\u001b[39m\u001b[38;5;124m'\u001b[39m, \u001b[38;5;28;01mNone\u001b[39;00m))\n\u001b[1;32m    431\u001b[0m     \u001b[38;5;28;01mreturn\u001b[39;00m response\n",
      "File \u001b[0;32m/Library/Frameworks/Python.framework/Versions/3.10/lib/python3.10/site-packages/selenium/webdriver/remote/errorhandler.py:243\u001b[0m, in \u001b[0;36mErrorHandler.check_response\u001b[0;34m(self, response)\u001b[0m\n\u001b[1;32m    241\u001b[0m         alert_text \u001b[38;5;241m=\u001b[39m value[\u001b[38;5;124m'\u001b[39m\u001b[38;5;124malert\u001b[39m\u001b[38;5;124m'\u001b[39m]\u001b[38;5;241m.\u001b[39mget(\u001b[38;5;124m'\u001b[39m\u001b[38;5;124mtext\u001b[39m\u001b[38;5;124m'\u001b[39m)\n\u001b[1;32m    242\u001b[0m     \u001b[38;5;28;01mraise\u001b[39;00m exception_class(message, screen, stacktrace, alert_text)  \u001b[38;5;66;03m# type: ignore[call-arg]  # mypy is not smart enough here\u001b[39;00m\n\u001b[0;32m--> 243\u001b[0m \u001b[38;5;28;01mraise\u001b[39;00m exception_class(message, screen, stacktrace)\n",
      "\u001b[0;31mNoSuchWindowException\u001b[0m: Message: no such window: target window already closed\nfrom unknown error: web view not found\n  (Session info: chrome=108.0.5359.98)\nStacktrace:\n0   chromedriver                        0x000000010e570f38 chromedriver + 4910904\n1   chromedriver                        0x000000010e4f0a03 chromedriver + 4385283\n2   chromedriver                        0x000000010e135747 chromedriver + 472903\n3   chromedriver                        0x000000010e10bff5 chromedriver + 303093\n4   chromedriver                        0x000000010e1a4b0f chromedriver + 928527\n5   chromedriver                        0x000000010e1ba763 chromedriver + 1017699\n6   chromedriver                        0x000000010e19fee3 chromedriver + 909027\n7   chromedriver                        0x000000010e16a30c chromedriver + 688908\n8   chromedriver                        0x000000010e16b88e chromedriver + 694414\n9   chromedriver                        0x000000010e53e1de chromedriver + 4702686\n10  chromedriver                        0x000000010e542b19 chromedriver + 4721433\n11  chromedriver                        0x000000010e54a28e chromedriver + 4752014\n12  chromedriver                        0x000000010e54391a chromedriver + 4725018\n13  chromedriver                        0x000000010e517b02 chromedriver + 4545282\n14  chromedriver                        0x000000010e562888 chromedriver + 4851848\n15  chromedriver                        0x000000010e562a05 chromedriver + 4852229\n16  chromedriver                        0x000000010e578e5f chromedriver + 4943455\n17  libsystem_pthread.dylib             0x00007ff807bf74e1 _pthread_start + 125\n18  libsystem_pthread.dylib             0x00007ff807bf2f6b thread_start + 15\n"
     ]
    }
   ],
   "source": [
    "options = Options()\n",
    "#options.add_argument('headless')\n",
    "options.add_argument('--incognito')\n",
    "prefs = {'intl.accept_languages': 'en,en_US','cookies': 2, 'images': 1, 'plugins': 2, 'popups': 2,\n",
    "                                                    'geolocation': 2, 'notifications': 2,\n",
    "                                                    'auto_select_certificate': 2, 'fullscreen': 2, 'mouselock': 2,\n",
    "                                                    'mixed_script': 2, 'media_stream': 2, 'media_stream_mic': 2,\n",
    "                                                    'media_stream_camera': 2, 'protocol_handlers': 2,\n",
    "                                                    'ppapi_broker': 2, 'automatic_downloads': 2, 'midi_sysex': 2,\n",
    "                                                    'push_messaging': 2, 'ssl_cert_decisions': 2,\n",
    "                                                    'metro_switch_to_desktop': 2, 'protected_media_identifier': 2,\n",
    "                                                    'app_banner': 2, 'site_engagement': 2, 'durable_storage': 2}\n",
    "# options.add_experimental_option('prefs', prefs)\n",
    "options.add_argument(\"start-maximized\")\n",
    "options.add_argument(\"disable-infobars\")\n",
    "options.add_argument(\"--disable-extensions\")\n",
    "options.add_argument('user-agent=Mozilla/5.0 (Macintosh; Intel Mac OS X 10_15_7) AppleWebKit/537.36 (KHTML, like Gecko) Chrome/108.0.0.0 Safari/537.36')\n",
    "\n",
    "driver = webdriver.Chrome(ChromeDriverManager().install(), options = options)\n",
    "\n",
    "# 로봇때문에 수집 안된부분부터 다시 수집 (VPN 바꾸기)\n",
    "for idx, row in tqdm(data[:].iterrows(), total = data[:].shape[0], desc=\"돌리는중\"):\n",
    "    #수집 파일 데이터에 따라 변경\n",
    "    search_keword=row['country_name']+\" \"+ row['city_name'] +\" travel\"\n",
    "#     print(search_keword)\n",
    "    ggkw_result['index'].append(idx)\n",
    "    cd_idx = row['cd_idx']\n",
    "    ggkw_result['cd_idx'].append(cd_idx)\n",
    "    \n",
    "    url = 'https://www.google.com/search?q='+ search_keword\n",
    "    driver.get(url)\n",
    "    \n",
    "    no_of_pagedowns = 5\n",
    "    elem = driver.find_element(By.TAG_NAME, \"body\")\n",
    "\n",
    "    while no_of_pagedowns:\n",
    "        elem.send_keys(Keys.PAGE_DOWN)\n",
    "        time.sleep(1.2)\n",
    "        no_of_pagedowns -= 1\n",
    "    time.sleep(2)  # sleep을 통해 Robot Error 해결.\n",
    "    \n",
    "    try:\n",
    "        keywords_list=[]\n",
    "        locates='#bres > div > div > div > div > div.y6Uyqe > div > div > div > a > div:nth-child(2)' # class\n",
    "\n",
    "        elements=driver.find_elements(By.CSS_SELECTOR, locates)\n",
    "        for element in elements:\n",
    "            keywords_list.append(element.text)\n",
    "        \n",
    "        if len(keywords_list) == 0:\n",
    "            print(f'#{idx}: {search_keword}: robot?')\n",
    "            ggkw_result['keywords'].append(None)\n",
    "            ggkw_result['words_length'].append(None)\n",
    "        else:\n",
    "            ggkw_result['keywords'].append(keywords_list)\n",
    "            ggkw_result['words_length'].append(len(keywords_list))\n",
    "        time.sleep(2)\n",
    "        \n",
    "    except:\n",
    "        print('error')\n",
    "        ggkw_result['keywords'].append(None)\n",
    "        ggkw_result['words_length'].append(None)\n",
    "        \n",
    "        \n",
    "print(\"완료\")    "
   ]
  },
  {
   "cell_type": "code",
   "execution_count": 26,
   "metadata": {},
   "outputs": [],
   "source": [
    "ggkw_result['index'] = None\n",
    "ggkw_result_df = pd.DataFrame(ggkw_result)"
   ]
  },
  {
   "cell_type": "code",
   "execution_count": 28,
   "metadata": {},
   "outputs": [],
   "source": [
    "ggkw_result_df.to_excel(f'{Desktop}/googole_key_temp3.xlsx')"
   ]
  },
  {
   "cell_type": "code",
   "execution_count": 22,
   "metadata": {},
   "outputs": [
    {
     "name": "stdout",
     "output_type": "stream",
     "text": [
      "1000 1000 1000\n"
     ]
    }
   ],
   "source": [
    "print(len(ggkw_result['cd_idx']),len(ggkw_result['keywords']),len(ggkw_result['words_length']))"
   ]
  },
  {
   "cell_type": "code",
   "execution_count": null,
   "metadata": {},
   "outputs": [],
   "source": [
    "# 수집 안된 부분 찾기 -> none으로 연속으로 수집된 부분부터 수집 안된거임\n",
    "for i in range(len(ggkw_result['words_length'])):\n",
    "    print(i, ggkw_result['words_length'][i])"
   ]
  },
  {
   "cell_type": "code",
   "execution_count": 19,
   "metadata": {},
   "outputs": [],
   "source": [
    "# 위에서 수집 안된 부분 확인하고 밑에 숫자 바꾼 후 실행시키고 수집 코드 범위 설정 후 다시 이어서 수집\n",
    "# VPN 위치 바꾸고 이어서 수집\n",
    "del ggkw_result['keywords'][685:]\n",
    "del ggkw_result['cd_idx'][685:]\n",
    "del ggkw_result['words_length'][685:]"
   ]
  },
  {
   "cell_type": "markdown",
   "metadata": {},
   "source": [
    "# 5.keywords DB 형식에 맞게 전처리 ( , 제거)"
   ]
  },
  {
   "cell_type": "code",
   "execution_count": null,
   "metadata": {},
   "outputs": [],
   "source": [
    "columns = ['cd_idx', 'keywords', 'words_length']\n",
    "result_df = pd.DataFrame(ggkw_result, columns=columns)"
   ]
  },
  {
   "cell_type": "code",
   "execution_count": null,
   "metadata": {},
   "outputs": [],
   "source": [
    "len(result_df['keywords'])"
   ]
  },
  {
   "cell_type": "code",
   "execution_count": null,
   "metadata": {},
   "outputs": [],
   "source": [
    "for a in range(len(result_df['keywords'])):\n",
    "    #if isinstance(result_df['keywords'][a] , float):\n",
    "    if not result_df['keywords'][a]:\n",
    "        continue\n",
    "    else:\n",
    "        for i in range(len(result_df['keywords'][a])):\n",
    "            if  ',' in result_df['keywords'][a][i]:#키워드 안에 , 가 존재하는 경우 제거\n",
    "                result_df['keywords'][a][i]=result_df['keywords'][a][i].replace(',','')\n"
   ]
  },
  {
   "cell_type": "code",
   "execution_count": null,
   "metadata": {},
   "outputs": [],
   "source": [
    "result_df"
   ]
  },
  {
   "cell_type": "markdown",
   "metadata": {},
   "source": [
    "# 6.keywords에 [ ]/ 없애기"
   ]
  },
  {
   "cell_type": "code",
   "execution_count": null,
   "metadata": {},
   "outputs": [],
   "source": [
    "data2 = result_df"
   ]
  },
  {
   "cell_type": "code",
   "execution_count": null,
   "metadata": {},
   "outputs": [],
   "source": [
    "data2"
   ]
  },
  {
   "cell_type": "code",
   "execution_count": null,
   "metadata": {},
   "outputs": [],
   "source": [
    "for a in range(len(data2['keywords'])):\n",
    "    if isinstance(data2['keywords'][a] , type(None)):\n",
    "#         data2['keywords'][a] = NaN\n",
    "        continue\n",
    "    else:\n",
    "        # 다른 전처리도 필요하다면 replace 추가하기\n",
    "        data2['keywords'][a] = str(data2['keywords'][a]).replace('[','').replace(']','').replace('\\'','')\n"
   ]
  },
  {
   "cell_type": "code",
   "execution_count": null,
   "metadata": {
    "scrolled": true
   },
   "outputs": [],
   "source": [
    "data2"
   ]
  },
  {
   "cell_type": "markdown",
   "metadata": {},
   "source": [
    "# 7. null인 값만 재수집"
   ]
  },
  {
   "cell_type": "code",
   "execution_count": null,
   "metadata": {},
   "outputs": [],
   "source": [
    "data2[data2['keywords'].isnull() == True]"
   ]
  },
  {
   "cell_type": "code",
   "execution_count": null,
   "metadata": {},
   "outputs": [],
   "source": [
    "read_df = data2\n",
    "read_df"
   ]
  },
  {
   "cell_type": "code",
   "execution_count": null,
   "metadata": {
    "scrolled": true
   },
   "outputs": [],
   "source": [
    "options = webdriver.ChromeOptions()\n",
    "#options.add_argument('headless')\n",
    "options.add_argument('--incognito')\n",
    "prefs = {'intl.accept_languages': 'en,en_US','cookies': 2, 'images': 1, 'plugins': 2, 'popups': 2,\n",
    "                                                    'geolocation': 2, 'notifications': 2,\n",
    "                                                    'auto_select_certificate': 2, 'fullscreen': 2, 'mouselock': 2,\n",
    "                                                    'mixed_script': 2, 'media_stream': 2, 'media_stream_mic': 2,\n",
    "                                                    'media_stream_camera': 2, 'protocol_handlers': 2,\n",
    "                                                    'ppapi_broker': 2, 'automatic_downloads': 2, 'midi_sysex': 2,\n",
    "                                                    'push_messaging': 2, 'ssl_cert_decisions': 2,\n",
    "                                                    'metro_switch_to_desktop': 2, 'protected_media_identifier': 2,\n",
    "                                                    'app_banner': 2, 'site_engagement': 2, 'durable_storage': 2}\n",
    "options.add_experimental_option('prefs', prefs)\n",
    "options.add_argument(\"start-maximized\")\n",
    "options.add_argument(\"disable-infobars\")\n",
    "options.add_argument(\"--disable-extensions\")\n",
    "\n",
    "driver = webdriver.Chrome(ChromeDriverManager().install(), chrome_options=options)\n",
    "\n",
    "for idx, row in tqdm(data[0:].iterrows(),total = data[0:].shape[0], desc=\"돌리는중\"):\n",
    "    #수집 파일 데이터에 따라 변경\n",
    "    if isinstance(read_df['keywords'][idx],float):\n",
    "    \n",
    "        search_keword=row['country_name']+\" \"+ row['city_name'] +\" travel\"\n",
    "        print(search_keword)\n",
    "\n",
    "#         cd_idx = row['cd_idx']\n",
    "#         ggkw_result['cd_idx'].append(cd_idx)\n",
    "\n",
    "        url = 'https://www.google.com/search?q='+ search_keword\n",
    "        driver.get(url)\n",
    "\n",
    "        no_of_pagedowns = 5\n",
    "        elem = driver.find_element(By.TAG_NAME, \"body\")\n",
    "\n",
    "        while no_of_pagedowns:\n",
    "            elem.send_keys(Keys.PAGE_DOWN)\n",
    "            time.sleep(1.2)\n",
    "            no_of_pagedowns -= 1\n",
    "        time.sleep(5)  # sleep을 통해 Robot Error 해결.\n",
    "\n",
    "\n",
    "        try:\n",
    "            keywords_list=[]\n",
    "\n",
    "            locates=\"//*[@id=\\\"w3bYAd\\\"]/div/div/div/div[@*]/div[@*]/a\"\n",
    "            elements=driver.find_elements(By.XPATH, locates)\n",
    "            for element in elements:\n",
    "                keywords_list.append(element.text)\n",
    "\n",
    "    #         print(keywords_list)\n",
    "            if len(keywords_list)==0:\n",
    "                read_df['keywords'][idx]=None\n",
    "                read_df['words_length'][idx]=None\n",
    "            else:\n",
    "                read_df['keywords'][idx]=keywords_list\n",
    "                read_df['words_length'][idx]=len(keywords_list)\n",
    "\n",
    "        except:\n",
    "            read_df['keywords'][idx]=None\n",
    "            read_df['words_length'][idx]=None\n",
    "        \n",
    "        \n",
    "print(\"완료\")    \n",
    "driver.close()"
   ]
  },
  {
   "cell_type": "code",
   "execution_count": null,
   "metadata": {},
   "outputs": [],
   "source": [
    "read_df"
   ]
  },
  {
   "cell_type": "code",
   "execution_count": null,
   "metadata": {},
   "outputs": [],
   "source": [
    "read_df.to_excel(Desktop+f'/google_keyword_result/google_keywords_crawling_{date}-final.xlsx')"
   ]
  },
  {
   "cell_type": "code",
   "execution_count": null,
   "metadata": {},
   "outputs": [],
   "source": []
  }
 ],
 "metadata": {
  "kernelspec": {
   "display_name": "Python 3 (ipykernel)",
   "language": "python",
   "name": "python3"
  },
  "language_info": {
   "codemirror_mode": {
    "name": "ipython",
    "version": 3
   },
   "file_extension": ".py",
   "mimetype": "text/x-python",
   "name": "python",
   "nbconvert_exporter": "python",
   "pygments_lexer": "ipython3",
   "version": "3.10.6"
  }
 },
 "nbformat": 4,
 "nbformat_minor": 2
}
