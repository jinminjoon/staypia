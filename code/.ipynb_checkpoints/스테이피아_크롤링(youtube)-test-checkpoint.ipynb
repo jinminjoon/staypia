{
 "cells": [
  {
   "cell_type": "code",
   "execution_count": 1,
   "metadata": {},
   "outputs": [],
   "source": [
    "import pymysql\n",
    "from sqlalchemy import create_engine\n",
    "\n",
    "import pandas as pd\n",
    "import time\n",
    "import os\n",
    "\n",
    "from selenium                       import webdriver\n",
    "from webdriver_manager.chrome       import ChromeDriverManager \n",
    "from selenium.webdriver.common.keys import Keys\n",
    "from bs4                            import BeautifulSoup\n",
    "from tqdm                           import tqdm"
   ]
  },
  {
   "cell_type": "code",
   "execution_count": null,
   "metadata": {},
   "outputs": [],
   "source": [
    "#당일 날짜\n",
    "date='21_10_08'"
   ]
  },
  {
   "cell_type": "markdown",
   "metadata": {},
   "source": [
    "# 엑셀에서 검색할 도시 정보 불러오기"
   ]
  },
  {
   "cell_type": "code",
   "execution_count": 2,
   "metadata": {},
   "outputs": [
    {
     "data": {
      "text/plain": [
       "'/Users/mycelebs_28/Desktop/staypia_city_데이터수집'"
      ]
     },
     "execution_count": 2,
     "metadata": {},
     "output_type": "execute_result"
    }
   ],
   "source": [
    "Desktop = os.path.dirname(os.getcwd())\n",
    "Desktop"
   ]
  },
  {
   "cell_type": "code",
   "execution_count": 6,
   "metadata": {
    "scrolled": true
   },
   "outputs": [
    {
     "data": {
      "text/html": [
       "<div>\n",
       "<style scoped>\n",
       "    .dataframe tbody tr th:only-of-type {\n",
       "        vertical-align: middle;\n",
       "    }\n",
       "\n",
       "    .dataframe tbody tr th {\n",
       "        vertical-align: top;\n",
       "    }\n",
       "\n",
       "    .dataframe thead th {\n",
       "        text-align: right;\n",
       "    }\n",
       "</style>\n",
       "<table border=\"1\" class=\"dataframe\">\n",
       "  <thead>\n",
       "    <tr style=\"text-align: right;\">\n",
       "      <th></th>\n",
       "      <th>cd_idx</th>\n",
       "      <th>country_name</th>\n",
       "      <th>cd_name</th>\n",
       "    </tr>\n",
       "  </thead>\n",
       "  <tbody>\n",
       "    <tr>\n",
       "      <th>0</th>\n",
       "      <td>1218202</td>\n",
       "      <td>United States</td>\n",
       "      <td>Kailua-Kona</td>\n",
       "    </tr>\n",
       "    <tr>\n",
       "      <th>1</th>\n",
       "      <td>1218225</td>\n",
       "      <td>United States</td>\n",
       "      <td>Washington</td>\n",
       "    </tr>\n",
       "    <tr>\n",
       "      <th>2</th>\n",
       "      <td>1228306</td>\n",
       "      <td>United States</td>\n",
       "      <td>New York</td>\n",
       "    </tr>\n",
       "    <tr>\n",
       "      <th>3</th>\n",
       "      <td>1228310</td>\n",
       "      <td>United States</td>\n",
       "      <td>Niagara Falls</td>\n",
       "    </tr>\n",
       "    <tr>\n",
       "      <th>4</th>\n",
       "      <td>3084668</td>\n",
       "      <td>United States</td>\n",
       "      <td>Bryce Canyon</td>\n",
       "    </tr>\n",
       "    <tr>\n",
       "      <th>...</th>\n",
       "      <td>...</td>\n",
       "      <td>...</td>\n",
       "      <td>...</td>\n",
       "    </tr>\n",
       "    <tr>\n",
       "      <th>124</th>\n",
       "      <td>1223570</td>\n",
       "      <td>Thailand</td>\n",
       "      <td>Kanchanaburi City</td>\n",
       "    </tr>\n",
       "    <tr>\n",
       "      <th>125</th>\n",
       "      <td>1223581</td>\n",
       "      <td>Thailand</td>\n",
       "      <td>Chon Buri</td>\n",
       "    </tr>\n",
       "    <tr>\n",
       "      <th>126</th>\n",
       "      <td>1228820</td>\n",
       "      <td>Thailand</td>\n",
       "      <td>Wang Nam Khieo</td>\n",
       "    </tr>\n",
       "    <tr>\n",
       "      <th>127</th>\n",
       "      <td>3033505</td>\n",
       "      <td>Thailand</td>\n",
       "      <td>Ban Dan Makham Tia</td>\n",
       "    </tr>\n",
       "    <tr>\n",
       "      <th>128</th>\n",
       "      <td>3112058</td>\n",
       "      <td>Thailand</td>\n",
       "      <td>Ko Phangan</td>\n",
       "    </tr>\n",
       "  </tbody>\n",
       "</table>\n",
       "<p>129 rows × 3 columns</p>\n",
       "</div>"
      ],
      "text/plain": [
       "      cd_idx   country_name             cd_name\n",
       "0    1218202  United States         Kailua-Kona\n",
       "1    1218225  United States          Washington\n",
       "2    1228306  United States            New York\n",
       "3    1228310  United States       Niagara Falls\n",
       "4    3084668  United States        Bryce Canyon\n",
       "..       ...            ...                 ...\n",
       "124  1223570       Thailand   Kanchanaburi City\n",
       "125  1223581       Thailand           Chon Buri\n",
       "126  1228820       Thailand      Wang Nam Khieo\n",
       "127  3033505       Thailand  Ban Dan Makham Tia\n",
       "128  3112058       Thailand          Ko Phangan\n",
       "\n",
       "[129 rows x 3 columns]"
      ]
     },
     "execution_count": 6,
     "metadata": {},
     "output_type": "execute_result"
    }
   ],
   "source": [
    "def is_nan(num):\n",
    "    return num != num\n",
    "\n",
    "\n",
    "#전달 받은 수집해야할 도시 데이터 파일 경로 입력\n",
    "file_path=Desktop+\"/data/mapped_city_list.xlsx\"\n",
    "data = pd.read_excel(file_path)\n",
    "data"
   ]
  },
  {
   "cell_type": "markdown",
   "metadata": {},
   "source": [
    "# DB에서 국가 이름 불러와서 딕셔너리로- 수집파일에 국가이름이 없는 경우에만"
   ]
  },
  {
   "cell_type": "code",
   "execution_count": 6,
   "metadata": {},
   "outputs": [
    {
     "name": "stdout",
     "output_type": "stream",
     "text": [
      " DB connect success!\n"
     ]
    }
   ],
   "source": [
    "host_url = \"db.ds.mycelebs.com\"\n",
    "user_nm = \"wlsgml9975\"\n",
    "passwd = \"mycelebs2021!\"\n",
    "port_num = 3306\n",
    "db_name = \"mybucketlist\"\n",
    "engine = create_engine(f'mysql+pymysql://{user_nm}:{passwd}@{host_url}:{port_num}/{db_name}?charset=utf8mb4')\n",
    "engine_conn = engine.connect()\n",
    "print(\" DB connect success!\")"
   ]
  },
  {
   "cell_type": "code",
   "execution_count": 7,
   "metadata": {},
   "outputs": [
    {
     "data": {
      "text/html": [
       "<div>\n",
       "<style scoped>\n",
       "    .dataframe tbody tr th:only-of-type {\n",
       "        vertical-align: middle;\n",
       "    }\n",
       "\n",
       "    .dataframe tbody tr th {\n",
       "        vertical-align: top;\n",
       "    }\n",
       "\n",
       "    .dataframe thead th {\n",
       "        text-align: right;\n",
       "    }\n",
       "</style>\n",
       "<table border=\"1\" class=\"dataframe\">\n",
       "  <thead>\n",
       "    <tr style=\"text-align: right;\">\n",
       "      <th></th>\n",
       "      <th>cd_country</th>\n",
       "      <th>country_name</th>\n",
       "    </tr>\n",
       "  </thead>\n",
       "  <tbody>\n",
       "    <tr>\n",
       "      <th>0</th>\n",
       "      <td>bh</td>\n",
       "      <td>Bahrain</td>\n",
       "    </tr>\n",
       "    <tr>\n",
       "      <th>1</th>\n",
       "      <td>ck</td>\n",
       "      <td>Cook Islands</td>\n",
       "    </tr>\n",
       "    <tr>\n",
       "      <th>2</th>\n",
       "      <td>gt</td>\n",
       "      <td>Guatemala</td>\n",
       "    </tr>\n",
       "    <tr>\n",
       "      <th>3</th>\n",
       "      <td>ke</td>\n",
       "      <td>Kenya</td>\n",
       "    </tr>\n",
       "    <tr>\n",
       "      <th>4</th>\n",
       "      <td>pk</td>\n",
       "      <td>Pakistan</td>\n",
       "    </tr>\n",
       "    <tr>\n",
       "      <th>...</th>\n",
       "      <td>...</td>\n",
       "      <td>...</td>\n",
       "    </tr>\n",
       "    <tr>\n",
       "      <th>197</th>\n",
       "      <td>cu</td>\n",
       "      <td>Cuba</td>\n",
       "    </tr>\n",
       "    <tr>\n",
       "      <th>198</th>\n",
       "      <td>ai</td>\n",
       "      <td>Anguilla</td>\n",
       "    </tr>\n",
       "    <tr>\n",
       "      <th>199</th>\n",
       "      <td>vg</td>\n",
       "      <td>UK Virgin Islands</td>\n",
       "    </tr>\n",
       "    <tr>\n",
       "      <th>200</th>\n",
       "      <td>as</td>\n",
       "      <td>American Samoa</td>\n",
       "    </tr>\n",
       "    <tr>\n",
       "      <th>201</th>\n",
       "      <td>gq</td>\n",
       "      <td>Equatorial Guinea</td>\n",
       "    </tr>\n",
       "  </tbody>\n",
       "</table>\n",
       "<p>202 rows × 2 columns</p>\n",
       "</div>"
      ],
      "text/plain": [
       "    cd_country       country_name\n",
       "0           bh            Bahrain\n",
       "1           ck       Cook Islands\n",
       "2           gt          Guatemala\n",
       "3           ke              Kenya\n",
       "4           pk           Pakistan\n",
       "..         ...                ...\n",
       "197         cu               Cuba\n",
       "198         ai           Anguilla\n",
       "199         vg  UK Virgin Islands\n",
       "200         as     American Samoa\n",
       "201         gq  Equatorial Guinea\n",
       "\n",
       "[202 rows x 2 columns]"
      ]
     },
     "execution_count": 7,
     "metadata": {},
     "output_type": "execute_result"
    }
   ],
   "source": [
    "db_country = pd.read_sql('select DISTINCT cd_country, country_name from service_city_data', engine_conn)\n",
    "db_country"
   ]
  },
  {
   "cell_type": "code",
   "execution_count": 8,
   "metadata": {},
   "outputs": [
    {
     "data": {
      "text/plain": [
       "202"
      ]
     },
     "execution_count": 8,
     "metadata": {},
     "output_type": "execute_result"
    }
   ],
   "source": [
    "len(db_country)"
   ]
  },
  {
   "cell_type": "code",
   "execution_count": 10,
   "metadata": {},
   "outputs": [],
   "source": [
    "db_cd_country_list=[]\n",
    "db_country_name_list=[]"
   ]
  },
  {
   "cell_type": "code",
   "execution_count": 11,
   "metadata": {
    "scrolled": true
   },
   "outputs": [],
   "source": [
    "for i in range(len(db_country)):\n",
    "    db_cd_country_list.append(db_country['cd_country'][i])\n",
    "    db_country_name_list.append(db_country['country_name'][i])"
   ]
  },
  {
   "cell_type": "code",
   "execution_count": 14,
   "metadata": {},
   "outputs": [
    {
     "data": {
      "text/plain": [
       "{'bh': 'Bahrain',\n",
       " 'ck': 'Cook Islands',\n",
       " 'gt': 'Guatemala',\n",
       " 'ke': 'Kenya',\n",
       " 'pk': 'Pakistan',\n",
       " 'es': 'Spain',\n",
       " 'to': 'Tonga',\n",
       " 'mx': 'Mexico',\n",
       " 'si': 'Slovenia',\n",
       " 'zw': 'Zimbabwe',\n",
       " 'id': 'Indonesia',\n",
       " 'gr': 'Greece',\n",
       " 'bb': 'Barbados',\n",
       " 'hr': 'Croatia',\n",
       " 'it': 'Italy',\n",
       " 'za': 'South Africa',\n",
       " 'co': 'Colombia',\n",
       " 'la': 'Laos',\n",
       " 'tw': 'Taiwan',\n",
       " 'ar': 'Argentina',\n",
       " 'tr': 'Turkey',\n",
       " 'au': 'Australia',\n",
       " 'in': 'India',\n",
       " 'pf': 'French Polynesia',\n",
       " 'cn': 'China',\n",
       " 'bo': 'Bolivia',\n",
       " 'dk': 'Denmark',\n",
       " 'bd': 'Bangladesh',\n",
       " 'mz': 'Mozambique',\n",
       " 'mf': 'Saint Martin',\n",
       " 'pl': 'Poland',\n",
       " 'fr': 'France',\n",
       " 'ls': 'Lesotho',\n",
       " 'mr': 'Mauritania',\n",
       " 'bw': 'Botswana',\n",
       " 'ad': 'Andorra',\n",
       " 'bm': 'Bermuda',\n",
       " 'fi': 'Finland',\n",
       " 'sz': 'Swaziland',\n",
       " 'ga': 'Gabon',\n",
       " 'ag': 'Antigua & Barbuda',\n",
       " 'sc': 'Seychelles',\n",
       " 'sl': 'Sierra Leone',\n",
       " 'lc': 'Saint Lucia',\n",
       " 'cv': 'Cape Verde',\n",
       " 'tt': 'Trinidad and Tobago',\n",
       " 'st': 'São Tomé and Príncip',\n",
       " 'tc': 'Turks & Caicos Islan',\n",
       " 'kn': 'Saint Kitts and Nevi',\n",
       " 'mu': 'Mauritius',\n",
       " 'aw': 'Aruba',\n",
       " 'ws': 'Samoa',\n",
       " 'mv': 'Maldives',\n",
       " 'hk': 'Hong Kong',\n",
       " 'dm': 'Dominica',\n",
       " 'na': 'Namibia',\n",
       " 'bn': 'Brunei Darussalam',\n",
       " 'bj': 'Benin',\n",
       " 'vc': 'Saint Vincent & Gren',\n",
       " 'mo': 'Macao',\n",
       " 'gd': 'Grenada',\n",
       " 'ro': 'Romania',\n",
       " 'gm': 'Gambia',\n",
       " 'fj': 'Fiji',\n",
       " 'ky': 'Cayman Islands',\n",
       " 'gn': 'Guinea',\n",
       " 'bz': 'Belize',\n",
       " 'ni': 'Nicaragua',\n",
       " 'cr': 'Costa Rica',\n",
       " 'sv': 'El Salvador',\n",
       " 'gi': 'Gibraltar',\n",
       " 'hn': 'Honduras',\n",
       " 'ua': 'Ukraine',\n",
       " 'ml': 'Mali',\n",
       " 'kh': 'Cambodia',\n",
       " 'np': 'Nepal',\n",
       " 'ec': 'Ecuador',\n",
       " 'gy': 'Guyana',\n",
       " 'gf': 'French Guiana',\n",
       " 'sr': 'Suriname',\n",
       " 'py': 'Paraguay',\n",
       " 'jo': 'Jordan',\n",
       " 'uy': 'Uruguay',\n",
       " 've': 'Venezuela',\n",
       " 'cl': 'Chile',\n",
       " 'hu': 'Hungary',\n",
       " 'sk': 'Slovakia',\n",
       " 'bg': 'Bulgaria',\n",
       " 'ae': 'United Arab Emirates',\n",
       " 'il': 'Israel',\n",
       " 'lb': 'Lebanon',\n",
       " 'kw': 'Kuwait',\n",
       " 'om': 'Oman',\n",
       " 'kr': 'South Korea',\n",
       " 'qa': 'Qatar',\n",
       " 'br': 'Brazil',\n",
       " 'tn': 'Tunisia',\n",
       " 'et': 'Ethiopia',\n",
       " 'ca': 'Canada',\n",
       " 'cz': 'Czech Republic',\n",
       " 'jm': 'Jamaica',\n",
       " 'vn': 'Vietnam',\n",
       " 'th': 'Thailand',\n",
       " 'lv': 'Latvia',\n",
       " 'ru': 'Russia',\n",
       " 'cm': 'Cameroon',\n",
       " 'iq': 'Iraq',\n",
       " 'sa': 'Saudi Arabia',\n",
       " 'mm': 'Myanmar',\n",
       " 'dz': 'Algeria',\n",
       " 'fo': 'Faroe Islands',\n",
       " 'cy': 'Cyprus',\n",
       " 'az': 'Azerbaijan',\n",
       " 'gb': 'United Kingdom',\n",
       " 'pe': 'Peru',\n",
       " 'no': 'Norway',\n",
       " 'eg': 'Egypt',\n",
       " 'ee': 'Estonia',\n",
       " 'jp': 'Japan',\n",
       " 'pa': 'Panama',\n",
       " 'mg': 'Madagascar',\n",
       " 'sm': 'San Marino',\n",
       " 'ch': 'Switzerland',\n",
       " 'se': 'Sweden',\n",
       " 'ph': 'Philippines',\n",
       " 'uz': 'Uzbekistan',\n",
       " 'tz': 'Tanzania',\n",
       " 'my': 'Malaysia',\n",
       " 'tj': 'Tajikistan',\n",
       " 'ge': 'Georgia',\n",
       " 'xa': 'Abkhazia',\n",
       " 'am': 'Armenia',\n",
       " 'ba': 'Bosnia and Herzegovi',\n",
       " 'me': 'Montenegro',\n",
       " 'zm': 'Zambia',\n",
       " 'md': 'Moldova',\n",
       " 'mn': 'Mongolia',\n",
       " 'xk': 'Kosovo',\n",
       " 'kz': 'Kazakhstan',\n",
       " 'mk': 'Macedonia',\n",
       " 'sn': 'Senegal',\n",
       " 'kg': 'Kyrgyzstan',\n",
       " 'rs': 'Serbia',\n",
       " 'al': 'Albania',\n",
       " 'sg': 'Singapore',\n",
       " 'ht': 'Haiti',\n",
       " 'ma': 'Morocco',\n",
       " 'lk': 'Sri Lanka',\n",
       " 'nl': 'Netherlands',\n",
       " 'mt': 'Malta',\n",
       " 'nz': 'New Zealand',\n",
       " 'de': 'Germany',\n",
       " 'ie': 'Ireland',\n",
       " 'vu': 'Vanuatu',\n",
       " 'lr': 'Liberia',\n",
       " 'ci': \"Côte d'Ivoire\",\n",
       " 'gh': 'Ghana',\n",
       " 'us': 'USA',\n",
       " 'cd': 'Democratic Republic ',\n",
       " 'dj': 'Djibouti',\n",
       " 'ng': 'Nigeria',\n",
       " 'at': 'Austria',\n",
       " 'gl': 'Greenland',\n",
       " 'be': 'Belgium',\n",
       " 'by': 'Belarus',\n",
       " 'pr': 'Puerto Rico',\n",
       " 'vi': 'US Virgin Islands',\n",
       " 'pt': 'Portugal',\n",
       " 'is': 'Iceland',\n",
       " 'nf': 'Norfolk Island',\n",
       " 'gu': 'Guam',\n",
       " 'ps': 'Palestinian Territor',\n",
       " 'mp': 'Northern Mariana Isl',\n",
       " 'sx': 'Sint Maarten',\n",
       " 'tl': 'East Timor',\n",
       " 'li': 'Liechtenstein',\n",
       " 'xc': 'Crimea',\n",
       " 'lu': 'Luxembourg',\n",
       " 'ug': 'Uganda',\n",
       " 'bf': 'Burkina Faso',\n",
       " 'nc': 'New Caledonia',\n",
       " 'mq': 'Martinique',\n",
       " 'sb': 'Solomon Islands',\n",
       " 'bs': 'Bahamas',\n",
       " 'tg': 'Togo',\n",
       " 'mw': 'Malawi',\n",
       " 'mc': 'Monaco',\n",
       " 'do': 'Dominican Republic',\n",
       " 'ao': 'Angola',\n",
       " 'lt': 'Lithuania',\n",
       " 'bt': 'Bhutan',\n",
       " 'cg': 'Congo',\n",
       " 'pg': 'Papua New Guinea',\n",
       " 'rw': 'Rwanda',\n",
       " 'pw': 'Palau',\n",
       " 'bi': 'Burundi',\n",
       " 'bl': 'Saint Barthelemy',\n",
       " 'cu': 'Cuba',\n",
       " 'ai': 'Anguilla',\n",
       " 'vg': 'UK Virgin Islands',\n",
       " 'as': 'American Samoa',\n",
       " 'gq': 'Equatorial Guinea'}"
      ]
     },
     "execution_count": 14,
     "metadata": {},
     "output_type": "execute_result"
    }
   ],
   "source": [
    "db_country_name_dict=dict(zip(db_cd_country_list,db_country_name_list))\n",
    "db_country_name_dict"
   ]
  },
  {
   "cell_type": "code",
   "execution_count": 15,
   "metadata": {},
   "outputs": [
    {
     "data": {
      "text/plain": [
       "202"
      ]
     },
     "execution_count": 15,
     "metadata": {},
     "output_type": "execute_result"
    }
   ],
   "source": [
    "len(db_country_name_dict)"
   ]
  },
  {
   "cell_type": "code",
   "execution_count": null,
   "metadata": {},
   "outputs": [],
   "source": [
    "engine_conn.close()\n",
    "engine.dispose()"
   ]
  },
  {
   "cell_type": "code",
   "execution_count": null,
   "metadata": {},
   "outputs": [],
   "source": []
  },
  {
   "cell_type": "code",
   "execution_count": null,
   "metadata": {},
   "outputs": [],
   "source": []
  },
  {
   "cell_type": "markdown",
   "metadata": {},
   "source": [
    "# pk 시작값 알아내기"
   ]
  },
  {
   "cell_type": "code",
   "execution_count": 8,
   "metadata": {},
   "outputs": [
    {
     "name": "stdout",
     "output_type": "stream",
     "text": [
      "DB connect success!\n"
     ]
    }
   ],
   "source": [
    "host_url = \"db.ds.mycelebs.com\"\n",
    "user_nm = \"wlsgml9975\"\n",
    "passwd = \"mycelebs2021!\"\n",
    "port_num = 3306\n",
    "db_name = \"staypia\"\n",
    "\n",
    "engine = create_engine(f'mysql+pymysql://{user_nm}:{passwd}@{host_url}:{port_num}/{db_name}?charset=utf8mb4')\n",
    "engine_conn = engine.connect()\n",
    "print(\"DB connect success!\")"
   ]
  },
  {
   "cell_type": "code",
   "execution_count": 9,
   "metadata": {},
   "outputs": [
    {
     "data": {
      "text/plain": [
       "60760"
      ]
     },
     "execution_count": 9,
     "metadata": {},
     "output_type": "execute_result"
    }
   ],
   "source": [
    "db_city_youtube_info = pd.read_sql('SELECT * FROM city_youtube_info', engine_conn)\n",
    "len(db_city_youtube_info)"
   ]
  },
  {
   "cell_type": "code",
   "execution_count": 13,
   "metadata": {},
   "outputs": [
    {
     "data": {
      "text/plain": [
       "60760"
      ]
     },
     "execution_count": 13,
     "metadata": {},
     "output_type": "execute_result"
    }
   ],
   "source": [
    "last_pk=db_city_youtube_info['pk'][len(db_city_youtube_info)-1]\n",
    "last_pk"
   ]
  },
  {
   "cell_type": "markdown",
   "metadata": {},
   "source": [
    "# 데이터 크롤링 시작"
   ]
  },
  {
   "cell_type": "code",
   "execution_count": null,
   "metadata": {},
   "outputs": [],
   "source": [
    "options = webdriver.ChromeOptions()\n",
    "#options.add_argument('headless')\n",
    "options.add_argument('--incognito')\n",
    "prefs = {'profile.default_content_setting_values': {'cookies': 2, 'images': 1, 'plugins': 2, 'popups': 2,\n",
    "                                                    'geolocation': 2, 'notifications': 2,\n",
    "                                                    'auto_select_certificate': 2, 'fullscreen': 2, 'mouselock': 2,\n",
    "                                                    'mixed_script': 2, 'media_stream': 2, 'media_stream_mic': 2,\n",
    "                                                    'media_stream_camera': 2, 'protocol_handlers': 2,\n",
    "                                                    'ppapi_broker': 2, 'automatic_downloads': 2, 'midi_sysex': 2,\n",
    "                                                    'push_messaging': 2, 'ssl_cert_decisions': 2,\n",
    "                                                    'metro_switch_to_desktop': 2, 'protected_media_identifier': 2,\n",
    "                                                    'app_banner': 2, 'site_engagement': 2, 'durable_storage': 2}}\n",
    "options.add_experimental_option('prefs', prefs)\n",
    "options.add_argument(\"start-maximized\")\n",
    "options.add_argument(\"disable-infobars\")\n",
    "options.add_argument(\"--disable-extensions\")\n",
    "\n",
    "drv       = webdriver.Chrome(ChromeDriverManager().install(), chrome_options=options)\n",
    "data_list = [] "
   ]
  },
  {
   "cell_type": "code",
   "execution_count": 12,
   "metadata": {
    "scrolled": true
   },
   "outputs": [
    {
     "name": "stderr",
     "output_type": "stream",
     "text": [
      "[WDM] - Current google-chrome version is 94.0.4606\n",
      "[WDM] - Get LATEST driver version for 94.0.4606\n"
     ]
    },
    {
     "name": "stdout",
     "output_type": "stream",
     "text": [
      " \n"
     ]
    },
    {
     "name": "stderr",
     "output_type": "stream",
     "text": [
      "[WDM] - Driver [/Users/mycelebs-it1/.wdm/drivers/chromedriver/mac64/94.0.4606.61/chromedriver] found in cache\n",
      "/Users/mycelebs-it1/opt/anaconda3/lib/python3.7/site-packages/ipykernel_launcher.py:18: DeprecationWarning: use options instead of chrome_options\n",
      "\n",
      "\n",
      "돌리는중:   0%|          | 0/129 [00:00<?, ?it/s]\u001b[A\u001b[A"
     ]
    },
    {
     "name": "stdout",
     "output_type": "stream",
     "text": [
      "United States Kailua-Kona travel\n"
     ]
    },
    {
     "name": "stderr",
     "output_type": "stream",
     "text": [
      "\n",
      "\n",
      "돌리는중:   1%|          | 1/129 [00:16<34:41, 16.26s/it]\u001b[A\u001b[A"
     ]
    },
    {
     "name": "stdout",
     "output_type": "stream",
     "text": [
      "United States Washington travel\n"
     ]
    },
    {
     "name": "stderr",
     "output_type": "stream",
     "text": [
      "\n",
      "\n",
      "돌리는중:   2%|▏         | 2/129 [00:30<33:00, 15.59s/it]\u001b[A\u001b[A"
     ]
    },
    {
     "name": "stdout",
     "output_type": "stream",
     "text": [
      "United States New York travel\n"
     ]
    },
    {
     "name": "stderr",
     "output_type": "stream",
     "text": [
      "\n",
      "\n",
      "돌리는중:   2%|▏         | 3/129 [00:43<31:28, 14.99s/it]\u001b[A\u001b[A"
     ]
    },
    {
     "name": "stdout",
     "output_type": "stream",
     "text": [
      "United States Niagara Falls travel\n"
     ]
    },
    {
     "name": "stderr",
     "output_type": "stream",
     "text": [
      "\n",
      "\n",
      "돌리는중:   3%|▎         | 4/129 [00:57<30:19, 14.56s/it]\u001b[A\u001b[A"
     ]
    },
    {
     "name": "stdout",
     "output_type": "stream",
     "text": [
      "United States Bryce Canyon travel\n"
     ]
    },
    {
     "name": "stderr",
     "output_type": "stream",
     "text": [
      "\n",
      "\n",
      "돌리는중:   4%|▍         | 5/129 [01:11<29:44, 14.39s/it]\u001b[A\u001b[A"
     ]
    },
    {
     "name": "stdout",
     "output_type": "stream",
     "text": [
      "United States Waterport travel\n"
     ]
    },
    {
     "name": "stderr",
     "output_type": "stream",
     "text": [
      "\n",
      "\n",
      "돌리는중:   5%|▍         | 6/129 [01:25<29:08, 14.21s/it]\u001b[A\u001b[A"
     ]
    },
    {
     "name": "stdout",
     "output_type": "stream",
     "text": [
      "Australia Margaret River Town travel\n"
     ]
    },
    {
     "name": "stderr",
     "output_type": "stream",
     "text": [
      "\n",
      "\n",
      "돌리는중:   5%|▌         | 7/129 [01:38<28:35, 14.06s/it]\u001b[A\u001b[A"
     ]
    },
    {
     "name": "stdout",
     "output_type": "stream",
     "text": [
      "Australia Stoney Creek travel\n"
     ]
    },
    {
     "name": "stderr",
     "output_type": "stream",
     "text": [
      "\n",
      "\n",
      "돌리는중:   6%|▌         | 8/129 [01:53<28:35, 14.18s/it]\u001b[A\u001b[A"
     ]
    },
    {
     "name": "stdout",
     "output_type": "stream",
     "text": [
      "Australia Saint Leonards travel\n"
     ]
    },
    {
     "name": "stderr",
     "output_type": "stream",
     "text": [
      "\n",
      "\n",
      "돌리는중:   7%|▋         | 9/129 [02:07<28:13, 14.11s/it]\u001b[A\u001b[A"
     ]
    },
    {
     "name": "stdout",
     "output_type": "stream",
     "text": [
      "Australia Rottnest Island travel\n"
     ]
    },
    {
     "name": "stderr",
     "output_type": "stream",
     "text": [
      "\n",
      "\n",
      "돌리는중:   8%|▊         | 10/129 [02:22<28:33, 14.40s/it]\u001b[A\u001b[A"
     ]
    },
    {
     "name": "stdout",
     "output_type": "stream",
     "text": [
      "Australia Noosa North Shore travel\n"
     ]
    },
    {
     "name": "stderr",
     "output_type": "stream",
     "text": [
      "\n",
      "\n",
      "돌리는중:   9%|▊         | 11/129 [02:36<27:58, 14.23s/it]\u001b[A\u001b[A"
     ]
    },
    {
     "name": "stdout",
     "output_type": "stream",
     "text": [
      "Canada Stoneham travel\n"
     ]
    },
    {
     "name": "stderr",
     "output_type": "stream",
     "text": [
      "\n",
      "\n",
      "돌리는중:   9%|▉         | 12/129 [02:50<27:30, 14.11s/it]\u001b[A\u001b[A"
     ]
    },
    {
     "name": "stdout",
     "output_type": "stream",
     "text": [
      "Canada Lake Louise travel\n"
     ]
    },
    {
     "name": "stderr",
     "output_type": "stream",
     "text": [
      "\n",
      "\n",
      "돌리는중:  10%|█         | 13/129 [03:03<26:58, 13.95s/it]\u001b[A\u001b[A"
     ]
    },
    {
     "name": "stdout",
     "output_type": "stream",
     "text": [
      "Canada St. Catharines travel\n"
     ]
    },
    {
     "name": "stderr",
     "output_type": "stream",
     "text": [
      "\n",
      "\n",
      "돌리는중:  11%|█         | 14/129 [03:17<26:50, 14.01s/it]\u001b[A\u001b[A"
     ]
    },
    {
     "name": "stdout",
     "output_type": "stream",
     "text": [
      "Canada Dawson City travel\n"
     ]
    },
    {
     "name": "stderr",
     "output_type": "stream",
     "text": [
      "\n",
      "\n",
      "돌리는중:  12%|█▏        | 15/129 [03:31<26:40, 14.04s/it]\u001b[A\u001b[A"
     ]
    },
    {
     "name": "stdout",
     "output_type": "stream",
     "text": [
      "Canada Niagara on the Lake travel\n"
     ]
    },
    {
     "name": "stderr",
     "output_type": "stream",
     "text": [
      "\n",
      "\n",
      "돌리는중:  12%|█▏        | 16/129 [03:45<26:14, 13.93s/it]\u001b[A\u001b[A"
     ]
    },
    {
     "name": "stdout",
     "output_type": "stream",
     "text": [
      "Canada Niagara Falls travel\n"
     ]
    },
    {
     "name": "stderr",
     "output_type": "stream",
     "text": [
      "\n",
      "\n",
      "돌리는중:  13%|█▎        | 17/129 [03:59<25:42, 13.78s/it]\u001b[A\u001b[A"
     ]
    },
    {
     "name": "stdout",
     "output_type": "stream",
     "text": [
      "Canada Mont-Tremblant travel\n"
     ]
    },
    {
     "name": "stderr",
     "output_type": "stream",
     "text": [
      "\n",
      "\n",
      "돌리는중:  14%|█▍        | 18/129 [04:13<25:51, 13.98s/it]\u001b[A\u001b[A"
     ]
    },
    {
     "name": "stdout",
     "output_type": "stream",
     "text": [
      "Canada Saint-Faustin travel\n"
     ]
    },
    {
     "name": "stderr",
     "output_type": "stream",
     "text": [
      "\n",
      "\n",
      "돌리는중:  15%|█▍        | 19/129 [04:26<25:20, 13.82s/it]\u001b[A\u001b[A"
     ]
    },
    {
     "name": "stdout",
     "output_type": "stream",
     "text": [
      "Canada Saint-Eustache travel\n"
     ]
    },
    {
     "name": "stderr",
     "output_type": "stream",
     "text": [
      "\n",
      "\n",
      "돌리는중:  16%|█▌        | 20/129 [04:41<25:15, 13.90s/it]\u001b[A\u001b[A"
     ]
    },
    {
     "name": "stdout",
     "output_type": "stream",
     "text": [
      "Canada St. Albert travel\n"
     ]
    },
    {
     "name": "stderr",
     "output_type": "stream",
     "text": [
      "\n",
      "\n",
      "돌리는중:  16%|█▋        | 21/129 [04:54<24:55, 13.85s/it]\u001b[A\u001b[A"
     ]
    },
    {
     "name": "stdout",
     "output_type": "stream",
     "text": [
      "Canada Gabriola travel\n"
     ]
    },
    {
     "name": "stderr",
     "output_type": "stream",
     "text": [
      "\n",
      "\n",
      "돌리는중:  17%|█▋        | 22/129 [05:08<24:36, 13.80s/it]\u001b[A\u001b[A"
     ]
    },
    {
     "name": "stdout",
     "output_type": "stream",
     "text": [
      "Canada OʼLeary travel\n"
     ]
    },
    {
     "name": "stderr",
     "output_type": "stream",
     "text": [
      "\n",
      "\n",
      "돌리는중:  18%|█▊        | 23/129 [05:22<24:29, 13.86s/it]\u001b[A\u001b[A"
     ]
    },
    {
     "name": "stdout",
     "output_type": "stream",
     "text": [
      "Canada Hammonds Plains travel\n"
     ]
    },
    {
     "name": "stderr",
     "output_type": "stream",
     "text": [
      "\n",
      "\n",
      "돌리는중:  19%|█▊        | 24/129 [05:36<24:08, 13.80s/it]\u001b[A\u001b[A"
     ]
    },
    {
     "name": "stdout",
     "output_type": "stream",
     "text": [
      "Switzerland Bouveret travel\n"
     ]
    },
    {
     "name": "stderr",
     "output_type": "stream",
     "text": [
      "\n",
      "\n",
      "돌리는중:  19%|█▉        | 25/129 [05:49<23:55, 13.80s/it]\u001b[A\u001b[A"
     ]
    },
    {
     "name": "stdout",
     "output_type": "stream",
     "text": [
      "Switzerland Bern travel\n"
     ]
    },
    {
     "name": "stderr",
     "output_type": "stream",
     "text": [
      "\n",
      "\n",
      "돌리는중:  20%|██        | 26/129 [06:03<23:33, 13.72s/it]\u001b[A\u001b[A"
     ]
    },
    {
     "name": "stdout",
     "output_type": "stream",
     "text": [
      "Switzerland St. Moritz travel\n"
     ]
    },
    {
     "name": "stderr",
     "output_type": "stream",
     "text": [
      "\n",
      "\n",
      "돌리는중:  21%|██        | 27/129 [06:17<23:16, 13.69s/it]\u001b[A\u001b[A"
     ]
    },
    {
     "name": "stdout",
     "output_type": "stream",
     "text": [
      "Switzerland Martigny-Ville travel\n"
     ]
    },
    {
     "name": "stderr",
     "output_type": "stream",
     "text": [
      "\n",
      "\n",
      "돌리는중:  22%|██▏       | 28/129 [06:30<22:57, 13.64s/it]\u001b[A\u001b[A"
     ]
    },
    {
     "name": "stdout",
     "output_type": "stream",
     "text": [
      "Switzerland Luzern travel\n"
     ]
    },
    {
     "name": "stderr",
     "output_type": "stream",
     "text": [
      "\n",
      "\n",
      "돌리는중:  22%|██▏       | 29/129 [06:45<23:11, 13.92s/it]\u001b[A\u001b[A"
     ]
    },
    {
     "name": "stdout",
     "output_type": "stream",
     "text": [
      "Switzerland Schönbühl travel\n"
     ]
    },
    {
     "name": "stderr",
     "output_type": "stream",
     "text": [
      "\n",
      "\n",
      "돌리는중:  23%|██▎       | 30/129 [06:58<22:43, 13.77s/it]\u001b[A\u001b[A"
     ]
    },
    {
     "name": "stdout",
     "output_type": "stream",
     "text": [
      "Switzerland Pully travel\n"
     ]
    },
    {
     "name": "stderr",
     "output_type": "stream",
     "text": [
      "\n",
      "\n",
      "돌리는중:  24%|██▍       | 31/129 [07:12<22:39, 13.87s/it]\u001b[A\u001b[A"
     ]
    },
    {
     "name": "stdout",
     "output_type": "stream",
     "text": [
      "Switzerland Warth travel\n"
     ]
    },
    {
     "name": "stderr",
     "output_type": "stream",
     "text": [
      "\n",
      "\n",
      "돌리는중:  25%|██▍       | 32/129 [07:25<22:06, 13.67s/it]\u001b[A\u001b[A"
     ]
    },
    {
     "name": "stdout",
     "output_type": "stream",
     "text": [
      "Germany Triberg travel\n"
     ]
    },
    {
     "name": "stderr",
     "output_type": "stream",
     "text": [
      "\n",
      "\n",
      "돌리는중:  26%|██▌       | 33/129 [07:39<21:54, 13.70s/it]\u001b[A\u001b[A"
     ]
    },
    {
     "name": "stdout",
     "output_type": "stream",
     "text": [
      "Germany Stolpe auf Usedom travel\n"
     ]
    },
    {
     "name": "stderr",
     "output_type": "stream",
     "text": [
      "\n",
      "\n",
      "돌리는중:  26%|██▋       | 34/129 [07:53<21:49, 13.78s/it]\u001b[A\u001b[A"
     ]
    },
    {
     "name": "stdout",
     "output_type": "stream",
     "text": [
      "Germany Immenstaad am Bodensee travel\n"
     ]
    },
    {
     "name": "stderr",
     "output_type": "stream",
     "text": [
      "\n",
      "\n",
      "돌리는중:  27%|██▋       | 35/129 [08:07<21:30, 13.73s/it]\u001b[A\u001b[A"
     ]
    },
    {
     "name": "stdout",
     "output_type": "stream",
     "text": [
      "Germany Köln travel\n"
     ]
    },
    {
     "name": "stderr",
     "output_type": "stream",
     "text": [
      "\n",
      "\n",
      "돌리는중:  28%|██▊       | 36/129 [08:20<21:08, 13.64s/it]\u001b[A\u001b[A"
     ]
    },
    {
     "name": "stdout",
     "output_type": "stream",
     "text": [
      "Germany Radolfzell am Bodensee travel\n"
     ]
    },
    {
     "name": "stderr",
     "output_type": "stream",
     "text": [
      "\n",
      "\n",
      "돌리는중:  29%|██▊       | 37/129 [08:34<20:47, 13.56s/it]\u001b[A\u001b[A"
     ]
    },
    {
     "name": "stdout",
     "output_type": "stream",
     "text": [
      "Germany Ostseebad Nienhagen travel\n"
     ]
    },
    {
     "name": "stderr",
     "output_type": "stream",
     "text": [
      "\n",
      "\n",
      "돌리는중:  29%|██▉       | 38/129 [08:47<20:28, 13.50s/it]\u001b[A\u001b[A"
     ]
    },
    {
     "name": "stdout",
     "output_type": "stream",
     "text": [
      "Germany München travel\n"
     ]
    },
    {
     "name": "stderr",
     "output_type": "stream",
     "text": [
      "\n",
      "\n",
      "돌리는중:  30%|███       | 39/129 [09:00<20:08, 13.43s/it]\u001b[A\u001b[A"
     ]
    },
    {
     "name": "stdout",
     "output_type": "stream",
     "text": [
      "Germany Nürnberg travel\n"
     ]
    },
    {
     "name": "stderr",
     "output_type": "stream",
     "text": [
      "\n",
      "\n",
      "돌리는중:  31%|███       | 40/129 [09:13<19:47, 13.34s/it]\u001b[A\u001b[A"
     ]
    },
    {
     "name": "stdout",
     "output_type": "stream",
     "text": [
      "Germany Hanau am Main travel\n"
     ]
    },
    {
     "name": "stderr",
     "output_type": "stream",
     "text": [
      "\n",
      "\n",
      "돌리는중:  32%|███▏      | 41/129 [09:27<19:34, 13.35s/it]\u001b[A\u001b[A"
     ]
    },
    {
     "name": "stdout",
     "output_type": "stream",
     "text": [
      "Germany Furtwangen travel\n"
     ]
    },
    {
     "name": "stderr",
     "output_type": "stream",
     "text": [
      "\n",
      "\n",
      "돌리는중:  33%|███▎      | 42/129 [09:41<19:44, 13.61s/it]\u001b[A\u001b[A"
     ]
    },
    {
     "name": "stdout",
     "output_type": "stream",
     "text": [
      "Germany Esslingen travel\n"
     ]
    },
    {
     "name": "stderr",
     "output_type": "stream",
     "text": [
      "\n",
      "\n",
      "돌리는중:  33%|███▎      | 43/129 [09:55<19:37, 13.69s/it]\u001b[A\u001b[A"
     ]
    },
    {
     "name": "stdout",
     "output_type": "stream",
     "text": [
      "Germany Eltville travel\n"
     ]
    },
    {
     "name": "stderr",
     "output_type": "stream",
     "text": [
      "\n",
      "\n",
      "돌리는중:  34%|███▍      | 44/129 [10:09<19:27, 13.73s/it]\u001b[A\u001b[A"
     ]
    },
    {
     "name": "stdout",
     "output_type": "stream",
     "text": [
      "Germany Breisach am Rhein travel\n"
     ]
    },
    {
     "name": "stderr",
     "output_type": "stream",
     "text": [
      "\n",
      "\n",
      "돌리는중:  35%|███▍      | 45/129 [10:22<19:05, 13.63s/it]\u001b[A\u001b[A"
     ]
    },
    {
     "name": "stdout",
     "output_type": "stream",
     "text": [
      "Germany Neu Ulm travel\n"
     ]
    },
    {
     "name": "stderr",
     "output_type": "stream",
     "text": [
      "\n",
      "\n",
      "돌리는중:  36%|███▌      | 46/129 [10:35<18:37, 13.47s/it]\u001b[A\u001b[A"
     ]
    },
    {
     "name": "stdout",
     "output_type": "stream",
     "text": [
      "Germany Monheim travel\n"
     ]
    },
    {
     "name": "stderr",
     "output_type": "stream",
     "text": [
      "\n",
      "\n",
      "돌리는중:  36%|███▋      | 47/129 [10:48<18:23, 13.46s/it]\u001b[A\u001b[A"
     ]
    },
    {
     "name": "stdout",
     "output_type": "stream",
     "text": [
      "Germany Oberschleißheim travel\n"
     ]
    },
    {
     "name": "stderr",
     "output_type": "stream",
     "text": [
      "\n",
      "\n",
      "돌리는중:  37%|███▋      | 48/129 [11:02<18:10, 13.46s/it]\u001b[A\u001b[A"
     ]
    },
    {
     "name": "stdout",
     "output_type": "stream",
     "text": [
      "Spain Calvia Town travel\n"
     ]
    },
    {
     "name": "stderr",
     "output_type": "stream",
     "text": [
      "\n",
      "\n",
      "돌리는중:  38%|███▊      | 49/129 [11:15<17:52, 13.41s/it]\u001b[A\u001b[A"
     ]
    },
    {
     "name": "stdout",
     "output_type": "stream",
     "text": [
      "Spain Magalluf travel\n"
     ]
    },
    {
     "name": "stderr",
     "output_type": "stream",
     "text": [
      "\n",
      "\n",
      "돌리는중:  39%|███▉      | 50/129 [11:29<17:40, 13.42s/it]\u001b[A\u001b[A"
     ]
    },
    {
     "name": "stdout",
     "output_type": "stream",
     "text": [
      "Spain San Ferrán de ses Roques travel\n"
     ]
    },
    {
     "name": "stderr",
     "output_type": "stream",
     "text": [
      "\n",
      "\n",
      "돌리는중:  40%|███▉      | 51/129 [11:42<17:30, 13.46s/it]\u001b[A\u001b[A"
     ]
    },
    {
     "name": "stdout",
     "output_type": "stream",
     "text": [
      "Spain Playa d'en Bossa travel\n"
     ]
    },
    {
     "name": "stderr",
     "output_type": "stream",
     "text": [
      "\n",
      "\n",
      "돌리는중:  40%|████      | 52/129 [11:56<17:17, 13.47s/it]\u001b[A\u001b[A"
     ]
    },
    {
     "name": "stdout",
     "output_type": "stream",
     "text": [
      "Spain Sevilla travel\n"
     ]
    },
    {
     "name": "stderr",
     "output_type": "stream",
     "text": [
      "\n",
      "\n",
      "돌리는중:  41%|████      | 53/129 [12:09<16:58, 13.40s/it]\u001b[A\u001b[A"
     ]
    },
    {
     "name": "stdout",
     "output_type": "stream",
     "text": [
      "Spain Fuencaliente de la Palma travel\n"
     ]
    },
    {
     "name": "stderr",
     "output_type": "stream",
     "text": [
      "\n",
      "\n",
      "돌리는중:  42%|████▏     | 54/129 [12:23<16:49, 13.46s/it]\u001b[A\u001b[A"
     ]
    },
    {
     "name": "stdout",
     "output_type": "stream",
     "text": [
      "Spain San Jose de sa Talaia travel\n"
     ]
    },
    {
     "name": "stderr",
     "output_type": "stream",
     "text": [
      "\n",
      "\n",
      "돌리는중:  43%|████▎     | 55/129 [12:36<16:32, 13.41s/it]\u001b[A\u001b[A"
     ]
    },
    {
     "name": "stdout",
     "output_type": "stream",
     "text": [
      "Spain La Granja de San Ildefonso travel\n"
     ]
    },
    {
     "name": "stderr",
     "output_type": "stream",
     "text": [
      "\n",
      "\n",
      "돌리는중:  43%|████▎     | 56/129 [12:49<16:16, 13.38s/it]\u001b[A\u001b[A"
     ]
    },
    {
     "name": "stdout",
     "output_type": "stream",
     "text": [
      "Spain San Francisco Javier travel\n"
     ]
    },
    {
     "name": "stderr",
     "output_type": "stream",
     "text": [
      "\n",
      "\n",
      "돌리는중:  44%|████▍     | 57/129 [13:03<16:03, 13.39s/it]\u001b[A\u001b[A"
     ]
    },
    {
     "name": "stdout",
     "output_type": "stream",
     "text": [
      "Spain La Laguna travel\n"
     ]
    },
    {
     "name": "stderr",
     "output_type": "stream",
     "text": [
      "\n",
      "\n",
      "돌리는중:  45%|████▍     | 58/129 [13:16<15:50, 13.38s/it]\u001b[A\u001b[A"
     ]
    },
    {
     "name": "stdout",
     "output_type": "stream",
     "text": [
      "Spain San Bartolomé travel\n"
     ]
    },
    {
     "name": "stderr",
     "output_type": "stream",
     "text": [
      "\n",
      "\n",
      "돌리는중:  46%|████▌     | 59/129 [13:29<15:37, 13.39s/it]\u001b[A\u001b[A"
     ]
    },
    {
     "name": "stdout",
     "output_type": "stream",
     "text": [
      "Spain San Antonio travel\n"
     ]
    },
    {
     "name": "stderr",
     "output_type": "stream",
     "text": [
      "\n",
      "\n",
      "돌리는중:  47%|████▋     | 60/129 [13:42<15:18, 13.31s/it]\u001b[A\u001b[A"
     ]
    },
    {
     "name": "stdout",
     "output_type": "stream",
     "text": [
      "Spain Port de la Selva travel\n"
     ]
    },
    {
     "name": "stderr",
     "output_type": "stream",
     "text": [
      "\n",
      "\n",
      "돌리는중:  47%|████▋     | 61/129 [13:56<15:08, 13.36s/it]\u001b[A\u001b[A"
     ]
    },
    {
     "name": "stdout",
     "output_type": "stream",
     "text": [
      "Spain Pola de Somiedo travel\n"
     ]
    },
    {
     "name": "stderr",
     "output_type": "stream",
     "text": [
      "\n",
      "\n",
      "돌리는중:  48%|████▊     | 62/129 [14:09<14:56, 13.39s/it]\u001b[A\u001b[A"
     ]
    },
    {
     "name": "stdout",
     "output_type": "stream",
     "text": [
      "Spain Port d'Alcudia travel\n"
     ]
    },
    {
     "name": "stderr",
     "output_type": "stream",
     "text": [
      "\n",
      "\n",
      "돌리는중:  49%|████▉     | 63/129 [14:23<14:48, 13.46s/it]\u001b[A\u001b[A"
     ]
    },
    {
     "name": "stdout",
     "output_type": "stream",
     "text": [
      "Spain Mazo travel\n"
     ]
    },
    {
     "name": "stderr",
     "output_type": "stream",
     "text": [
      "\n",
      "\n",
      "돌리는중:  50%|████▉     | 64/129 [14:36<14:32, 13.42s/it]\u001b[A\u001b[A"
     ]
    },
    {
     "name": "stdout",
     "output_type": "stream",
     "text": [
      "Spain Ciutadella travel\n"
     ]
    },
    {
     "name": "stderr",
     "output_type": "stream",
     "text": [
      "\n",
      "\n",
      "돌리는중:  50%|█████     | 65/129 [14:50<14:16, 13.38s/it]\u001b[A\u001b[A"
     ]
    },
    {
     "name": "stdout",
     "output_type": "stream",
     "text": [
      "Spain Los Sauces travel\n"
     ]
    },
    {
     "name": "stderr",
     "output_type": "stream",
     "text": [
      "\n",
      "\n",
      "돌리는중:  51%|█████     | 66/129 [15:03<13:58, 13.31s/it]\u001b[A\u001b[A"
     ]
    },
    {
     "name": "stdout",
     "output_type": "stream",
     "text": [
      "Spain Puerto de San Miguel travel\n"
     ]
    },
    {
     "name": "stderr",
     "output_type": "stream",
     "text": [
      "\n",
      "\n",
      "돌리는중:  52%|█████▏    | 67/129 [15:16<13:47, 13.34s/it]\u001b[A\u001b[A"
     ]
    },
    {
     "name": "stdout",
     "output_type": "stream",
     "text": [
      "Spain Aizoáin travel\n"
     ]
    },
    {
     "name": "stderr",
     "output_type": "stream",
     "text": [
      "\n",
      "\n",
      "돌리는중:  53%|█████▎    | 68/129 [15:29<13:26, 13.21s/it]\u001b[A\u001b[A"
     ]
    },
    {
     "name": "stdout",
     "output_type": "stream",
     "text": [
      "France Cap d'Ail travel\n"
     ]
    },
    {
     "name": "stderr",
     "output_type": "stream",
     "text": [
      "\n",
      "\n",
      "돌리는중:  53%|█████▎    | 69/129 [15:42<13:13, 13.23s/it]\u001b[A\u001b[A"
     ]
    },
    {
     "name": "stdout",
     "output_type": "stream",
     "text": [
      "France Mandelieu La Napoule travel\n"
     ]
    },
    {
     "name": "stderr",
     "output_type": "stream",
     "text": [
      "\n",
      "\n",
      "돌리는중:  54%|█████▍    | 70/129 [15:56<13:02, 13.27s/it]\u001b[A\u001b[A"
     ]
    },
    {
     "name": "stdout",
     "output_type": "stream",
     "text": [
      "France Le Mont Saint Michel travel\n"
     ]
    },
    {
     "name": "stderr",
     "output_type": "stream",
     "text": [
      "\n",
      "\n",
      "돌리는중:  55%|█████▌    | 71/129 [16:09<12:53, 13.34s/it]\u001b[A\u001b[A"
     ]
    },
    {
     "name": "stdout",
     "output_type": "stream",
     "text": [
      "France Sixt travel\n"
     ]
    },
    {
     "name": "stderr",
     "output_type": "stream",
     "text": [
      "\n",
      "\n",
      "돌리는중:  56%|█████▌    | 72/129 [16:23<12:39, 13.32s/it]\u001b[A\u001b[A"
     ]
    },
    {
     "name": "stdout",
     "output_type": "stream",
     "text": [
      "France Saint Malo travel\n"
     ]
    },
    {
     "name": "stderr",
     "output_type": "stream",
     "text": [
      "\n",
      "\n",
      "돌리는중:  57%|█████▋    | 73/129 [16:36<12:23, 13.27s/it]\u001b[A\u001b[A"
     ]
    },
    {
     "name": "stdout",
     "output_type": "stream",
     "text": [
      "France Gonfreville-lʼOrcher travel\n"
     ]
    },
    {
     "name": "stderr",
     "output_type": "stream",
     "text": [
      "\n",
      "\n",
      "돌리는중:  57%|█████▋    | 74/129 [16:49<12:11, 13.30s/it]\u001b[A\u001b[A"
     ]
    },
    {
     "name": "stdout",
     "output_type": "stream",
     "text": [
      "France Duilhac travel\n"
     ]
    },
    {
     "name": "stderr",
     "output_type": "stream",
     "text": [
      "\n",
      "\n",
      "돌리는중:  58%|█████▊    | 75/129 [17:02<11:55, 13.26s/it]\u001b[A\u001b[A"
     ]
    },
    {
     "name": "stdout",
     "output_type": "stream",
     "text": [
      "France Sainte-Mondane travel\n"
     ]
    },
    {
     "name": "stderr",
     "output_type": "stream",
     "text": [
      "\n",
      "\n",
      "돌리는중:  59%|█████▉    | 76/129 [17:16<11:47, 13.35s/it]\u001b[A\u001b[A"
     ]
    },
    {
     "name": "stdout",
     "output_type": "stream",
     "text": [
      "France La Roche-Guyon travel\n"
     ]
    },
    {
     "name": "stderr",
     "output_type": "stream",
     "text": [
      "\n",
      "\n",
      "돌리는중:  60%|█████▉    | 77/129 [17:30<11:40, 13.48s/it]\u001b[A\u001b[A"
     ]
    },
    {
     "name": "stdout",
     "output_type": "stream",
     "text": [
      "France La Palud sur Verdon travel\n"
     ]
    },
    {
     "name": "stderr",
     "output_type": "stream",
     "text": [
      "\n",
      "\n",
      "돌리는중:  60%|██████    | 78/129 [17:43<11:25, 13.44s/it]\u001b[A\u001b[A"
     ]
    },
    {
     "name": "stdout",
     "output_type": "stream",
     "text": [
      "France Cricquebœuf travel\n"
     ]
    },
    {
     "name": "stderr",
     "output_type": "stream",
     "text": [
      "\n",
      "\n",
      "돌리는중:  61%|██████    | 79/129 [17:56<11:13, 13.47s/it]\u001b[A\u001b[A"
     ]
    },
    {
     "name": "stdout",
     "output_type": "stream",
     "text": [
      "United Kingdom Derry Londonderry travel\n"
     ]
    },
    {
     "name": "stderr",
     "output_type": "stream",
     "text": [
      "\n",
      "\n",
      "돌리는중:  62%|██████▏   | 80/129 [18:10<11:01, 13.50s/it]\u001b[A\u001b[A"
     ]
    },
    {
     "name": "stdout",
     "output_type": "stream",
     "text": [
      "United Kingdom Brighton & Hove travel\n"
     ]
    },
    {
     "name": "stderr",
     "output_type": "stream",
     "text": [
      "\n",
      "\n",
      "돌리는중:  63%|██████▎   | 81/129 [18:23<10:43, 13.40s/it]\u001b[A\u001b[A"
     ]
    },
    {
     "name": "stdout",
     "output_type": "stream",
     "text": [
      "United Kingdom Bourton on the Water travel\n"
     ]
    },
    {
     "name": "stderr",
     "output_type": "stream",
     "text": [
      "\n",
      "\n",
      "돌리는중:  64%|██████▎   | 82/129 [18:37<10:33, 13.48s/it]\u001b[A\u001b[A"
     ]
    },
    {
     "name": "stdout",
     "output_type": "stream",
     "text": [
      "United Kingdom Blaenau-Ffestiniog travel\n"
     ]
    },
    {
     "name": "stderr",
     "output_type": "stream",
     "text": [
      "\n",
      "\n",
      "돌리는중:  64%|██████▍   | 83/129 [18:50<10:19, 13.47s/it]\u001b[A\u001b[A"
     ]
    },
    {
     "name": "stdout",
     "output_type": "stream",
     "text": [
      "United Kingdom Stirling travel\n"
     ]
    },
    {
     "name": "stderr",
     "output_type": "stream",
     "text": [
      "\n",
      "\n",
      "돌리는중:  65%|██████▌   | 84/129 [19:04<10:04, 13.44s/it]\u001b[A\u001b[A"
     ]
    },
    {
     "name": "stdout",
     "output_type": "stream",
     "text": [
      "United Kingdom Newcastle upon Tyne travel\n"
     ]
    },
    {
     "name": "stderr",
     "output_type": "stream",
     "text": [
      "\n",
      "\n",
      "돌리는중:  66%|██████▌   | 85/129 [19:17<09:52, 13.47s/it]\u001b[A\u001b[A"
     ]
    },
    {
     "name": "stdout",
     "output_type": "stream",
     "text": [
      "United Kingdom Moreton in Marsh travel\n"
     ]
    },
    {
     "name": "stderr",
     "output_type": "stream",
     "text": [
      "\n",
      "\n",
      "돌리는중:  67%|██████▋   | 86/129 [19:31<09:37, 13.43s/it]\u001b[A\u001b[A"
     ]
    },
    {
     "name": "stdout",
     "output_type": "stream",
     "text": [
      "United Kingdom Saint Leonards travel\n"
     ]
    },
    {
     "name": "stderr",
     "output_type": "stream",
     "text": [
      "\n",
      "\n",
      "돌리는중:  67%|██████▋   | 87/129 [19:44<09:22, 13.40s/it]\u001b[A\u001b[A"
     ]
    },
    {
     "name": "stdout",
     "output_type": "stream",
     "text": [
      "Italy Toscolano Maderno travel\n"
     ]
    },
    {
     "name": "stderr",
     "output_type": "stream",
     "text": [
      "\n",
      "\n",
      "돌리는중:  68%|██████▊   | 88/129 [19:57<09:08, 13.39s/it]\u001b[A\u001b[A"
     ]
    },
    {
     "name": "stdout",
     "output_type": "stream",
     "text": [
      "Italy Siracusa travel\n"
     ]
    },
    {
     "name": "stderr",
     "output_type": "stream",
     "text": [
      "\n",
      "\n",
      "돌리는중:  69%|██████▉   | 89/129 [20:10<08:53, 13.34s/it]\u001b[A\u001b[A"
     ]
    },
    {
     "name": "stdout",
     "output_type": "stream",
     "text": [
      "Italy Barberino di Val dʼElsa travel\n"
     ]
    },
    {
     "name": "stderr",
     "output_type": "stream",
     "text": [
      "\n",
      "\n",
      "돌리는중:  70%|██████▉   | 90/129 [20:24<08:39, 13.32s/it]\u001b[A\u001b[A"
     ]
    },
    {
     "name": "stdout",
     "output_type": "stream",
     "text": [
      "Italy Tremosine Sul Garda travel\n"
     ]
    },
    {
     "name": "stderr",
     "output_type": "stream",
     "text": [
      "\n",
      "\n",
      "돌리는중:  71%|███████   | 91/129 [20:37<08:28, 13.38s/it]\u001b[A\u001b[A"
     ]
    },
    {
     "name": "stdout",
     "output_type": "stream",
     "text": [
      "Italy Padova travel\n"
     ]
    },
    {
     "name": "stderr",
     "output_type": "stream",
     "text": [
      "\n",
      "\n",
      "돌리는중:  71%|███████▏  | 92/129 [20:51<08:22, 13.58s/it]\u001b[A\u001b[A"
     ]
    },
    {
     "name": "stdout",
     "output_type": "stream",
     "text": [
      "Italy Napoli travel\n"
     ]
    },
    {
     "name": "stderr",
     "output_type": "stream",
     "text": [
      "\n",
      "\n",
      "돌리는중:  72%|███████▏  | 93/129 [21:05<08:10, 13.63s/it]\u001b[A\u001b[A"
     ]
    },
    {
     "name": "stdout",
     "output_type": "stream",
     "text": [
      "Italy Milano travel\n"
     ]
    },
    {
     "name": "stderr",
     "output_type": "stream",
     "text": [
      "\n",
      "\n",
      "돌리는중:  73%|███████▎  | 94/129 [21:19<07:57, 13.64s/it]\u001b[A\u001b[A"
     ]
    },
    {
     "name": "stdout",
     "output_type": "stream",
     "text": [
      "Italy Cortina dʼAmpezzo travel\n"
     ]
    },
    {
     "name": "stderr",
     "output_type": "stream",
     "text": [
      "\n",
      "\n",
      "돌리는중:  74%|███████▎  | 95/129 [21:32<07:40, 13.55s/it]\u001b[A\u001b[A"
     ]
    },
    {
     "name": "stdout",
     "output_type": "stream",
     "text": [
      "Italy Colle Val D'Elsa travel\n"
     ]
    },
    {
     "name": "stderr",
     "output_type": "stream",
     "text": [
      "\n",
      "\n",
      "돌리는중:  74%|███████▍  | 96/129 [21:45<07:24, 13.46s/it]\u001b[A\u001b[A"
     ]
    },
    {
     "name": "stdout",
     "output_type": "stream",
     "text": [
      "Italy Claino travel\n"
     ]
    },
    {
     "name": "stderr",
     "output_type": "stream",
     "text": [
      "\n",
      "\n",
      "돌리는중:  75%|███████▌  | 97/129 [21:59<07:10, 13.46s/it]\u001b[A\u001b[A"
     ]
    },
    {
     "name": "stdout",
     "output_type": "stream",
     "text": [
      "Italy Cava deʼ Tirreni travel\n"
     ]
    },
    {
     "name": "stderr",
     "output_type": "stream",
     "text": [
      "\n",
      "\n",
      "돌리는중:  76%|███████▌  | 98/129 [22:12<06:56, 13.43s/it]\u001b[A\u001b[A"
     ]
    },
    {
     "name": "stdout",
     "output_type": "stream",
     "text": [
      "Italy Lanzo dʼIntelvi travel\n"
     ]
    },
    {
     "name": "stderr",
     "output_type": "stream",
     "text": [
      "\n",
      "\n",
      "돌리는중:  77%|███████▋  | 99/129 [22:26<06:42, 13.43s/it]\u001b[A\u001b[A"
     ]
    },
    {
     "name": "stdout",
     "output_type": "stream",
     "text": [
      "Italy Ioppolo Giancaxio travel\n"
     ]
    },
    {
     "name": "stderr",
     "output_type": "stream",
     "text": [
      "\n",
      "\n",
      "돌리는중:  78%|███████▊  | 100/129 [22:39<06:26, 13.34s/it]\u001b[A\u001b[A"
     ]
    },
    {
     "name": "stdout",
     "output_type": "stream",
     "text": [
      "New Zealand Coromandel Town travel\n"
     ]
    },
    {
     "name": "stderr",
     "output_type": "stream",
     "text": [
      "\n",
      "\n",
      "돌리는중:  78%|███████▊  | 101/129 [22:52<06:14, 13.38s/it]\u001b[A\u001b[A"
     ]
    },
    {
     "name": "stdout",
     "output_type": "stream",
     "text": [
      "New Zealand  Lyttelton travel\n"
     ]
    },
    {
     "name": "stderr",
     "output_type": "stream",
     "text": [
      "\n",
      "\n",
      "돌리는중:  79%|███████▉  | 102/129 [23:05<06:00, 13.35s/it]\u001b[A\u001b[A"
     ]
    },
    {
     "name": "stdout",
     "output_type": "stream",
     "text": [
      "New Zealand Lake Hawea travel\n"
     ]
    },
    {
     "name": "stderr",
     "output_type": "stream",
     "text": [
      "\n",
      "\n",
      "돌리는중:  80%|███████▉  | 103/129 [23:19<05:46, 13.31s/it]\u001b[A\u001b[A"
     ]
    },
    {
     "name": "stdout",
     "output_type": "stream",
     "text": [
      "Russia Ekaterinburg travel\n"
     ]
    },
    {
     "name": "stderr",
     "output_type": "stream",
     "text": [
      "\n",
      "\n",
      "돌리는중:  81%|████████  | 104/129 [23:32<05:34, 13.37s/it]\u001b[A\u001b[A"
     ]
    },
    {
     "name": "stdout",
     "output_type": "stream",
     "text": [
      "Russia Petropavlovsk-Kamchatskiy travel\n"
     ]
    },
    {
     "name": "stderr",
     "output_type": "stream",
     "text": [
      "\n",
      "\n",
      "돌리는중:  81%|████████▏ | 105/129 [23:45<05:19, 13.29s/it]\u001b[A\u001b[A"
     ]
    },
    {
     "name": "stdout",
     "output_type": "stream",
     "text": [
      "Russia Velikiy Novgorod travel\n"
     ]
    },
    {
     "name": "stderr",
     "output_type": "stream",
     "text": [
      "\n",
      "\n",
      "돌리는중:  82%|████████▏ | 106/129 [23:59<05:07, 13.36s/it]\u001b[A\u001b[A"
     ]
    },
    {
     "name": "stdout",
     "output_type": "stream",
     "text": [
      "Russia Saint Petersburg travel\n"
     ]
    },
    {
     "name": "stderr",
     "output_type": "stream",
     "text": [
      "\n",
      "\n",
      "돌리는중:  83%|████████▎ | 107/129 [24:12<04:52, 13.32s/it]\u001b[A\u001b[A"
     ]
    },
    {
     "name": "stdout",
     "output_type": "stream",
     "text": [
      "Russia Rybachiy travel\n"
     ]
    },
    {
     "name": "stderr",
     "output_type": "stream",
     "text": [
      "\n",
      "\n",
      "돌리는중:  84%|████████▎ | 108/129 [24:26<04:40, 13.38s/it]\u001b[A\u001b[A"
     ]
    },
    {
     "name": "stdout",
     "output_type": "stream",
     "text": [
      "Russia Rostov on Don travel\n"
     ]
    },
    {
     "name": "stderr",
     "output_type": "stream",
     "text": [
      "\n",
      "\n",
      "돌리는중:  84%|████████▍ | 109/129 [24:39<04:27, 13.38s/it]\u001b[A\u001b[A"
     ]
    },
    {
     "name": "stdout",
     "output_type": "stream",
     "text": [
      "Russia Lakhdenpokhya travel\n"
     ]
    },
    {
     "name": "stderr",
     "output_type": "stream",
     "text": [
      "\n",
      "\n",
      "돌리는중:  85%|████████▌ | 110/129 [24:52<04:12, 13.30s/it]\u001b[A\u001b[A"
     ]
    },
    {
     "name": "stdout",
     "output_type": "stream",
     "text": [
      "Russia Solovetskiy travel\n"
     ]
    },
    {
     "name": "stderr",
     "output_type": "stream",
     "text": [
      "\n",
      "\n",
      "돌리는중:  86%|████████▌ | 111/129 [25:05<03:59, 13.30s/it]\u001b[A\u001b[A"
     ]
    },
    {
     "name": "stdout",
     "output_type": "stream",
     "text": [
      "Russia Bugul'deyka travel\n"
     ]
    },
    {
     "name": "stderr",
     "output_type": "stream",
     "text": [
      "\n",
      "\n",
      "돌리는중:  87%|████████▋ | 112/129 [25:19<03:46, 13.35s/it]\u001b[A\u001b[A"
     ]
    },
    {
     "name": "stdout",
     "output_type": "stream",
     "text": [
      "Thailand Rawai Beach travel\n"
     ]
    },
    {
     "name": "stderr",
     "output_type": "stream",
     "text": [
      "\n",
      "\n",
      "돌리는중:  88%|████████▊ | 113/129 [25:32<03:33, 13.36s/it]\u001b[A\u001b[A"
     ]
    },
    {
     "name": "stdout",
     "output_type": "stream",
     "text": [
      "Thailand Ban Pa Khlok travel\n"
     ]
    },
    {
     "name": "stderr",
     "output_type": "stream",
     "text": [
      "\n",
      "\n",
      "돌리는중:  88%|████████▊ | 114/129 [25:45<03:19, 13.27s/it]\u001b[A\u001b[A"
     ]
    },
    {
     "name": "stdout",
     "output_type": "stream",
     "text": [
      "Thailand Mai Khao Beach travel\n"
     ]
    },
    {
     "name": "stderr",
     "output_type": "stream",
     "text": [
      "\n",
      "\n",
      "돌리는중:  89%|████████▉ | 115/129 [25:58<03:05, 13.27s/it]\u001b[A\u001b[A"
     ]
    },
    {
     "name": "stdout",
     "output_type": "stream",
     "text": [
      "Thailand Ko Larn travel\n"
     ]
    },
    {
     "name": "stderr",
     "output_type": "stream",
     "text": [
      "\n",
      "\n",
      "돌리는중:  90%|████████▉ | 116/129 [26:12<02:52, 13.30s/it]\u001b[A\u001b[A"
     ]
    },
    {
     "name": "stdout",
     "output_type": "stream",
     "text": [
      "Thailand Ban Karon travel\n"
     ]
    },
    {
     "name": "stderr",
     "output_type": "stream",
     "text": [
      "\n",
      "\n",
      "돌리는중:  91%|█████████ | 117/129 [26:25<02:39, 13.32s/it]\u001b[A\u001b[A"
     ]
    },
    {
     "name": "stdout",
     "output_type": "stream",
     "text": [
      "Thailand Panwa Beach travel\n"
     ]
    },
    {
     "name": "stderr",
     "output_type": "stream",
     "text": [
      "\n",
      "\n",
      "돌리는중:  91%|█████████▏| 118/129 [26:39<02:27, 13.40s/it]\u001b[A\u001b[A"
     ]
    },
    {
     "name": "stdout",
     "output_type": "stream",
     "text": [
      "Thailand Ko Samed travel\n"
     ]
    },
    {
     "name": "stderr",
     "output_type": "stream",
     "text": [
      "\n",
      "\n",
      "돌리는중:  92%|█████████▏| 119/129 [26:52<02:14, 13.42s/it]\u001b[A\u001b[A"
     ]
    },
    {
     "name": "stdout",
     "output_type": "stream",
     "text": [
      "Thailand Kamala Beach travel\n"
     ]
    },
    {
     "name": "stderr",
     "output_type": "stream",
     "text": [
      "\n",
      "\n",
      "돌리는중:  93%|█████████▎| 120/129 [27:06<02:00, 13.43s/it]\u001b[A\u001b[A"
     ]
    },
    {
     "name": "stdout",
     "output_type": "stream",
     "text": [
      "Thailand Patong Beach travel\n"
     ]
    },
    {
     "name": "stderr",
     "output_type": "stream",
     "text": [
      "\n",
      "\n",
      "돌리는중:  94%|█████████▍| 121/129 [27:21<01:51, 13.89s/it]\u001b[A\u001b[A"
     ]
    },
    {
     "name": "stdout",
     "output_type": "stream",
     "text": [
      "Thailand Prachin Buri travel\n"
     ]
    },
    {
     "name": "stderr",
     "output_type": "stream",
     "text": [
      "\n",
      "\n",
      "돌리는중:  95%|█████████▍| 122/129 [27:34<01:36, 13.85s/it]\u001b[A\u001b[A"
     ]
    },
    {
     "name": "stdout",
     "output_type": "stream",
     "text": [
      "Thailand Phangnga travel\n"
     ]
    },
    {
     "name": "stderr",
     "output_type": "stream",
     "text": [
      "\n",
      "\n",
      "돌리는중:  95%|█████████▌| 123/129 [27:48<01:22, 13.71s/it]\u001b[A\u001b[A"
     ]
    },
    {
     "name": "stdout",
     "output_type": "stream",
     "text": [
      "Thailand Krabi town travel\n"
     ]
    },
    {
     "name": "stderr",
     "output_type": "stream",
     "text": [
      "\n",
      "\n",
      "돌리는중:  96%|█████████▌| 124/129 [28:01<01:08, 13.62s/it]\u001b[A\u001b[A"
     ]
    },
    {
     "name": "stdout",
     "output_type": "stream",
     "text": [
      "Thailand Kanchanaburi City travel\n"
     ]
    },
    {
     "name": "stderr",
     "output_type": "stream",
     "text": [
      "\n",
      "\n",
      "돌리는중:  97%|█████████▋| 125/129 [28:15<00:54, 13.66s/it]\u001b[A\u001b[A"
     ]
    },
    {
     "name": "stdout",
     "output_type": "stream",
     "text": [
      "Thailand Chon Buri travel\n"
     ]
    },
    {
     "name": "stderr",
     "output_type": "stream",
     "text": [
      "\n",
      "\n",
      "돌리는중:  98%|█████████▊| 126/129 [28:29<00:41, 13.69s/it]\u001b[A\u001b[A"
     ]
    },
    {
     "name": "stdout",
     "output_type": "stream",
     "text": [
      "Thailand Wang Nam Khieo travel\n"
     ]
    },
    {
     "name": "stderr",
     "output_type": "stream",
     "text": [
      "\n",
      "\n",
      "돌리는중:  98%|█████████▊| 127/129 [28:42<00:27, 13.64s/it]\u001b[A\u001b[A"
     ]
    },
    {
     "name": "stdout",
     "output_type": "stream",
     "text": [
      "Thailand Ban Dan Makham Tia travel\n"
     ]
    },
    {
     "name": "stderr",
     "output_type": "stream",
     "text": [
      "\n",
      "\n",
      "돌리는중:  99%|█████████▉| 128/129 [28:56<00:13, 13.63s/it]\u001b[A\u001b[A"
     ]
    },
    {
     "name": "stdout",
     "output_type": "stream",
     "text": [
      "Thailand Ko Phangan travel\n"
     ]
    },
    {
     "name": "stderr",
     "output_type": "stream",
     "text": [
      "\n",
      "\n",
      "돌리는중: 100%|██████████| 129/129 [29:09<00:00, 13.56s/it]\u001b[A\u001b[A\n"
     ]
    }
   ],
   "source": [
    "for idx, row in tqdm(data[0:].iterrows(), total = data[0:].shape[0], desc=\"돌리는중\"):\n",
    "\n",
    "    cd_idx = row['cd_idx']\n",
    "    last_pk = last_pk + 1\n",
    "    search_keyword= row['country_name']+' ' + row['cd_name'] +' travel'\n",
    "    print(search_keyword)\n",
    "    drv.get('https://www.youtube.com/results?search_query=' + search_keyword )\n",
    "    \n",
    "    \n",
    "    cd_youtube_search_ko = search_keyword\n",
    "    no_of_pagedowns = 5\n",
    "    elem = drv.find_element_by_tag_name(\"body\")\n",
    "\n",
    "    while no_of_pagedowns:\n",
    "        elem.send_keys(Keys.PAGE_DOWN)\n",
    "        time.sleep(1.2)\n",
    "        no_of_pagedowns -= 1\n",
    "    time.sleep(5)  # sleep을 통해 Robot Error 해결.\n",
    "    soup=BeautifulSoup(drv.page_source,\"html\")\n",
    "\n",
    "    Alll=soup.findAll(\"ytd-video-renderer\",{\"class\":\"style-scope ytd-item-section-renderer\"})\n",
    "    if len(Alll) == 0 :\n",
    "        data_list.append({\"cd_idx\": cd_idx})\n",
    "\n",
    "\n",
    "    num = 0\n",
    "    for i in Alll :\n",
    "        try :\n",
    "            title =i.find(\"a\",{\"id\":\"video-title\"})['title']\n",
    "        except :\n",
    "            title = None\n",
    "        try:\n",
    "            link = 'https://www.youtube.com' + i.find(\"a\",{\"id\":\"video-title\"})['href']\n",
    "        except:\n",
    "            link = None\n",
    "        try:\n",
    "#             text = i.find(\"yt-formatted-string\",{\"id\" : \"description-text\"}).text\n",
    "            text = i.find(\"yt-formatted-string\",{\"class\" : \"metadata-snippet-text style-scope ytd-video-renderer\"}).text            \n",
    "        except:\n",
    "            text = None\n",
    "        try:\n",
    "            image=i.find('img',{\"id\":\"img\"})[\"src\"]\n",
    "\n",
    "        except:\n",
    "            print(f\"image크롤링오류: {cd_idx}:{image}\")\n",
    "            image = None\n",
    "        try:\n",
    "            name = i.find('yt-formatted-string',{\"class\":\"style-scope ytd-channel-name complex-string\"}).text\n",
    "        except:\n",
    "            name = None\n",
    "        try :\n",
    "            duration=i.find('span',{\"class\":\"style-scope ytd-thumbnail-overlay-time-status-renderer\"}).text.strip()\n",
    "        except :\n",
    "            duration = None\n",
    "        try :\n",
    "            viewCount_raw = i.findAll('span',{\"class\":\"style-scope ytd-video-meta-block\"})[0].text\n",
    "        except :\n",
    "            viewCount_raw = None\n",
    "        try :\n",
    "            regdate_ment = i.findAll('span',{\"class\":\"style-scope ytd-video-meta-block\"})[1].text\n",
    "        except :\n",
    "            regdate_ment = None\n",
    "        dataii = {\"pk\": last_pk, \"cd_idx\": cd_idx, \"cd_youtube_search_ko\":search_keyword, \"link\": link, \"title\": title,\n",
    "        \"text\": text, \"image\": image, \"name\": name,\n",
    "        \"duration\": duration, \"regdate_ment\": regdate_ment, \"viewCount_raw\": viewCount_raw}\n",
    "        data_list.append(dataii)\n",
    "        num += 1\n",
    "        if (num == 10):\n",
    "            break\n",
    "\n",
    "\n",
    "columns = [\n",
    "    'pk','cd_idx', 'cd_youtube_search_ko', 'link', 'title',\n",
    "    'text', 'image', 'name',  'duration', 'regdate_ment', 'viewCount_raw'] \n",
    "result_df = pd.DataFrame(data_list, columns=columns)\n",
    "\n",
    "#제출날짜 및 세트 번호 수정\n",
    "drv.close()"
   ]
  },
  {
   "cell_type": "code",
   "execution_count": 13,
   "metadata": {
    "scrolled": true
   },
   "outputs": [
    {
     "data": {
      "text/html": [
       "<div>\n",
       "<style scoped>\n",
       "    .dataframe tbody tr th:only-of-type {\n",
       "        vertical-align: middle;\n",
       "    }\n",
       "\n",
       "    .dataframe tbody tr th {\n",
       "        vertical-align: top;\n",
       "    }\n",
       "\n",
       "    .dataframe thead th {\n",
       "        text-align: right;\n",
       "    }\n",
       "</style>\n",
       "<table border=\"1\" class=\"dataframe\">\n",
       "  <thead>\n",
       "    <tr style=\"text-align: right;\">\n",
       "      <th></th>\n",
       "      <th>cd_idx</th>\n",
       "      <th>cd_youtube_search_ko</th>\n",
       "      <th>link</th>\n",
       "      <th>title</th>\n",
       "      <th>text</th>\n",
       "      <th>image</th>\n",
       "      <th>name</th>\n",
       "      <th>duration</th>\n",
       "      <th>regdate_ment</th>\n",
       "      <th>viewCount</th>\n",
       "    </tr>\n",
       "  </thead>\n",
       "  <tbody>\n",
       "    <tr>\n",
       "      <th>0</th>\n",
       "      <td>1218202</td>\n",
       "      <td>United States Kailua-Kona travel</td>\n",
       "      <td>https://www.youtube.com/watch?v=4EnvTQukbMk</td>\n",
       "      <td>Hawaiian Island Hopping: Kailua-Kona – Ancient...</td>\n",
       "      <td>Discover historic parks, pristine beaches, mar...</td>\n",
       "      <td>https://i.ytimg.com/vi/4EnvTQukbMk/hq720.jpg?s...</td>\n",
       "      <td>Visit The USA</td>\n",
       "      <td>0:50</td>\n",
       "      <td>1년 전</td>\n",
       "      <td>조회수 948회</td>\n",
       "    </tr>\n",
       "    <tr>\n",
       "      <th>1</th>\n",
       "      <td>1218202</td>\n",
       "      <td>United States Kailua-Kona travel</td>\n",
       "      <td>https://www.youtube.com/watch?v=SDfLDjREDY0</td>\n",
       "      <td>Things To Do in Kailua Kona, Hawaii 4k</td>\n",
       "      <td>Hey Must Do Travelers! Today we are traveling ...</td>\n",
       "      <td>https://i.ytimg.com/vi/SDfLDjREDY0/hqdefault.j...</td>\n",
       "      <td>Must Do Travels</td>\n",
       "      <td>7:04</td>\n",
       "      <td>2년 전</td>\n",
       "      <td>조회수 10만회</td>\n",
       "    </tr>\n",
       "    <tr>\n",
       "      <th>2</th>\n",
       "      <td>1218202</td>\n",
       "      <td>United States Kailua-Kona travel</td>\n",
       "      <td>https://www.youtube.com/watch?v=7G2S5jgXs50</td>\n",
       "      <td>BIG ISLAND HAWAII, TOP 15 things to Do, Kona, ...</td>\n",
       "      <td>I'm excited to share with you one of my favori...</td>\n",
       "      <td>https://i.ytimg.com/vi/7G2S5jgXs50/hq720.jpg?s...</td>\n",
       "      <td>Active Tours</td>\n",
       "      <td>10:03</td>\n",
       "      <td>1년 전</td>\n",
       "      <td>조회수 22만회</td>\n",
       "    </tr>\n",
       "    <tr>\n",
       "      <th>3</th>\n",
       "      <td>1218202</td>\n",
       "      <td>United States Kailua-Kona travel</td>\n",
       "      <td>https://www.youtube.com/watch?v=CNjB0r_aIkQ</td>\n",
       "      <td>Headed to Hawaii? Here's What You Need to Know...</td>\n",
       "      <td>If you're trying to figure out Hawaii's travel...</td>\n",
       "      <td>https://i.ytimg.com/vi/CNjB0r_aIkQ/hq720.jpg?s...</td>\n",
       "      <td>The Hawaii Vacation Guide</td>\n",
       "      <td>9:05</td>\n",
       "      <td>2개월 전</td>\n",
       "      <td>조회수 6.4만회</td>\n",
       "    </tr>\n",
       "    <tr>\n",
       "      <th>4</th>\n",
       "      <td>1218202</td>\n",
       "      <td>United States Kailua-Kona travel</td>\n",
       "      <td>https://www.youtube.com/watch?v=iX-wnhGrk9s</td>\n",
       "      <td>Hawaii Travel Vlog 1| Kailua Kona Food &amp; Trave...</td>\n",
       "      <td>Where to snorkel on the big island? Where to s...</td>\n",
       "      <td>https://i.ytimg.com/vi/iX-wnhGrk9s/hq720.jpg?s...</td>\n",
       "      <td>Ms. Ming lifestyle</td>\n",
       "      <td>31:55</td>\n",
       "      <td>2개월 전</td>\n",
       "      <td>조회수 1.1천회</td>\n",
       "    </tr>\n",
       "    <tr>\n",
       "      <th>...</th>\n",
       "      <td>...</td>\n",
       "      <td>...</td>\n",
       "      <td>...</td>\n",
       "      <td>...</td>\n",
       "      <td>...</td>\n",
       "      <td>...</td>\n",
       "      <td>...</td>\n",
       "      <td>...</td>\n",
       "      <td>...</td>\n",
       "      <td>...</td>\n",
       "    </tr>\n",
       "    <tr>\n",
       "      <th>1276</th>\n",
       "      <td>3112058</td>\n",
       "      <td>Thailand Ko Phangan travel</td>\n",
       "      <td>https://www.youtube.com/watch?v=9_FMkudnURw</td>\n",
       "      <td>Driving Koh Phangan island, Thailand 4k 60fps</td>\n",
       "      <td>Complete driving tour around island on motorbi...</td>\n",
       "      <td>https://i.ytimg.com/vi/9_FMkudnURw/hq720.jpg?s...</td>\n",
       "      <td>walking4k</td>\n",
       "      <td>49:01</td>\n",
       "      <td>1년 전</td>\n",
       "      <td>조회수 1.5만회</td>\n",
       "    </tr>\n",
       "    <tr>\n",
       "      <th>1277</th>\n",
       "      <td>3112058</td>\n",
       "      <td>Thailand Ko Phangan travel</td>\n",
       "      <td>https://www.youtube.com/watch?v=CXL-_G11vXA</td>\n",
       "      <td>Ko Phangan, Thailand | A Hippie Backpacker Par...</td>\n",
       "      <td>Music during the video: \"Asian Fork Fight\" by ...</td>\n",
       "      <td>https://i.ytimg.com/vi/CXL-_G11vXA/hq720.jpg?s...</td>\n",
       "      <td>Gabriel Traveler</td>\n",
       "      <td>22:21</td>\n",
       "      <td>1년 전</td>\n",
       "      <td>조회수 4.1만회</td>\n",
       "    </tr>\n",
       "    <tr>\n",
       "      <th>1278</th>\n",
       "      <td>3112058</td>\n",
       "      <td>Thailand Ko Phangan travel</td>\n",
       "      <td>https://www.youtube.com/watch?v=lL1LumRP-eg</td>\n",
       "      <td>Travel to KOH PHANGAN in 2020 | Thailand (Part...</td>\n",
       "      <td>Last week, we took a spontaneous trip to Koh P...</td>\n",
       "      <td>https://i.ytimg.com/vi/lL1LumRP-eg/hq720.jpg?s...</td>\n",
       "      <td>Flora and Note</td>\n",
       "      <td>14:39</td>\n",
       "      <td>11개월 전</td>\n",
       "      <td>조회수 9.1천회</td>\n",
       "    </tr>\n",
       "    <tr>\n",
       "      <th>1279</th>\n",
       "      <td>3112058</td>\n",
       "      <td>Thailand Ko Phangan travel</td>\n",
       "      <td>https://www.youtube.com/watch?v=K0B_g4PUNws</td>\n",
       "      <td>Koh Phangan, Detailed Travel Guide (everything...</td>\n",
       "      <td>This is a very detailed travel guide for islan...</td>\n",
       "      <td>https://i.ytimg.com/vi/K0B_g4PUNws/hq720.jpg?s...</td>\n",
       "      <td>Travel Stories</td>\n",
       "      <td>16:47</td>\n",
       "      <td>11개월 전</td>\n",
       "      <td>조회수 1.3만회</td>\n",
       "    </tr>\n",
       "    <tr>\n",
       "      <th>1280</th>\n",
       "      <td>3112058</td>\n",
       "      <td>Thailand Ko Phangan travel</td>\n",
       "      <td>https://www.youtube.com/watch?v=mqjSKgQZksc</td>\n",
       "      <td>Cheapest Paradise Beach I've Stayed On 🏝️ Koh ...</td>\n",
       "      <td>Mai Pen Rai Bungalows on Koh Phangan will set ...</td>\n",
       "      <td>https://i.ytimg.com/vi/mqjSKgQZksc/hq720.jpg?s...</td>\n",
       "      <td>Paddy Doyle</td>\n",
       "      <td>22:19</td>\n",
       "      <td>4개월 전</td>\n",
       "      <td>조회수 3.8만회</td>\n",
       "    </tr>\n",
       "  </tbody>\n",
       "</table>\n",
       "<p>1281 rows × 10 columns</p>\n",
       "</div>"
      ],
      "text/plain": [
       "       cd_idx              cd_youtube_search_ko  \\\n",
       "0     1218202  United States Kailua-Kona travel   \n",
       "1     1218202  United States Kailua-Kona travel   \n",
       "2     1218202  United States Kailua-Kona travel   \n",
       "3     1218202  United States Kailua-Kona travel   \n",
       "4     1218202  United States Kailua-Kona travel   \n",
       "...       ...                               ...   \n",
       "1276  3112058        Thailand Ko Phangan travel   \n",
       "1277  3112058        Thailand Ko Phangan travel   \n",
       "1278  3112058        Thailand Ko Phangan travel   \n",
       "1279  3112058        Thailand Ko Phangan travel   \n",
       "1280  3112058        Thailand Ko Phangan travel   \n",
       "\n",
       "                                             link  \\\n",
       "0     https://www.youtube.com/watch?v=4EnvTQukbMk   \n",
       "1     https://www.youtube.com/watch?v=SDfLDjREDY0   \n",
       "2     https://www.youtube.com/watch?v=7G2S5jgXs50   \n",
       "3     https://www.youtube.com/watch?v=CNjB0r_aIkQ   \n",
       "4     https://www.youtube.com/watch?v=iX-wnhGrk9s   \n",
       "...                                           ...   \n",
       "1276  https://www.youtube.com/watch?v=9_FMkudnURw   \n",
       "1277  https://www.youtube.com/watch?v=CXL-_G11vXA   \n",
       "1278  https://www.youtube.com/watch?v=lL1LumRP-eg   \n",
       "1279  https://www.youtube.com/watch?v=K0B_g4PUNws   \n",
       "1280  https://www.youtube.com/watch?v=mqjSKgQZksc   \n",
       "\n",
       "                                                  title  \\\n",
       "0     Hawaiian Island Hopping: Kailua-Kona – Ancient...   \n",
       "1                Things To Do in Kailua Kona, Hawaii 4k   \n",
       "2     BIG ISLAND HAWAII, TOP 15 things to Do, Kona, ...   \n",
       "3     Headed to Hawaii? Here's What You Need to Know...   \n",
       "4     Hawaii Travel Vlog 1| Kailua Kona Food & Trave...   \n",
       "...                                                 ...   \n",
       "1276      Driving Koh Phangan island, Thailand 4k 60fps   \n",
       "1277  Ko Phangan, Thailand | A Hippie Backpacker Par...   \n",
       "1278  Travel to KOH PHANGAN in 2020 | Thailand (Part...   \n",
       "1279  Koh Phangan, Detailed Travel Guide (everything...   \n",
       "1280  Cheapest Paradise Beach I've Stayed On 🏝️ Koh ...   \n",
       "\n",
       "                                                   text  \\\n",
       "0     Discover historic parks, pristine beaches, mar...   \n",
       "1     Hey Must Do Travelers! Today we are traveling ...   \n",
       "2     I'm excited to share with you one of my favori...   \n",
       "3     If you're trying to figure out Hawaii's travel...   \n",
       "4     Where to snorkel on the big island? Where to s...   \n",
       "...                                                 ...   \n",
       "1276  Complete driving tour around island on motorbi...   \n",
       "1277  Music during the video: \"Asian Fork Fight\" by ...   \n",
       "1278  Last week, we took a spontaneous trip to Koh P...   \n",
       "1279  This is a very detailed travel guide for islan...   \n",
       "1280  Mai Pen Rai Bungalows on Koh Phangan will set ...   \n",
       "\n",
       "                                                  image  \\\n",
       "0     https://i.ytimg.com/vi/4EnvTQukbMk/hq720.jpg?s...   \n",
       "1     https://i.ytimg.com/vi/SDfLDjREDY0/hqdefault.j...   \n",
       "2     https://i.ytimg.com/vi/7G2S5jgXs50/hq720.jpg?s...   \n",
       "3     https://i.ytimg.com/vi/CNjB0r_aIkQ/hq720.jpg?s...   \n",
       "4     https://i.ytimg.com/vi/iX-wnhGrk9s/hq720.jpg?s...   \n",
       "...                                                 ...   \n",
       "1276  https://i.ytimg.com/vi/9_FMkudnURw/hq720.jpg?s...   \n",
       "1277  https://i.ytimg.com/vi/CXL-_G11vXA/hq720.jpg?s...   \n",
       "1278  https://i.ytimg.com/vi/lL1LumRP-eg/hq720.jpg?s...   \n",
       "1279  https://i.ytimg.com/vi/K0B_g4PUNws/hq720.jpg?s...   \n",
       "1280  https://i.ytimg.com/vi/mqjSKgQZksc/hq720.jpg?s...   \n",
       "\n",
       "                           name duration regdate_ment  viewCount  \n",
       "0                 Visit The USA     0:50         1년 전   조회수 948회  \n",
       "1               Must Do Travels     7:04         2년 전   조회수 10만회  \n",
       "2                  Active Tours    10:03         1년 전   조회수 22만회  \n",
       "3     The Hawaii Vacation Guide     9:05        2개월 전  조회수 6.4만회  \n",
       "4            Ms. Ming lifestyle    31:55        2개월 전  조회수 1.1천회  \n",
       "...                         ...      ...          ...        ...  \n",
       "1276                  walking4k    49:01         1년 전  조회수 1.5만회  \n",
       "1277           Gabriel Traveler    22:21         1년 전  조회수 4.1만회  \n",
       "1278             Flora and Note    14:39       11개월 전  조회수 9.1천회  \n",
       "1279             Travel Stories    16:47       11개월 전  조회수 1.3만회  \n",
       "1280                Paddy Doyle    22:19        4개월 전  조회수 3.8만회  \n",
       "\n",
       "[1281 rows x 10 columns]"
      ]
     },
     "execution_count": 13,
     "metadata": {},
     "output_type": "execute_result"
    }
   ],
   "source": [
    "columns = [\n",
    "    'pk','cd_idx', 'cd_youtube_search_ko', 'link', 'title',\n",
    "    'text', 'image', 'name',  'duration', 'regdate_ment','viewCount', 'viewCount_raw','regist_date','update_date'\n",
    "]\n",
    "result_df = pd.DataFrame(data_list, columns=columns)\n",
    "result_df"
   ]
  },
  {
   "cell_type": "markdown",
   "metadata": {},
   "source": [
    "# 나머지 정보 채우기 (viewCount,regist_date,update_date)"
   ]
  },
  {
   "cell_type": "code",
   "execution_count": null,
   "metadata": {},
   "outputs": [],
   "source": [
    "#viewCount\n",
    "for idx, row in tqdm(result_df[0:].iterrows(), total = result_df[0:].shape[0], desc=\"돌리는중\"):\n",
    "    if '조회수 없음' in row['viewCount_raw']:\n",
    "        result_df['viewCount'][idx]=0\n",
    "    \n",
    "    else:\n",
    "        raw = row['viewCount_raw'].replace('조회수 ','').replace('회','')\n",
    "        if '만' in raw:\n",
    "            raw=float(raw.replace('만',''))\n",
    "            raw=raw*10000\n",
    "            result_df['viewCount'][idx]=int(raw)\n",
    "\n",
    "        elif '천' in raw:\n",
    "            raw=float(raw.replace('천',''))\n",
    "            raw=raw*1000\n",
    "            result_df['viewCount'][idx]=int(raw)\n",
    "\n",
    "        else:\n",
    "            result_df['viewCount'][idx]=int(raw)\n",
    "        "
   ]
  },
  {
   "cell_type": "code",
   "execution_count": null,
   "metadata": {},
   "outputs": [],
   "source": [
    "#regist_date,update_date\n",
    "result_df['update_date'] = datetime.datetime.now().strftime('%Y-%m-%d %H:%M:%S')\n",
    "result_df['regist_date'] = datetime.datetime.now().strftime('%Y-%m-%d %H:%M:%S')"
   ]
  },
  {
   "cell_type": "code",
   "execution_count": null,
   "metadata": {},
   "outputs": [],
   "source": [
    "result_df"
   ]
  },
  {
   "cell_type": "code",
   "execution_count": null,
   "metadata": {},
   "outputs": [],
   "source": []
  },
  {
   "cell_type": "code",
   "execution_count": null,
   "metadata": {},
   "outputs": [],
   "source": []
  },
  {
   "cell_type": "markdown",
   "metadata": {},
   "source": [
    "# 2. 최종 데이터 정제 저장"
   ]
  },
  {
   "cell_type": "code",
   "execution_count": 14,
   "metadata": {},
   "outputs": [
    {
     "name": "stdout",
     "output_type": "stream",
     "text": [
      "1281\n",
      "1\n",
      "1280\n"
     ]
    }
   ],
   "source": [
    "# 임시 백업 df 설정\n",
    "temp_df = pd.DataFrame(data_list, columns=columns)\n",
    "\n",
    "# 결측값 있는 행 확인\n",
    "check_columns  = [\"pk\",\"cd_idx\", \"cd_youtube_search_ko\", \"link\", \"title\", \"image\", \"name\"]\n",
    "missing_values = result_df[result_df[check_columns].isnull().any(axis=1)]\n",
    "\n",
    "print(len(temp_df))\n",
    "print(len(missing_values))\n",
    "print(len(temp_df) - len(missing_values))"
   ]
  },
  {
   "cell_type": "code",
   "execution_count": 15,
   "metadata": {},
   "outputs": [
    {
     "name": "stdout",
     "output_type": "stream",
     "text": [
      "1차 drop 이후 개수: 1280\n",
      "추가 drop 개수: 10\n",
      "1270\n"
     ]
    }
   ],
   "source": [
    "# 결측값 있는 행 drop 및 저장\n",
    "result_df.drop(missing_values.index, axis=0, inplace=True)\n",
    "print(f\"1차 drop 이후 개수: {len(result_df)}\")\n",
    "\n",
    "# 추가 요청 사항 drop 및 저장\n",
    "drop_df    = result_df[(result_df[\"duration\"].isnull() == True) | (result_df[\"regdate_ment\"].isnull() == True)]\n",
    "drop_index = drop_df.index\n",
    "result_df.drop(drop_index, axis=0, inplace=True)\n",
    "print(f\"추가 drop 개수: {len(drop_index)}\")\n",
    "\n",
    "# index 정렬\n",
    "result_df.reset_index(drop=True, inplace=True)\n",
    "print(len(result_df))"
   ]
  },
  {
   "cell_type": "markdown",
   "metadata": {},
   "source": [
    "# excel 파일로 저장"
   ]
  },
  {
   "cell_type": "code",
   "execution_count": 16,
   "metadata": {},
   "outputs": [
    {
     "data": {
      "text/plain": [
       "'/Users/mycelebs_28/Desktop/staypia_city_데이터수집'"
      ]
     },
     "execution_count": 16,
     "metadata": {},
     "output_type": "execute_result"
    }
   ],
   "source": [
    "Desktop"
   ]
  },
  {
   "cell_type": "code",
   "execution_count": 18,
   "metadata": {},
   "outputs": [
    {
     "name": "stdout",
     "output_type": "stream",
     "text": [
      "1270\n"
     ]
    }
   ],
   "source": [
    "# 엑셀화\n",
    "result_df.to_excel(Desktop+f'/youtube/result/youtube_crawling_{date}.xlsx', index=False)\n",
    "print(len(result_df))"
   ]
  },
  {
   "cell_type": "code",
   "execution_count": 41,
   "metadata": {},
   "outputs": [],
   "source": [
    "# url 개수가 65000개 이상일때만\n",
    "writer = pd.ExcelWriter(Desktop+f'/youtube/result/youtube_crawling_{date}.xlsx', engine='xlsxwriter', options={'strings_to_urls': False})\n",
    "result_df.to_excel(writer)\n",
    "writer.close()"
   ]
  },
  {
   "cell_type": "code",
   "execution_count": null,
   "metadata": {},
   "outputs": [],
   "source": []
  },
  {
   "cell_type": "markdown",
   "metadata": {},
   "source": [
    "# csv 파일로 저장"
   ]
  },
  {
   "cell_type": "code",
   "execution_count": null,
   "metadata": {},
   "outputs": [],
   "source": [
    "result_df.to_csv(Desktop+f'/youtube/upload/youtube_crawling_{date}.csv', index=False)"
   ]
  },
  {
   "cell_type": "code",
   "execution_count": null,
   "metadata": {},
   "outputs": [],
   "source": []
  },
  {
   "cell_type": "code",
   "execution_count": null,
   "metadata": {},
   "outputs": [],
   "source": [
    "engine_conn.close()\n",
    "engine.dispose()"
   ]
  },
  {
   "cell_type": "code",
   "execution_count": null,
   "metadata": {},
   "outputs": [],
   "source": []
  },
  {
   "cell_type": "code",
   "execution_count": null,
   "metadata": {},
   "outputs": [],
   "source": []
  }
 ],
 "metadata": {
  "kernelspec": {
   "display_name": "Python 3 (ipykernel)",
   "language": "python",
   "name": "python3"
  },
  "language_info": {
   "codemirror_mode": {
    "name": "ipython",
    "version": 3
   },
   "file_extension": ".py",
   "mimetype": "text/x-python",
   "name": "python",
   "nbconvert_exporter": "python",
   "pygments_lexer": "ipython3",
   "version": "3.9.7"
  }
 },
 "nbformat": 4,
 "nbformat_minor": 4
}
