{
 "cells": [
  {
   "cell_type": "code",
   "execution_count": 1,
   "metadata": {},
   "outputs": [],
   "source": [
    "import pymysql\n",
    "from sqlalchemy import create_engine\n",
    "\n",
    "import pandas as pd\n",
    "import time\n",
    "import os\n",
    "\n",
    "from selenium                       import webdriver\n",
    "from webdriver_manager.chrome       import ChromeDriverManager \n",
    "from selenium.webdriver.common.keys import Keys\n",
    "from bs4                            import BeautifulSoup\n",
    "from tqdm                           import tqdm"
   ]
  },
  {
   "cell_type": "code",
   "execution_count": null,
   "metadata": {},
   "outputs": [],
   "source": [
    "#당일 날짜\n",
    "date='21_10_08'"
   ]
  },
  {
   "cell_type": "markdown",
   "metadata": {},
   "source": [
    "# 엑셀에서 검색할 도시 정보 불러오기"
   ]
  },
  {
   "cell_type": "code",
   "execution_count": 2,
   "metadata": {},
   "outputs": [
    {
     "data": {
      "text/plain": [
       "'/Users/mycelebs_28'"
      ]
     },
     "execution_count": 2,
     "metadata": {},
     "output_type": "execute_result"
    }
   ],
   "source": [
    "Desktop = os.path.dirname(os.getcwd())\n",
    "Desktop"
   ]
  },
  {
   "cell_type": "code",
   "execution_count": 3,
   "metadata": {
    "scrolled": true
   },
   "outputs": [
    {
     "data": {
      "text/html": [
       "<div>\n",
       "<style scoped>\n",
       "    .dataframe tbody tr th:only-of-type {\n",
       "        vertical-align: middle;\n",
       "    }\n",
       "\n",
       "    .dataframe tbody tr th {\n",
       "        vertical-align: top;\n",
       "    }\n",
       "\n",
       "    .dataframe thead th {\n",
       "        text-align: right;\n",
       "    }\n",
       "</style>\n",
       "<table border=\"1\" class=\"dataframe\">\n",
       "  <thead>\n",
       "    <tr style=\"text-align: right;\">\n",
       "      <th></th>\n",
       "      <th>cd_idx</th>\n",
       "      <th>bd_name</th>\n",
       "      <th>bd_name_ko</th>\n",
       "      <th>relation_cd_idx</th>\n",
       "      <th>related_vertical_name</th>\n",
       "      <th>bd_category</th>\n",
       "      <th>ko_youtube</th>\n",
       "    </tr>\n",
       "  </thead>\n",
       "  <tbody>\n",
       "    <tr>\n",
       "      <th>0</th>\n",
       "      <td>3193035</td>\n",
       "      <td>Take a walk in Harry Potter's magician street,...</td>\n",
       "      <td>&lt;해리포터&gt;의 마법사 거리, '다이애건 앨리' 걸어보기</td>\n",
       "      <td>1213719.0</td>\n",
       "      <td>런던</td>\n",
       "      <td>TRAVEL</td>\n",
       "      <td>1</td>\n",
       "    </tr>\n",
       "    <tr>\n",
       "      <th>1</th>\n",
       "      <td>3193036</td>\n",
       "      <td>Explore the American Museum of Natural History...</td>\n",
       "      <td>인류와 생물 그리고 우주에 관하여, 뉴욕 '자연사 박물관' 탐방하기</td>\n",
       "      <td>1228306.0</td>\n",
       "      <td>뉴욕</td>\n",
       "      <td>TRAVEL</td>\n",
       "      <td>1</td>\n",
       "    </tr>\n",
       "    <tr>\n",
       "      <th>2</th>\n",
       "      <td>3193037</td>\n",
       "      <td>Take a walk to Kualoa Ranch, the primitive env...</td>\n",
       "      <td>원시 자연의 모습 그대로, '쿠알로아 랜치' 산책하기</td>\n",
       "      <td>1218193.0</td>\n",
       "      <td>호놀룰루</td>\n",
       "      <td>TRAVEL</td>\n",
       "      <td>1</td>\n",
       "    </tr>\n",
       "    <tr>\n",
       "      <th>3</th>\n",
       "      <td>3193038</td>\n",
       "      <td>Relax by yourself in luxury and antique Plaza ...</td>\n",
       "      <td>100년의 역사를 간직한 호화로운 '플라자 호텔'에서 나 홀로 호캉스 즐기기</td>\n",
       "      <td>1228306.0</td>\n",
       "      <td>뉴욕</td>\n",
       "      <td>TRAVEL</td>\n",
       "      <td>1</td>\n",
       "    </tr>\n",
       "    <tr>\n",
       "      <th>4</th>\n",
       "      <td>3193039</td>\n",
       "      <td>Read books in a romantic city of literature, N...</td>\n",
       "      <td>로맨틱한 문학 도시 '노팅힐'의 서점에서 독서하기</td>\n",
       "      <td>1213719.0</td>\n",
       "      <td>런던</td>\n",
       "      <td>TRAVEL</td>\n",
       "      <td>1</td>\n",
       "    </tr>\n",
       "    <tr>\n",
       "      <th>...</th>\n",
       "      <td>...</td>\n",
       "      <td>...</td>\n",
       "      <td>...</td>\n",
       "      <td>...</td>\n",
       "      <td>...</td>\n",
       "      <td>...</td>\n",
       "      <td>...</td>\n",
       "    </tr>\n",
       "    <tr>\n",
       "      <th>725</th>\n",
       "      <td>3664671</td>\n",
       "      <td>Sakte at the ‘Wollman Rink’, the ice-rink in t...</td>\n",
       "      <td>빌딩 숲속의 빙판, '울먼 링크'에서 스케이트 타기</td>\n",
       "      <td>1228306.0</td>\n",
       "      <td>뉴욕</td>\n",
       "      <td>OUTDOOR</td>\n",
       "      <td>0</td>\n",
       "    </tr>\n",
       "    <tr>\n",
       "      <th>726</th>\n",
       "      <td>3664673</td>\n",
       "      <td>Relax at the temple of happiness 'Punakha Dzong’</td>\n",
       "      <td>행복을 전하는 사원, 'Punakha Dzong'에서 힐링하기</td>\n",
       "      <td>3132116.0</td>\n",
       "      <td>푸나카</td>\n",
       "      <td>CULTURE</td>\n",
       "      <td>0</td>\n",
       "    </tr>\n",
       "    <tr>\n",
       "      <th>727</th>\n",
       "      <td>3664679</td>\n",
       "      <td>Feel the thrill of crossing the sky! Ride an a...</td>\n",
       "      <td>하늘을 가로지르는 짜릿함! '핑동 어드벤처 플라이트'에서 항공기 타기</td>\n",
       "      <td>1213328.0</td>\n",
       "      <td>켄팅</td>\n",
       "      <td>OUTDOOR</td>\n",
       "      <td>0</td>\n",
       "    </tr>\n",
       "    <tr>\n",
       "      <th>728</th>\n",
       "      <td>3664680</td>\n",
       "      <td>Take a picture at ‘Sirao Garden’, the beautifu...</td>\n",
       "      <td>아름다운 하늘 정원, '시라오 가든'에서 사진 찍기</td>\n",
       "      <td>1215658.0</td>\n",
       "      <td>세부</td>\n",
       "      <td>TRAVEL</td>\n",
       "      <td>0</td>\n",
       "    </tr>\n",
       "    <tr>\n",
       "      <th>729</th>\n",
       "      <td>↵</td>\n",
       "      <td>판단 잎으로 만드는 달콤함과 고소함의 결정체, 카야잼을 아시나요? 싱가포르의 '야쿤...</td>\n",
       "      <td>NaN</td>\n",
       "      <td>NaN</td>\n",
       "      <td>NaN</td>\n",
       "      <td>NaN</td>\n",
       "      <td>0</td>\n",
       "    </tr>\n",
       "  </tbody>\n",
       "</table>\n",
       "<p>730 rows × 7 columns</p>\n",
       "</div>"
      ],
      "text/plain": [
       "      cd_idx                                            bd_name  \\\n",
       "0    3193035  Take a walk in Harry Potter's magician street,...   \n",
       "1    3193036  Explore the American Museum of Natural History...   \n",
       "2    3193037  Take a walk to Kualoa Ranch, the primitive env...   \n",
       "3    3193038  Relax by yourself in luxury and antique Plaza ...   \n",
       "4    3193039  Read books in a romantic city of literature, N...   \n",
       "..       ...                                                ...   \n",
       "725  3664671  Sakte at the ‘Wollman Rink’, the ice-rink in t...   \n",
       "726  3664673   Relax at the temple of happiness 'Punakha Dzong’   \n",
       "727  3664679  Feel the thrill of crossing the sky! Ride an a...   \n",
       "728  3664680  Take a picture at ‘Sirao Garden’, the beautifu...   \n",
       "729        ↵  판단 잎으로 만드는 달콤함과 고소함의 결정체, 카야잼을 아시나요? 싱가포르의 '야쿤...   \n",
       "\n",
       "                                     bd_name_ko  relation_cd_idx  \\\n",
       "0                <해리포터>의 마법사 거리, '다이애건 앨리' 걸어보기        1213719.0   \n",
       "1         인류와 생물 그리고 우주에 관하여, 뉴욕 '자연사 박물관' 탐방하기        1228306.0   \n",
       "2                 원시 자연의 모습 그대로, '쿠알로아 랜치' 산책하기        1218193.0   \n",
       "3    100년의 역사를 간직한 호화로운 '플라자 호텔'에서 나 홀로 호캉스 즐기기        1228306.0   \n",
       "4                   로맨틱한 문학 도시 '노팅힐'의 서점에서 독서하기        1213719.0   \n",
       "..                                          ...              ...   \n",
       "725                빌딩 숲속의 빙판, '울먼 링크'에서 스케이트 타기        1228306.0   \n",
       "726          행복을 전하는 사원, 'Punakha Dzong'에서 힐링하기        3132116.0   \n",
       "727      하늘을 가로지르는 짜릿함! '핑동 어드벤처 플라이트'에서 항공기 타기        1213328.0   \n",
       "728                아름다운 하늘 정원, '시라오 가든'에서 사진 찍기        1215658.0   \n",
       "729                                         NaN              NaN   \n",
       "\n",
       "    related_vertical_name bd_category  ko_youtube  \n",
       "0                      런던      TRAVEL           1  \n",
       "1                      뉴욕      TRAVEL           1  \n",
       "2                    호놀룰루      TRAVEL           1  \n",
       "3                      뉴욕      TRAVEL           1  \n",
       "4                      런던      TRAVEL           1  \n",
       "..                    ...         ...         ...  \n",
       "725                    뉴욕     OUTDOOR           0  \n",
       "726                   푸나카     CULTURE           0  \n",
       "727                    켄팅     OUTDOOR           0  \n",
       "728                    세부      TRAVEL           0  \n",
       "729                   NaN         NaN           0  \n",
       "\n",
       "[730 rows x 7 columns]"
      ]
     },
     "execution_count": 3,
     "metadata": {},
     "output_type": "execute_result"
    }
   ],
   "source": [
    "def is_nan(num):\n",
    "    return num != num\n",
    "\n",
    "\n",
    "#전달 받은 수집해야할 도시 데이터 파일 경로 입력\n",
    "file_path=Desktop+\"/Desktop/staypia_bucketlist_v2.xlsx\"\n",
    "data = pd.read_excel(file_path)\n",
    "data"
   ]
  },
  {
   "cell_type": "code",
   "execution_count": 5,
   "metadata": {},
   "outputs": [
    {
     "data": {
      "text/plain": [
       "'↵'"
      ]
     },
     "execution_count": 5,
     "metadata": {},
     "output_type": "execute_result"
    }
   ],
   "source": [
    "data['cd_idx'][729]"
   ]
  },
  {
   "cell_type": "code",
   "execution_count": 7,
   "metadata": {},
   "outputs": [
    {
     "name": "stdout",
     "output_type": "stream",
     "text": [
      "<class 'int'> <class 'str'>\n"
     ]
    }
   ],
   "source": [
    "print(type(data['cd_idx'][728]),type(data['cd_idx'][729])) "
   ]
  },
  {
   "cell_type": "code",
   "execution_count": null,
   "metadata": {},
   "outputs": [],
   "source": [
    "if isinstance(original_data['final_imdb'][2] , float):\n",
    "    print(\"o\")\n",
    "else:\n",
    "    print(\"x\")"
   ]
  },
  {
   "cell_type": "code",
   "execution_count": 16,
   "metadata": {
    "scrolled": true
   },
   "outputs": [
    {
     "name": "stdout",
     "output_type": "stream",
     "text": [
      "415 ↵Get bottle opener and whiskey as your souvenir from the shop. nan \n",
      "\n",
      "416 ↵Visit Asahi Brewery Hakata, if you want a sip of fresh beer. 일본 후쿠오카에는 깔끔한 뒷맛으로 인지도가 높은 ‘아사히맥주 하카타공장’이 있습니다. 이곳에서는 맥주의 역사, 제조과정, 포장기술을 관람할 수 있고, 갓 만든 신선한 맥주를 시음해볼 수 있습니다. 이외에도 병따개, 위스키 등 각종 기념품도 구매할 수 있습니다. 특별한 체험을 할 수 있는 ‘아사히맥주 공장’에 방문해보세요. \n",
      "\n",
      "695 ↵ nan \n",
      "\n",
      "696 ↵  캄보디아 프놈펜에 있는 ‘왓프놈’은 1372년에 지어진 불교 사원입니다. 전설에 의하면 과거 지역에서 신앙심 깊은 여성 ‘펜’이 강으로 떠내려온 불상을 안치하기 위해 언덕을 쌓고 그 위에 이 사원을 세웠다고 합니다. 도시의 이름도 언덕을 뜻하는 ‘프놈’과 ‘펜’의 이름이 합쳐져서 만들어졌을 정도로 중요한 의미가 있죠. 사원 내에는 사자를 닮은 전설 속 동물 ‘나르싱하’와 인도 신화에 등장하는 사신 ‘나가’, ‘가루다’ 등 다양한 조각을 살펴볼 수 있습니다. 또한, 대웅전으로 들어가면 벽과 천장의 화려한 그림과 거대한 황금 불상 등을 감상할 수 있는데요. 현지인들은 매일 같이 안녕과 소원을 위해 불상 앞에서 초를 피워 올리고 있습니다. 그들과 함께 예를 올려보는 것은 어떨까요? 이외에도 야외에서는 정교한 사리탑들과 정원이 있어 천천히 산책하며 둘러보기도 좋습니다. 프놈펜 불교문화의 중심지, '왓프놈'을 방문해보세요. \n",
      "\n",
      "709 ↵682,3664639,탈린의 랜드마크 'Marcelo Batata'는 페루 쿠스코에 있는 레스토랑입니다. 이곳은 현지에서도 손꼽히는 맛으로 많은 사람이 방문하는데요. 안데스 지역의 전통 요리에 현대식 조리 기술을 더하여 샐러드와 알파카 스테이크 등 다양한 맛을 제공합니다. 대부분 현지에서 생산한 유기농 재료를 사용하며, 모든 음식은 당일 조리되어 신선함을 보장합니다. 또 호두, 글루텐, 유제품이 함유된 음식은 특별히 표시하고 있으며 채식주의자를 위한 메뉴도 마련해 두어 방문객은 편하게 자신에게 맞는 요리를 선택할 수 있습니다. 요리에 곁들일 여러 남미 와인과 달콤한 디저트도 준비되어 있습니다. 옥상에 있는 테이블에서 현지의 풍경을 감상하며 요리를 즐기는 것도 좋습니다. 페루의 맛을 느낄 수 있는 레스토랑, 'Marcelo Batata'입니다. \n",
      "\n",
      "718 ↵ 크로아티아 스플리트에 있는 ‘Bacvice Beach’는 부드러운 모래사장과 얕고 맑은 바다가 아름답게 펼쳐진 해변입니다. 도심에서 도보로 이동 가능하며, 각종 편의시설과 해변 뒤쪽으로 레스토랑 등이 있어 휴양을 즐기려는 많은 사람이 찾는 곳이죠. 해가 지면 이곳은 색다른 모습으로 변신하는데요. 바닷가 주변으로 늘어선 카페와 클럽들이 오픈하면서 나이트라이프를 즐길 수 있기 때문이죠. 화려한 조명과 신나는 음악 속에서 스플리트의 밤을 보내보세요. 낮과 밤, 색다른 매력을 선사하는 ‘Bacvice Beach’입니다. \n",
      "\n",
      "731 ↵ 판단 잎으로 만드는 달콤함과 고소함의 결정체, 카야잼을 아시나요? 싱가포르의 '야쿤 카야 토스트(Ya Kun Kaya Toast)'에서 그 맛을 만나볼 수 있습니다. 1944년 차이나타운에서 시작한 이곳은 현재 도시 곳곳에 많은 체인점을 낼 정도로 인기가 많은데요. 바삭함을 살린 빵 사이에 카야잼과 버터를 넣은 ‘버터 카야 토스트’가 이곳의 대표 메뉴입니다. 또한, 이곳을 더욱더 특별하게 만드는 것은 함께 곁들여 먹는 수란인데요. 특제 간장 소스를 섞은 촉촉한 수란에 토스트를 찍어 먹으면 입안 가득 고소한 풍미를 느낄 수 있습니다. 또한, 싱가포스식 커피 ‘코피(Kopi)’를 토스트와 함께 즐겨보세요. 현지인들도 사랑하는 맛집, ‘야쿤 카야 토스트’입니다.  \n",
      "\n"
     ]
    }
   ],
   "source": [
    "#7개\n",
    "for i in range(len(data)):\n",
    "    if not isinstance(data['cd_idx'][i] , int):\n",
    "        print(i+2,data['cd_idx'][i],data['bd_name'][i],'\\n')"
   ]
  },
  {
   "cell_type": "code",
   "execution_count": 38,
   "metadata": {
    "scrolled": true
   },
   "outputs": [
    {
     "data": {
      "text/html": [
       "<div>\n",
       "<style scoped>\n",
       "    .dataframe tbody tr th:only-of-type {\n",
       "        vertical-align: middle;\n",
       "    }\n",
       "\n",
       "    .dataframe tbody tr th {\n",
       "        vertical-align: top;\n",
       "    }\n",
       "\n",
       "    .dataframe thead th {\n",
       "        text-align: right;\n",
       "    }\n",
       "</style>\n",
       "<table border=\"1\" class=\"dataframe\">\n",
       "  <thead>\n",
       "    <tr style=\"text-align: right;\">\n",
       "      <th></th>\n",
       "      <th>cd_idx</th>\n",
       "      <th>bd_name</th>\n",
       "      <th>bd_name_ko</th>\n",
       "      <th>relation_cd_idx</th>\n",
       "      <th>related_vertical_name</th>\n",
       "      <th>bd_category</th>\n",
       "      <th>ko_youtube</th>\n",
       "    </tr>\n",
       "  </thead>\n",
       "  <tbody>\n",
       "    <tr>\n",
       "      <th>0</th>\n",
       "      <td>3193035</td>\n",
       "      <td>Take a walk in Harry Potter's magician street,...</td>\n",
       "      <td>&lt;해리포터&gt;의 마법사 거리, '다이애건 앨리' 걸어보기</td>\n",
       "      <td>1213719.0</td>\n",
       "      <td>런던</td>\n",
       "      <td>TRAVEL</td>\n",
       "      <td>1</td>\n",
       "    </tr>\n",
       "    <tr>\n",
       "      <th>1</th>\n",
       "      <td>3193036</td>\n",
       "      <td>Explore the American Museum of Natural History...</td>\n",
       "      <td>인류와 생물 그리고 우주에 관하여, 뉴욕 '자연사 박물관' 탐방하기</td>\n",
       "      <td>1228306.0</td>\n",
       "      <td>뉴욕</td>\n",
       "      <td>TRAVEL</td>\n",
       "      <td>1</td>\n",
       "    </tr>\n",
       "    <tr>\n",
       "      <th>2</th>\n",
       "      <td>3193037</td>\n",
       "      <td>Take a walk to Kualoa Ranch, the primitive env...</td>\n",
       "      <td>원시 자연의 모습 그대로, '쿠알로아 랜치' 산책하기</td>\n",
       "      <td>1218193.0</td>\n",
       "      <td>호놀룰루</td>\n",
       "      <td>TRAVEL</td>\n",
       "      <td>1</td>\n",
       "    </tr>\n",
       "    <tr>\n",
       "      <th>3</th>\n",
       "      <td>3193038</td>\n",
       "      <td>Relax by yourself in luxury and antique Plaza ...</td>\n",
       "      <td>100년의 역사를 간직한 호화로운 '플라자 호텔'에서 나 홀로 호캉스 즐기기</td>\n",
       "      <td>1228306.0</td>\n",
       "      <td>뉴욕</td>\n",
       "      <td>TRAVEL</td>\n",
       "      <td>1</td>\n",
       "    </tr>\n",
       "    <tr>\n",
       "      <th>4</th>\n",
       "      <td>3193039</td>\n",
       "      <td>Read books in a romantic city of literature, N...</td>\n",
       "      <td>로맨틱한 문학 도시 '노팅힐'의 서점에서 독서하기</td>\n",
       "      <td>1213719.0</td>\n",
       "      <td>런던</td>\n",
       "      <td>TRAVEL</td>\n",
       "      <td>1</td>\n",
       "    </tr>\n",
       "    <tr>\n",
       "      <th>...</th>\n",
       "      <td>...</td>\n",
       "      <td>...</td>\n",
       "      <td>...</td>\n",
       "      <td>...</td>\n",
       "      <td>...</td>\n",
       "      <td>...</td>\n",
       "      <td>...</td>\n",
       "    </tr>\n",
       "    <tr>\n",
       "      <th>725</th>\n",
       "      <td>3664671</td>\n",
       "      <td>Sakte at the ‘Wollman Rink’, the ice-rink in t...</td>\n",
       "      <td>빌딩 숲속의 빙판, '울먼 링크'에서 스케이트 타기</td>\n",
       "      <td>1228306.0</td>\n",
       "      <td>뉴욕</td>\n",
       "      <td>OUTDOOR</td>\n",
       "      <td>0</td>\n",
       "    </tr>\n",
       "    <tr>\n",
       "      <th>726</th>\n",
       "      <td>3664673</td>\n",
       "      <td>Relax at the temple of happiness 'Punakha Dzong’</td>\n",
       "      <td>행복을 전하는 사원, 'Punakha Dzong'에서 힐링하기</td>\n",
       "      <td>3132116.0</td>\n",
       "      <td>푸나카</td>\n",
       "      <td>CULTURE</td>\n",
       "      <td>0</td>\n",
       "    </tr>\n",
       "    <tr>\n",
       "      <th>727</th>\n",
       "      <td>3664679</td>\n",
       "      <td>Feel the thrill of crossing the sky! Ride an a...</td>\n",
       "      <td>하늘을 가로지르는 짜릿함! '핑동 어드벤처 플라이트'에서 항공기 타기</td>\n",
       "      <td>1213328.0</td>\n",
       "      <td>켄팅</td>\n",
       "      <td>OUTDOOR</td>\n",
       "      <td>0</td>\n",
       "    </tr>\n",
       "    <tr>\n",
       "      <th>728</th>\n",
       "      <td>3664680</td>\n",
       "      <td>Take a picture at ‘Sirao Garden’, the beautifu...</td>\n",
       "      <td>아름다운 하늘 정원, '시라오 가든'에서 사진 찍기</td>\n",
       "      <td>1215658.0</td>\n",
       "      <td>세부</td>\n",
       "      <td>TRAVEL</td>\n",
       "      <td>0</td>\n",
       "    </tr>\n",
       "    <tr>\n",
       "      <th>729</th>\n",
       "      <td>↵</td>\n",
       "      <td>판단 잎으로 만드는 달콤함과 고소함의 결정체, 카야잼을 아시나요? 싱가포르의 '야쿤...</td>\n",
       "      <td>NaN</td>\n",
       "      <td>NaN</td>\n",
       "      <td>NaN</td>\n",
       "      <td>NaN</td>\n",
       "      <td>0</td>\n",
       "    </tr>\n",
       "  </tbody>\n",
       "</table>\n",
       "<p>730 rows × 7 columns</p>\n",
       "</div>"
      ],
      "text/plain": [
       "      cd_idx                                            bd_name  \\\n",
       "0    3193035  Take a walk in Harry Potter's magician street,...   \n",
       "1    3193036  Explore the American Museum of Natural History...   \n",
       "2    3193037  Take a walk to Kualoa Ranch, the primitive env...   \n",
       "3    3193038  Relax by yourself in luxury and antique Plaza ...   \n",
       "4    3193039  Read books in a romantic city of literature, N...   \n",
       "..       ...                                                ...   \n",
       "725  3664671  Sakte at the ‘Wollman Rink’, the ice-rink in t...   \n",
       "726  3664673   Relax at the temple of happiness 'Punakha Dzong’   \n",
       "727  3664679  Feel the thrill of crossing the sky! Ride an a...   \n",
       "728  3664680  Take a picture at ‘Sirao Garden’, the beautifu...   \n",
       "729        ↵  판단 잎으로 만드는 달콤함과 고소함의 결정체, 카야잼을 아시나요? 싱가포르의 '야쿤...   \n",
       "\n",
       "                                     bd_name_ko  relation_cd_idx  \\\n",
       "0                <해리포터>의 마법사 거리, '다이애건 앨리' 걸어보기        1213719.0   \n",
       "1         인류와 생물 그리고 우주에 관하여, 뉴욕 '자연사 박물관' 탐방하기        1228306.0   \n",
       "2                 원시 자연의 모습 그대로, '쿠알로아 랜치' 산책하기        1218193.0   \n",
       "3    100년의 역사를 간직한 호화로운 '플라자 호텔'에서 나 홀로 호캉스 즐기기        1228306.0   \n",
       "4                   로맨틱한 문학 도시 '노팅힐'의 서점에서 독서하기        1213719.0   \n",
       "..                                          ...              ...   \n",
       "725                빌딩 숲속의 빙판, '울먼 링크'에서 스케이트 타기        1228306.0   \n",
       "726          행복을 전하는 사원, 'Punakha Dzong'에서 힐링하기        3132116.0   \n",
       "727      하늘을 가로지르는 짜릿함! '핑동 어드벤처 플라이트'에서 항공기 타기        1213328.0   \n",
       "728                아름다운 하늘 정원, '시라오 가든'에서 사진 찍기        1215658.0   \n",
       "729                                         NaN              NaN   \n",
       "\n",
       "    related_vertical_name bd_category  ko_youtube  \n",
       "0                      런던      TRAVEL           1  \n",
       "1                      뉴욕      TRAVEL           1  \n",
       "2                    호놀룰루      TRAVEL           1  \n",
       "3                      뉴욕      TRAVEL           1  \n",
       "4                      런던      TRAVEL           1  \n",
       "..                    ...         ...         ...  \n",
       "725                    뉴욕     OUTDOOR           0  \n",
       "726                   푸나카     CULTURE           0  \n",
       "727                    켄팅     OUTDOOR           0  \n",
       "728                    세부      TRAVEL           0  \n",
       "729                   NaN         NaN           0  \n",
       "\n",
       "[730 rows x 7 columns]"
      ]
     },
     "execution_count": 38,
     "metadata": {},
     "output_type": "execute_result"
    }
   ],
   "source": [
    "data"
   ]
  },
  {
   "cell_type": "code",
   "execution_count": 43,
   "metadata": {
    "scrolled": true
   },
   "outputs": [
    {
     "name": "stdout",
     "output_type": "stream",
     "text": [
      "0\n",
      "1\n",
      "2\n",
      "3\n",
      "4\n",
      "5\n",
      "6\n",
      "7\n",
      "8\n",
      "9\n",
      "10\n",
      "11\n",
      "12\n",
      "13\n",
      "14\n",
      "15\n",
      "16\n",
      "17\n",
      "18\n",
      "19\n",
      "20\n",
      "21\n",
      "22\n",
      "23\n",
      "24\n",
      "25\n",
      "26\n",
      "27\n",
      "28\n",
      "29\n",
      "30\n",
      "31\n",
      "32\n",
      "33\n",
      "34\n",
      "35\n",
      "36\n",
      "37\n",
      "38\n",
      "39\n",
      "40\n",
      "41\n",
      "42\n",
      "43\n",
      "44\n",
      "45\n",
      "46\n",
      "47\n",
      "48\n",
      "49\n",
      "50\n",
      "51\n",
      "52\n",
      "53\n",
      "54\n",
      "55\n",
      "56\n",
      "57\n",
      "58\n",
      "59\n",
      "60\n",
      "61\n",
      "62\n",
      "63\n",
      "64\n",
      "65\n",
      "66\n",
      "67\n",
      "68\n",
      "69\n",
      "70\n",
      "71\n",
      "72\n",
      "73\n",
      "74\n",
      "75\n",
      "76\n",
      "77\n",
      "78\n",
      "79\n",
      "80\n",
      "81\n",
      "82\n",
      "83\n",
      "84\n",
      "85\n",
      "86\n",
      "87\n",
      "88\n",
      "89\n",
      "90\n",
      "91\n",
      "92\n",
      "93\n",
      "94\n",
      "95\n",
      "96\n",
      "97\n",
      "98\n",
      "99\n",
      "100\n",
      "101\n",
      "102\n",
      "103\n",
      "104\n",
      "105\n",
      "106\n",
      "107\n",
      "108\n",
      "109\n",
      "110\n",
      "111\n",
      "112\n",
      "113\n",
      "114\n",
      "115\n",
      "116\n",
      "117\n",
      "118\n",
      "119\n",
      "120\n",
      "121\n",
      "122\n",
      "123\n",
      "124\n",
      "125\n",
      "126\n",
      "127\n",
      "128\n",
      "129\n",
      "130\n",
      "131\n",
      "132\n",
      "133\n",
      "134\n",
      "135\n",
      "136\n",
      "137\n",
      "138\n",
      "139\n",
      "140\n",
      "141\n",
      "142\n",
      "143\n",
      "144\n",
      "145\n",
      "146\n",
      "147\n",
      "148\n",
      "149\n",
      "150\n",
      "151\n",
      "152\n",
      "153\n",
      "154\n",
      "155\n",
      "156\n",
      "157\n",
      "158\n",
      "159\n",
      "160\n",
      "161\n",
      "162\n",
      "163\n",
      "164\n",
      "165\n",
      "166\n",
      "167\n",
      "168\n",
      "169\n",
      "170\n",
      "171\n",
      "172\n",
      "173\n",
      "174\n",
      "175\n",
      "176\n",
      "177\n",
      "178\n",
      "179\n",
      "180\n",
      "181\n",
      "182\n",
      "183\n",
      "184\n",
      "185\n",
      "186\n",
      "187\n",
      "188\n",
      "189\n",
      "190\n",
      "191\n",
      "192\n",
      "193\n",
      "194\n",
      "195\n",
      "196\n",
      "197\n",
      "198\n",
      "199\n",
      "200\n",
      "201\n",
      "202\n",
      "203\n",
      "204\n",
      "205\n",
      "206\n",
      "207\n",
      "208\n",
      "209\n",
      "210\n",
      "211\n",
      "212\n",
      "213\n",
      "214\n",
      "215\n",
      "216\n",
      "217\n",
      "218\n",
      "219\n",
      "220\n",
      "221\n",
      "222\n",
      "223\n",
      "224\n",
      "225\n",
      "226\n",
      "227\n",
      "228\n",
      "229\n",
      "230\n",
      "231\n",
      "232\n",
      "233\n",
      "234\n",
      "235\n",
      "236\n",
      "237\n",
      "238\n",
      "239\n",
      "240\n",
      "241\n",
      "242\n",
      "243\n",
      "244\n",
      "245\n",
      "246\n",
      "247\n",
      "248\n",
      "249\n",
      "250\n",
      "251\n",
      "252\n",
      "253\n",
      "254\n",
      "255\n",
      "256\n",
      "257\n",
      "258\n",
      "259\n",
      "260\n",
      "261\n",
      "262\n",
      "263\n",
      "264\n",
      "265\n",
      "266\n",
      "267\n",
      "268\n",
      "269\n",
      "270\n",
      "271\n",
      "272\n",
      "273\n",
      "274\n",
      "275\n",
      "276\n",
      "277\n",
      "278\n",
      "279\n",
      "280\n",
      "281\n",
      "282\n",
      "283\n",
      "284\n",
      "285\n",
      "286\n",
      "287\n",
      "288\n",
      "289\n",
      "290\n",
      "291\n",
      "292\n",
      "293\n",
      "294\n",
      "295\n",
      "296\n",
      "297\n",
      "298\n",
      "299\n",
      "300\n",
      "301\n",
      "302\n",
      "303\n",
      "304\n",
      "305\n",
      "306\n",
      "307\n",
      "308\n",
      "309\n",
      "310\n",
      "311\n",
      "312\n",
      "313\n",
      "314\n",
      "315\n",
      "316\n",
      "317\n",
      "318\n",
      "319\n",
      "320\n",
      "321\n",
      "322\n",
      "323\n",
      "324\n",
      "325\n",
      "326\n",
      "327\n",
      "328\n",
      "329\n",
      "330\n",
      "331\n",
      "332\n",
      "333\n",
      "334\n",
      "335\n",
      "336\n",
      "337\n",
      "338\n",
      "339\n",
      "340\n",
      "341\n",
      "342\n",
      "343\n",
      "344\n",
      "345\n",
      "346\n",
      "347\n",
      "348\n",
      "349\n",
      "350\n",
      "351\n",
      "352\n",
      "353\n",
      "354\n",
      "355\n",
      "356\n",
      "357\n",
      "358\n",
      "359\n",
      "360\n",
      "361\n",
      "362\n",
      "363\n",
      "364\n",
      "365\n",
      "366\n",
      "367\n",
      "368\n",
      "369\n",
      "370\n",
      "371\n",
      "372\n",
      "373\n",
      "374\n",
      "375\n",
      "376\n",
      "377\n",
      "378\n",
      "379\n",
      "380\n",
      "381\n",
      "382\n",
      "383\n",
      "384\n",
      "385\n",
      "386\n",
      "387\n",
      "388\n",
      "389\n",
      "390\n",
      "391\n",
      "392\n",
      "393\n",
      "394\n",
      "395\n",
      "396\n",
      "397\n",
      "398\n",
      "399\n",
      "400\n",
      "401\n",
      "402\n",
      "403\n",
      "404\n",
      "405\n",
      "406\n",
      "407\n",
      "408\n",
      "409\n",
      "410\n",
      "411\n",
      "412\n",
      "415\n",
      "416\n",
      "417\n",
      "418\n",
      "419\n",
      "420\n",
      "421\n",
      "422\n",
      "423\n",
      "424\n",
      "425\n",
      "426\n",
      "427\n",
      "428\n",
      "429\n",
      "430\n",
      "431\n",
      "432\n",
      "433\n",
      "434\n",
      "435\n",
      "436\n",
      "437\n",
      "438\n",
      "439\n",
      "440\n",
      "441\n",
      "442\n",
      "443\n",
      "444\n",
      "445\n",
      "446\n",
      "447\n",
      "448\n",
      "449\n",
      "450\n",
      "451\n",
      "452\n",
      "453\n",
      "454\n",
      "455\n",
      "456\n",
      "457\n",
      "458\n",
      "459\n",
      "460\n",
      "461\n",
      "462\n",
      "463\n",
      "464\n",
      "465\n",
      "466\n",
      "467\n",
      "468\n",
      "469\n",
      "470\n",
      "471\n",
      "472\n",
      "473\n",
      "474\n",
      "475\n",
      "476\n",
      "477\n",
      "478\n",
      "479\n",
      "480\n",
      "481\n",
      "482\n",
      "483\n",
      "484\n",
      "485\n",
      "486\n",
      "487\n",
      "488\n",
      "489\n",
      "490\n",
      "491\n",
      "492\n",
      "493\n",
      "494\n",
      "495\n",
      "496\n",
      "497\n",
      "498\n",
      "499\n",
      "500\n",
      "501\n",
      "502\n",
      "503\n",
      "504\n",
      "505\n",
      "506\n",
      "507\n",
      "508\n",
      "509\n",
      "510\n",
      "511\n",
      "512\n",
      "513\n",
      "514\n",
      "515\n",
      "516\n",
      "517\n",
      "518\n",
      "519\n",
      "520\n",
      "521\n",
      "522\n",
      "523\n",
      "524\n",
      "525\n",
      "526\n",
      "527\n",
      "528\n",
      "529\n",
      "530\n",
      "531\n",
      "532\n",
      "533\n",
      "534\n",
      "535\n",
      "536\n",
      "537\n",
      "538\n",
      "539\n",
      "540\n",
      "541\n",
      "542\n",
      "543\n",
      "544\n",
      "545\n",
      "546\n",
      "547\n",
      "548\n",
      "549\n",
      "550\n",
      "551\n",
      "552\n",
      "553\n",
      "554\n",
      "555\n",
      "556\n",
      "557\n",
      "558\n",
      "559\n",
      "560\n",
      "561\n",
      "562\n",
      "563\n",
      "564\n",
      "565\n",
      "566\n",
      "567\n",
      "568\n",
      "569\n",
      "570\n",
      "571\n",
      "572\n",
      "573\n",
      "574\n",
      "575\n",
      "576\n",
      "577\n",
      "578\n",
      "579\n",
      "580\n",
      "581\n",
      "582\n",
      "583\n",
      "584\n",
      "585\n",
      "586\n",
      "587\n",
      "588\n",
      "589\n",
      "590\n",
      "591\n",
      "592\n",
      "593\n",
      "594\n",
      "595\n",
      "596\n",
      "597\n",
      "598\n",
      "599\n",
      "600\n",
      "601\n",
      "602\n",
      "603\n",
      "604\n",
      "605\n",
      "606\n",
      "607\n",
      "608\n",
      "609\n",
      "610\n",
      "611\n",
      "612\n",
      "613\n",
      "614\n",
      "615\n",
      "616\n",
      "617\n",
      "618\n",
      "619\n",
      "620\n",
      "621\n",
      "622\n",
      "623\n",
      "624\n",
      "625\n",
      "626\n",
      "627\n",
      "628\n",
      "629\n",
      "630\n",
      "631\n",
      "632\n",
      "633\n",
      "634\n",
      "635\n",
      "636\n",
      "637\n",
      "638\n",
      "639\n",
      "640\n",
      "641\n",
      "642\n",
      "643\n",
      "644\n",
      "645\n",
      "646\n",
      "647\n",
      "648\n",
      "649\n",
      "650\n",
      "651\n",
      "652\n",
      "653\n",
      "654\n",
      "655\n",
      "656\n",
      "657\n",
      "658\n",
      "659\n",
      "660\n",
      "661\n",
      "662\n",
      "663\n",
      "664\n",
      "665\n",
      "666\n",
      "667\n",
      "668\n",
      "669\n",
      "670\n",
      "671\n",
      "672\n",
      "673\n",
      "674\n",
      "675\n",
      "676\n",
      "677\n",
      "678\n",
      "679\n",
      "680\n",
      "681\n",
      "682\n",
      "683\n",
      "684\n",
      "685\n",
      "686\n",
      "687\n",
      "688\n",
      "689\n",
      "690\n",
      "691\n",
      "692\n",
      "695\n",
      "696\n",
      "697\n",
      "698\n",
      "699\n",
      "700\n",
      "701\n",
      "702\n",
      "703\n",
      "704\n",
      "705\n",
      "706\n",
      "708\n",
      "709\n",
      "710\n",
      "711\n",
      "712\n",
      "713\n",
      "714\n",
      "715\n",
      "717\n",
      "718\n",
      "719\n",
      "720\n",
      "721\n",
      "722\n",
      "723\n",
      "724\n",
      "725\n",
      "726\n",
      "727\n",
      "728\n"
     ]
    }
   ],
   "source": [
    "#7개\n",
    "for i in range(len(data)):\n",
    "    if isinstance(data['cd_idx'][i] , int):\n",
    "        print(i)\n",
    "    else:\n",
    "#         print(i,data['cd_idx'][i],data['bd_name'][i],'\\n')\n",
    "        continue"
   ]
  },
  {
   "cell_type": "code",
   "execution_count": 32,
   "metadata": {},
   "outputs": [
    {
     "data": {
      "text/plain": [
       "nan"
      ]
     },
     "execution_count": 32,
     "metadata": {},
     "output_type": "execute_result"
    }
   ],
   "source": [
    "data['bd_name'][693]"
   ]
  },
  {
   "cell_type": "code",
   "execution_count": null,
   "metadata": {},
   "outputs": [],
   "source": []
  },
  {
   "cell_type": "code",
   "execution_count": null,
   "metadata": {},
   "outputs": [],
   "source": []
  },
  {
   "cell_type": "code",
   "execution_count": null,
   "metadata": {},
   "outputs": [],
   "source": []
  },
  {
   "cell_type": "code",
   "execution_count": null,
   "metadata": {},
   "outputs": [],
   "source": []
  },
  {
   "cell_type": "code",
   "execution_count": null,
   "metadata": {},
   "outputs": [],
   "source": []
  },
  {
   "cell_type": "code",
   "execution_count": 33,
   "metadata": {},
   "outputs": [
    {
     "data": {
      "text/html": [
       "<div>\n",
       "<style scoped>\n",
       "    .dataframe tbody tr th:only-of-type {\n",
       "        vertical-align: middle;\n",
       "    }\n",
       "\n",
       "    .dataframe tbody tr th {\n",
       "        vertical-align: top;\n",
       "    }\n",
       "\n",
       "    .dataframe thead th {\n",
       "        text-align: right;\n",
       "    }\n",
       "</style>\n",
       "<table border=\"1\" class=\"dataframe\">\n",
       "  <thead>\n",
       "    <tr style=\"text-align: right;\">\n",
       "      <th></th>\n",
       "      <th>ci_code</th>\n",
       "      <th>cd_idx</th>\n",
       "      <th>city_name</th>\n",
       "      <th>city_name_ko</th>\n",
       "      <th>country</th>\n",
       "      <th>country_name</th>\n",
       "      <th>country_name_ko</th>\n",
       "      <th>ko_youtube</th>\n",
       "    </tr>\n",
       "  </thead>\n",
       "  <tbody>\n",
       "    <tr>\n",
       "      <th>0</th>\n",
       "      <td>459419</td>\n",
       "      <td>3179591</td>\n",
       "      <td>Lhotka</td>\n",
       "      <td>Lhotka</td>\n",
       "      <td>cz</td>\n",
       "      <td>Czech Republic</td>\n",
       "      <td>체코</td>\n",
       "      <td>1.0</td>\n",
       "    </tr>\n",
       "    <tr>\n",
       "      <th>1</th>\n",
       "      <td>64398</td>\n",
       "      <td>3179532</td>\n",
       "      <td>Rakitovo</td>\n",
       "      <td>Rakitovo</td>\n",
       "      <td>bg</td>\n",
       "      <td>Bulgaria</td>\n",
       "      <td>불가리아</td>\n",
       "      <td>1.0</td>\n",
       "    </tr>\n",
       "    <tr>\n",
       "      <th>2</th>\n",
       "      <td>519813</td>\n",
       "      <td>3176579</td>\n",
       "      <td>Dvorište</td>\n",
       "      <td>Dvorište</td>\n",
       "      <td>rs</td>\n",
       "      <td>Serbia</td>\n",
       "      <td>세르비아</td>\n",
       "      <td>1.0</td>\n",
       "    </tr>\n",
       "    <tr>\n",
       "      <th>3</th>\n",
       "      <td>85749</td>\n",
       "      <td>3174718</td>\n",
       "      <td>Sibonga</td>\n",
       "      <td>Sibonga</td>\n",
       "      <td>ph</td>\n",
       "      <td>Philippines</td>\n",
       "      <td>필리핀</td>\n",
       "      <td>1.0</td>\n",
       "    </tr>\n",
       "    <tr>\n",
       "      <th>4</th>\n",
       "      <td>145555</td>\n",
       "      <td>3166441</td>\n",
       "      <td>Peñaflor</td>\n",
       "      <td>Peñaflor</td>\n",
       "      <td>cl</td>\n",
       "      <td>Chile</td>\n",
       "      <td>칠레</td>\n",
       "      <td>1.0</td>\n",
       "    </tr>\n",
       "    <tr>\n",
       "      <th>...</th>\n",
       "      <td>...</td>\n",
       "      <td>...</td>\n",
       "      <td>...</td>\n",
       "      <td>...</td>\n",
       "      <td>...</td>\n",
       "      <td>...</td>\n",
       "      <td>...</td>\n",
       "      <td>...</td>\n",
       "    </tr>\n",
       "    <tr>\n",
       "      <th>5595</th>\n",
       "      <td>135080</td>\n",
       "      <td>3178218</td>\n",
       "      <td>Prudhoe</td>\n",
       "      <td>Prudhoe</td>\n",
       "      <td>gb</td>\n",
       "      <td>United Kingdom</td>\n",
       "      <td>영국</td>\n",
       "      <td>NaN</td>\n",
       "    </tr>\n",
       "    <tr>\n",
       "      <th>5596</th>\n",
       "      <td>150577</td>\n",
       "      <td>3178587</td>\n",
       "      <td>Red Creek</td>\n",
       "      <td>Red Creek</td>\n",
       "      <td>us</td>\n",
       "      <td>USA</td>\n",
       "      <td>미국</td>\n",
       "      <td>NaN</td>\n",
       "    </tr>\n",
       "    <tr>\n",
       "      <th>5597</th>\n",
       "      <td>251274</td>\n",
       "      <td>3178842</td>\n",
       "      <td>Blanchisseuse</td>\n",
       "      <td>Blanchisseuse</td>\n",
       "      <td>tt</td>\n",
       "      <td>Trinidad and Tobago</td>\n",
       "      <td>트리니다드 토바고</td>\n",
       "      <td>NaN</td>\n",
       "    </tr>\n",
       "    <tr>\n",
       "      <th>5598</th>\n",
       "      <td>127952</td>\n",
       "      <td>3178916</td>\n",
       "      <td>Malešov</td>\n",
       "      <td>Malešov</td>\n",
       "      <td>cz</td>\n",
       "      <td>Czech Republic</td>\n",
       "      <td>체코</td>\n",
       "      <td>NaN</td>\n",
       "    </tr>\n",
       "    <tr>\n",
       "      <th>5599</th>\n",
       "      <td>86100</td>\n",
       "      <td>3179206</td>\n",
       "      <td>Hinatuan</td>\n",
       "      <td>Hinatuan</td>\n",
       "      <td>ph</td>\n",
       "      <td>Philippines</td>\n",
       "      <td>필리핀</td>\n",
       "      <td>NaN</td>\n",
       "    </tr>\n",
       "  </tbody>\n",
       "</table>\n",
       "<p>5600 rows × 8 columns</p>\n",
       "</div>"
      ],
      "text/plain": [
       "      ci_code   cd_idx      city_name   city_name_ko country  \\\n",
       "0      459419  3179591         Lhotka         Lhotka      cz   \n",
       "1       64398  3179532       Rakitovo       Rakitovo      bg   \n",
       "2      519813  3176579       Dvorište       Dvorište      rs   \n",
       "3       85749  3174718        Sibonga        Sibonga      ph   \n",
       "4      145555  3166441       Peñaflor       Peñaflor      cl   \n",
       "...       ...      ...            ...            ...     ...   \n",
       "5595   135080  3178218        Prudhoe        Prudhoe      gb   \n",
       "5596   150577  3178587      Red Creek      Red Creek      us   \n",
       "5597   251274  3178842  Blanchisseuse  Blanchisseuse      tt   \n",
       "5598   127952  3178916        Malešov        Malešov      cz   \n",
       "5599    86100  3179206       Hinatuan       Hinatuan      ph   \n",
       "\n",
       "             country_name country_name_ko  ko_youtube  \n",
       "0          Czech Republic              체코         1.0  \n",
       "1                Bulgaria            불가리아         1.0  \n",
       "2                  Serbia            세르비아         1.0  \n",
       "3             Philippines             필리핀         1.0  \n",
       "4                   Chile              칠레         1.0  \n",
       "...                   ...             ...         ...  \n",
       "5595       United Kingdom              영국         NaN  \n",
       "5596                  USA              미국         NaN  \n",
       "5597  Trinidad and Tobago       트리니다드 토바고         NaN  \n",
       "5598       Czech Republic              체코         NaN  \n",
       "5599          Philippines             필리핀         NaN  \n",
       "\n",
       "[5600 rows x 8 columns]"
      ]
     },
     "execution_count": 33,
     "metadata": {},
     "output_type": "execute_result"
    }
   ],
   "source": [
    "file_path1=Desktop+\"/Desktop/staypia_city_v2.xlsx\"\n",
    "data1 = pd.read_excel(file_path1)\n",
    "data1"
   ]
  },
  {
   "cell_type": "code",
   "execution_count": 34,
   "metadata": {},
   "outputs": [
    {
     "data": {
      "text/plain": [
       "nan"
      ]
     },
     "execution_count": 34,
     "metadata": {},
     "output_type": "execute_result"
    }
   ],
   "source": [
    "test=data1['ko_youtube'][5599]\n",
    "test"
   ]
  },
  {
   "cell_type": "code",
   "execution_count": null,
   "metadata": {},
   "outputs": [],
   "source": []
  },
  {
   "cell_type": "code",
   "execution_count": null,
   "metadata": {},
   "outputs": [],
   "source": []
  },
  {
   "cell_type": "code",
   "execution_count": 20,
   "metadata": {
    "scrolled": true
   },
   "outputs": [
    {
     "name": "stderr",
     "output_type": "stream",
     "text": [
      "\n",
      "\n",
      "====== WebDriver manager ======\n",
      "Current google-chrome version is 95.0.4638\n",
      "Get LATEST driver version for 95.0.4638\n",
      "Driver [/Users/mycelebs_28/.wdm/drivers/chromedriver/mac64/95.0.4638.17/chromedriver] found in cache\n",
      "/var/folders/j7/cfh4g_9d45b2vjb9rs3659bm0000gn/T/ipykernel_47106/3289997706.py:18: DeprecationWarning: use options instead of chrome_options\n",
      "  drv       = webdriver.Chrome(ChromeDriverManager().install(), chrome_options=options)\n",
      "돌리는중:   0%|                                          | 0/10 [00:00<?, ?it/s]"
     ]
    },
    {
     "name": "stdout",
     "output_type": "stream",
     "text": [
      "Take a walk in Harry Potter's magician street, Diagon Alley\n"
     ]
    },
    {
     "name": "stderr",
     "output_type": "stream",
     "text": [
      "\r",
      "돌리는중:  10%|███▍                              | 1/10 [00:14<02:07, 14.18s/it]"
     ]
    },
    {
     "name": "stdout",
     "output_type": "stream",
     "text": [
      "Explore the American Museum of Natural History, Humans, Life, and the Universe\n"
     ]
    },
    {
     "name": "stderr",
     "output_type": "stream",
     "text": [
      "\r",
      "돌리는중:  20%|██████▊                           | 2/10 [00:27<01:50, 13.84s/it]"
     ]
    },
    {
     "name": "stdout",
     "output_type": "stream",
     "text": [
      "Take a walk to Kualoa Ranch, the primitive environment\n"
     ]
    },
    {
     "name": "stderr",
     "output_type": "stream",
     "text": [
      "\r",
      "돌리는중:  30%|██████████▏                       | 3/10 [00:40<01:34, 13.48s/it]"
     ]
    },
    {
     "name": "stdout",
     "output_type": "stream",
     "text": [
      "Relax by yourself in luxury and antique Plaza Hotel\n"
     ]
    },
    {
     "name": "stderr",
     "output_type": "stream",
     "text": [
      "\r",
      "돌리는중:  40%|█████████████▌                    | 4/10 [00:53<01:19, 13.28s/it]"
     ]
    },
    {
     "name": "stdout",
     "output_type": "stream",
     "text": [
      "Read books in a romantic city of literature, Nottinghill\n"
     ]
    },
    {
     "name": "stderr",
     "output_type": "stream",
     "text": [
      "\r",
      "돌리는중:  50%|█████████████████                 | 5/10 [01:06<01:06, 13.24s/it]"
     ]
    },
    {
     "name": "stdout",
     "output_type": "stream",
     "text": [
      "Look around Christ Church campus at Oxford University\n"
     ]
    },
    {
     "name": "stderr",
     "output_type": "stream",
     "text": [
      "\r",
      "돌리는중:  60%|████████████████████▍             | 6/10 [01:20<00:53, 13.27s/it]"
     ]
    },
    {
     "name": "stdout",
     "output_type": "stream",
     "text": [
      "Enjoy the masterpiece of the Renaissance, Duomo di Firenze\n"
     ]
    },
    {
     "name": "stderr",
     "output_type": "stream",
     "text": [
      "\r",
      "돌리는중:  70%|███████████████████████▊          | 7/10 [01:33<00:39, 13.20s/it]"
     ]
    },
    {
     "name": "stdout",
     "output_type": "stream",
     "text": [
      "A bridge becomes an art. Have a walk under Bir-Hakeim\n"
     ]
    },
    {
     "name": "stderr",
     "output_type": "stream",
     "text": [
      "\r",
      "돌리는중:  80%|███████████████████████████▏      | 8/10 [01:46<00:26, 13.23s/it]"
     ]
    },
    {
     "name": "stdout",
     "output_type": "stream",
     "text": [
      "Capture the most beautiful moment of the Eiffel Tower at Bastille Day fireworks show\n"
     ]
    },
    {
     "name": "stderr",
     "output_type": "stream",
     "text": [
      "\r",
      "돌리는중:  90%|██████████████████████████████▌   | 9/10 [01:59<00:13, 13.26s/it]"
     ]
    },
    {
     "name": "stdout",
     "output_type": "stream",
     "text": [
      "Experience Mongolia's own culture in the Naadam festival!\n"
     ]
    },
    {
     "name": "stderr",
     "output_type": "stream",
     "text": [
      "돌리는중: 100%|█████████████████████████████████| 10/10 [02:13<00:00, 13.33s/it]\n"
     ]
    }
   ],
   "source": [
    "options = webdriver.ChromeOptions()\n",
    "#options.add_argument('headless')\n",
    "options.add_argument('--incognito')\n",
    "prefs = {'intl.accept_languages': 'en,en_US','cookies': 2, 'images': 1, 'plugins': 2, 'popups': 2,\n",
    "                                                    'geolocation': 2, 'notifications': 2,\n",
    "                                                    'auto_select_certificate': 2, 'fullscreen': 2, 'mouselock': 2,\n",
    "                                                    'mixed_script': 2, 'media_stream': 2, 'media_stream_mic': 2,\n",
    "                                                    'media_stream_camera': 2, 'protocol_handlers': 2,\n",
    "                                                    'ppapi_broker': 2, 'automatic_downloads': 2, 'midi_sysex': 2,\n",
    "                                                    'push_messaging': 2, 'ssl_cert_decisions': 2,\n",
    "                                                    'metro_switch_to_desktop': 2, 'protected_media_identifier': 2,\n",
    "                                                    'app_banner': 2, 'site_engagement': 2, 'durable_storage': 2}}\n",
    "options.add_experimental_option('prefs', prefs)\n",
    "options.add_argument(\"start-maximized\")\n",
    "options.add_argument(\"disable-infobars\")\n",
    "options.add_argument(\"--disable-extensions\")\n",
    "\n",
    "drv       = webdriver.Chrome(ChromeDriverManager().install(), chrome_options=options)\n",
    "data_list = [] \n",
    "for idx, row in tqdm(data[:].iterrows(), total = data[:].shape[0], desc=\"돌리는중\"):\n",
    "    if isinstance(data['cd_idx'][idx] , int):\n",
    "        cd_idx = row['cd_idx']\n",
    "    #     last_pk = last_pk + 1\n",
    "\n",
    "        search_keyword= row['bd_name']\n",
    "        print(search_keyword)\n",
    "        drv.get('https://www.youtube.com/results?search_query=' + search_keyword )\n",
    "\n",
    "\n",
    "        cd_youtube_search_ko = search_keyword\n",
    "        no_of_pagedowns = 5\n",
    "        elem = drv.find_element_by_tag_name(\"body\")\n",
    "\n",
    "        while no_of_pagedowns:\n",
    "            elem.send_keys(Keys.PAGE_DOWN)\n",
    "            time.sleep(1.2)\n",
    "            no_of_pagedowns -= 1\n",
    "        time.sleep(5)  # sleep을 통해 Robot Error 해결.\n",
    "        soup=BeautifulSoup(drv.page_source,\"html\")\n",
    "\n",
    "        Alll=soup.findAll(\"ytd-video-renderer\",{\"class\":\"style-scope ytd-item-section-renderer\"})\n",
    "        if len(Alll) == 0 :\n",
    "            data_list.append({\"cd_idx\": cd_idx})\n",
    "\n",
    "\n",
    "        num = 0\n",
    "        for i in Alll :\n",
    "            try :\n",
    "                title =i.find(\"a\",{\"id\":\"video-title\"})['title']\n",
    "            except :\n",
    "                title = None\n",
    "            try:\n",
    "                link = 'https://www.youtube.com' + i.find(\"a\",{\"id\":\"video-title\"})['href']\n",
    "            except:\n",
    "                link = None\n",
    "            try:\n",
    "    #             text = i.find(\"yt-formatted-string\",{\"id\" : \"description-text\"}).text\n",
    "                text = i.find(\"yt-formatted-string\",{\"class\" : \"metadata-snippet-text style-scope ytd-video-renderer\"}).text            \n",
    "            except:\n",
    "                text = None\n",
    "            try:\n",
    "                image=i.find('img',{\"id\":\"img\"})[\"src\"]\n",
    "\n",
    "            except:\n",
    "                print(f\"image크롤링오류: {cd_idx}:{image}\")\n",
    "                image = None\n",
    "            try:\n",
    "                name = i.find('yt-formatted-string',{\"class\":\"style-scope ytd-channel-name complex-string\"}).text\n",
    "            except:\n",
    "                name = None\n",
    "            try :\n",
    "                duration=i.find('span',{\"class\":\"style-scope ytd-thumbnail-overlay-time-status-renderer\"}).text.strip()\n",
    "            except :\n",
    "                duration = None\n",
    "            try :\n",
    "                viewCount_raw = i.findAll('span',{\"class\":\"style-scope ytd-video-meta-block\"})[0].text\n",
    "            except :\n",
    "                viewCount_raw = None\n",
    "            try :\n",
    "                regdate_ment = i.findAll('span',{\"class\":\"style-scope ytd-video-meta-block\"})[1].text\n",
    "            except :\n",
    "                regdate_ment = None\n",
    "            dataii = {\"cd_idx\": cd_idx, \"cd_youtube_search_ko\":search_keyword, \"link\": link, \"title\": title,\n",
    "            \"text\": text, \"image\": image, \"name\": name,\n",
    "            \"duration\": duration, \"regdate_ment\": regdate_ment, \"viewCount_raw\": viewCount_raw}\n",
    "            data_list.append(dataii)\n",
    "            num += 1\n",
    "            if (num == 10):\n",
    "                break\n",
    "    else:\n",
    "        continue\n",
    "\n",
    "columns = [\n",
    "    'cd_idx', 'cd_youtube_search_ko', 'link', 'title',\n",
    "    'text', 'image', 'name',  'duration', 'regdate_ment', 'viewCount_raw'] \n",
    "result_df = pd.DataFrame(data_list, columns=columns)\n",
    "\n",
    "#제출날짜 및 세트 번호 수정\n",
    "drv.close()"
   ]
  },
  {
   "cell_type": "code",
   "execution_count": 21,
   "metadata": {
    "scrolled": true
   },
   "outputs": [
    {
     "data": {
      "text/html": [
       "<div>\n",
       "<style scoped>\n",
       "    .dataframe tbody tr th:only-of-type {\n",
       "        vertical-align: middle;\n",
       "    }\n",
       "\n",
       "    .dataframe tbody tr th {\n",
       "        vertical-align: top;\n",
       "    }\n",
       "\n",
       "    .dataframe thead th {\n",
       "        text-align: right;\n",
       "    }\n",
       "</style>\n",
       "<table border=\"1\" class=\"dataframe\">\n",
       "  <thead>\n",
       "    <tr style=\"text-align: right;\">\n",
       "      <th></th>\n",
       "      <th>cd_idx</th>\n",
       "      <th>cd_youtube_search_ko</th>\n",
       "      <th>link</th>\n",
       "      <th>title</th>\n",
       "      <th>text</th>\n",
       "      <th>image</th>\n",
       "      <th>name</th>\n",
       "      <th>duration</th>\n",
       "      <th>regdate_ment</th>\n",
       "      <th>viewCount_raw</th>\n",
       "    </tr>\n",
       "  </thead>\n",
       "  <tbody>\n",
       "    <tr>\n",
       "      <th>0</th>\n",
       "      <td>3193035</td>\n",
       "      <td>Take a walk in Harry Potter's magician street,...</td>\n",
       "      <td>https://www.youtube.com/watch?v=hBZAv-a7crQ</td>\n",
       "      <td>Harry Potter London Magic Walking Tour and Fil...</td>\n",
       "      <td>Harry Potter London Magic Walking Tour and Fil...</td>\n",
       "      <td>https://i.ytimg.com/vi/hBZAv-a7crQ/hq720.jpg?s...</td>\n",
       "      <td>Joolz Guides - London History Walks - Travel F...</td>\n",
       "      <td>17:25</td>\n",
       "      <td>3년 전</td>\n",
       "      <td>조회수 85만회</td>\n",
       "    </tr>\n",
       "    <tr>\n",
       "      <th>1</th>\n",
       "      <td>3193035</td>\n",
       "      <td>Take a walk in Harry Potter's magician street,...</td>\n",
       "      <td>https://www.youtube.com/watch?v=thzXakMAuAc</td>\n",
       "      <td>Harry Potter and the Philosopher's Stone (2001...</td>\n",
       "      <td>TITLE : Harry Potter and the Philosopher's Sto...</td>\n",
       "      <td>https://i.ytimg.com/vi/thzXakMAuAc/hq720.jpg?s...</td>\n",
       "      <td>EWFW | Emma Watson Fans World</td>\n",
       "      <td>2:08</td>\n",
       "      <td>2년 전</td>\n",
       "      <td>조회수 37만회</td>\n",
       "    </tr>\n",
       "    <tr>\n",
       "      <th>2</th>\n",
       "      <td>3193035</td>\n",
       "      <td>Take a walk in Harry Potter's magician street,...</td>\n",
       "      <td>https://www.youtube.com/watch?v=upGghpLrSQo</td>\n",
       "      <td>Welcome to Diagon Alley 🔮 [ASMR] Harry Potter ...</td>\n",
       "      <td>Welcome........ to DIAGON ALLEY ⚗️  ✨ Where yo...</td>\n",
       "      <td>https://i.ytimg.com/vi/upGghpLrSQo/hq720.jpg?s...</td>\n",
       "      <td>ASMR Weekly</td>\n",
       "      <td>1:00:15</td>\n",
       "      <td>1년 전</td>\n",
       "      <td>조회수 14만회</td>\n",
       "    </tr>\n",
       "    <tr>\n",
       "      <th>3</th>\n",
       "      <td>3193035</td>\n",
       "      <td>Take a walk in Harry Potter's magician street,...</td>\n",
       "      <td>https://www.youtube.com/watch?v=W4JFIfxPYBw</td>\n",
       "      <td>Diagon Alley - Harry Potter And The Chamber Of...</td>\n",
       "      <td>Diagon Alley - Harry Potter And The Chamber Of...</td>\n",
       "      <td>https://i.ytimg.com/vi/W4JFIfxPYBw/hq720.jpg?s...</td>\n",
       "      <td>FanHub Emma Watson</td>\n",
       "      <td>3:52</td>\n",
       "      <td>3년 전</td>\n",
       "      <td>조회수 26만회</td>\n",
       "    </tr>\n",
       "    <tr>\n",
       "      <th>4</th>\n",
       "      <td>3193035</td>\n",
       "      <td>Take a walk in Harry Potter's magician street,...</td>\n",
       "      <td>https://www.youtube.com/watch?v=wsmlcYbDBmE</td>\n",
       "      <td>Harry Potter Film Cast Visits Diagon Alley- Un...</td>\n",
       "      <td>The cast of the Harry Potter films gets an exc...</td>\n",
       "      <td>https://i.ytimg.com/vi/wsmlcYbDBmE/hqdefault.j...</td>\n",
       "      <td>Universal Orlando Resort</td>\n",
       "      <td>1:57</td>\n",
       "      <td>7년 전</td>\n",
       "      <td>조회수 216만회</td>\n",
       "    </tr>\n",
       "    <tr>\n",
       "      <th>...</th>\n",
       "      <td>...</td>\n",
       "      <td>...</td>\n",
       "      <td>...</td>\n",
       "      <td>...</td>\n",
       "      <td>...</td>\n",
       "      <td>...</td>\n",
       "      <td>...</td>\n",
       "      <td>...</td>\n",
       "      <td>...</td>\n",
       "      <td>...</td>\n",
       "    </tr>\n",
       "    <tr>\n",
       "      <th>95</th>\n",
       "      <td>3193045</td>\n",
       "      <td>Experience Mongolia's own culture in the Naada...</td>\n",
       "      <td>https://www.youtube.com/watch?v=hwcsewx51WY</td>\n",
       "      <td>CULTURE NAADAM OF MONGOLIA</td>\n",
       "      <td>Organized by Arts Council of Mongolia, this ev...</td>\n",
       "      <td>https://i.ytimg.com/vi/hwcsewx51WY/hq720.jpg?s...</td>\n",
       "      <td>Real Mongolia</td>\n",
       "      <td>21:07</td>\n",
       "      <td>2년 전</td>\n",
       "      <td>조회수 49회</td>\n",
       "    </tr>\n",
       "    <tr>\n",
       "      <th>96</th>\n",
       "      <td>3193045</td>\n",
       "      <td>Experience Mongolia's own culture in the Naada...</td>\n",
       "      <td>https://www.youtube.com/watch?v=Iv65GmTvZHM</td>\n",
       "      <td>Mongolia's 800-year-old traditional Naadam spo...</td>\n",
       "      <td>Mongolia's annual Naadam sporting festival got...</td>\n",
       "      <td>https://i.ytimg.com/vi/Iv65GmTvZHM/hq720.jpg?s...</td>\n",
       "      <td>South China Morning Post</td>\n",
       "      <td>3:05</td>\n",
       "      <td>1년 전</td>\n",
       "      <td>조회수 2.3만회</td>\n",
       "    </tr>\n",
       "    <tr>\n",
       "      <th>97</th>\n",
       "      <td>3193045</td>\n",
       "      <td>Experience Mongolia's own culture in the Naada...</td>\n",
       "      <td>https://www.youtube.com/watch?v=fPnIrxO311M</td>\n",
       "      <td>The Opening Ceremony of Naadam Festival 2020</td>\n",
       "      <td>Naadam is a traditional festival in Mongolia. ...</td>\n",
       "      <td>https://i.ytimg.com/vi/fPnIrxO311M/hq720.jpg?s...</td>\n",
       "      <td>Monreve Tours Mongolia</td>\n",
       "      <td>57:05</td>\n",
       "      <td>1년 전</td>\n",
       "      <td>조회수 1.9만회</td>\n",
       "    </tr>\n",
       "    <tr>\n",
       "      <th>98</th>\n",
       "      <td>3193045</td>\n",
       "      <td>Experience Mongolia's own culture in the Naada...</td>\n",
       "      <td>https://www.youtube.com/watch?v=L8JPLBHBlF8</td>\n",
       "      <td>Mongolia : Naadam</td>\n",
       "      <td>'Naadam', which means game or contest, is a tr...</td>\n",
       "      <td>https://i.ytimg.com/vi/L8JPLBHBlF8/hqdefault.j...</td>\n",
       "      <td>유네스코아태무형유산센터 ICHCAP</td>\n",
       "      <td>3:20</td>\n",
       "      <td>7년 전</td>\n",
       "      <td>조회수 46회</td>\n",
       "    </tr>\n",
       "    <tr>\n",
       "      <th>99</th>\n",
       "      <td>3193045</td>\n",
       "      <td>Experience Mongolia's own culture in the Naada...</td>\n",
       "      <td>https://www.youtube.com/watch?v=iA6eaXRGt5w</td>\n",
       "      <td>Showcase: Mongolia's traditional festival 'Naa...</td>\n",
       "      <td>Mongolia is celebrating its largest annual fes...</td>\n",
       "      <td>https://i.ytimg.com/vi/iA6eaXRGt5w/hq720.jpg?s...</td>\n",
       "      <td>TRT World</td>\n",
       "      <td>3:04</td>\n",
       "      <td>4년 전</td>\n",
       "      <td>조회수 2.4천회</td>\n",
       "    </tr>\n",
       "  </tbody>\n",
       "</table>\n",
       "<p>100 rows × 10 columns</p>\n",
       "</div>"
      ],
      "text/plain": [
       "     cd_idx                               cd_youtube_search_ko  \\\n",
       "0   3193035  Take a walk in Harry Potter's magician street,...   \n",
       "1   3193035  Take a walk in Harry Potter's magician street,...   \n",
       "2   3193035  Take a walk in Harry Potter's magician street,...   \n",
       "3   3193035  Take a walk in Harry Potter's magician street,...   \n",
       "4   3193035  Take a walk in Harry Potter's magician street,...   \n",
       "..      ...                                                ...   \n",
       "95  3193045  Experience Mongolia's own culture in the Naada...   \n",
       "96  3193045  Experience Mongolia's own culture in the Naada...   \n",
       "97  3193045  Experience Mongolia's own culture in the Naada...   \n",
       "98  3193045  Experience Mongolia's own culture in the Naada...   \n",
       "99  3193045  Experience Mongolia's own culture in the Naada...   \n",
       "\n",
       "                                           link  \\\n",
       "0   https://www.youtube.com/watch?v=hBZAv-a7crQ   \n",
       "1   https://www.youtube.com/watch?v=thzXakMAuAc   \n",
       "2   https://www.youtube.com/watch?v=upGghpLrSQo   \n",
       "3   https://www.youtube.com/watch?v=W4JFIfxPYBw   \n",
       "4   https://www.youtube.com/watch?v=wsmlcYbDBmE   \n",
       "..                                          ...   \n",
       "95  https://www.youtube.com/watch?v=hwcsewx51WY   \n",
       "96  https://www.youtube.com/watch?v=Iv65GmTvZHM   \n",
       "97  https://www.youtube.com/watch?v=fPnIrxO311M   \n",
       "98  https://www.youtube.com/watch?v=L8JPLBHBlF8   \n",
       "99  https://www.youtube.com/watch?v=iA6eaXRGt5w   \n",
       "\n",
       "                                                title  \\\n",
       "0   Harry Potter London Magic Walking Tour and Fil...   \n",
       "1   Harry Potter and the Philosopher's Stone (2001...   \n",
       "2   Welcome to Diagon Alley 🔮 [ASMR] Harry Potter ...   \n",
       "3   Diagon Alley - Harry Potter And The Chamber Of...   \n",
       "4   Harry Potter Film Cast Visits Diagon Alley- Un...   \n",
       "..                                                ...   \n",
       "95                         CULTURE NAADAM OF MONGOLIA   \n",
       "96  Mongolia's 800-year-old traditional Naadam spo...   \n",
       "97       The Opening Ceremony of Naadam Festival 2020   \n",
       "98                                  Mongolia : Naadam   \n",
       "99  Showcase: Mongolia's traditional festival 'Naa...   \n",
       "\n",
       "                                                 text  \\\n",
       "0   Harry Potter London Magic Walking Tour and Fil...   \n",
       "1   TITLE : Harry Potter and the Philosopher's Sto...   \n",
       "2   Welcome........ to DIAGON ALLEY ⚗️  ✨ Where yo...   \n",
       "3   Diagon Alley - Harry Potter And The Chamber Of...   \n",
       "4   The cast of the Harry Potter films gets an exc...   \n",
       "..                                                ...   \n",
       "95  Organized by Arts Council of Mongolia, this ev...   \n",
       "96  Mongolia's annual Naadam sporting festival got...   \n",
       "97  Naadam is a traditional festival in Mongolia. ...   \n",
       "98  'Naadam', which means game or contest, is a tr...   \n",
       "99  Mongolia is celebrating its largest annual fes...   \n",
       "\n",
       "                                                image  \\\n",
       "0   https://i.ytimg.com/vi/hBZAv-a7crQ/hq720.jpg?s...   \n",
       "1   https://i.ytimg.com/vi/thzXakMAuAc/hq720.jpg?s...   \n",
       "2   https://i.ytimg.com/vi/upGghpLrSQo/hq720.jpg?s...   \n",
       "3   https://i.ytimg.com/vi/W4JFIfxPYBw/hq720.jpg?s...   \n",
       "4   https://i.ytimg.com/vi/wsmlcYbDBmE/hqdefault.j...   \n",
       "..                                                ...   \n",
       "95  https://i.ytimg.com/vi/hwcsewx51WY/hq720.jpg?s...   \n",
       "96  https://i.ytimg.com/vi/Iv65GmTvZHM/hq720.jpg?s...   \n",
       "97  https://i.ytimg.com/vi/fPnIrxO311M/hq720.jpg?s...   \n",
       "98  https://i.ytimg.com/vi/L8JPLBHBlF8/hqdefault.j...   \n",
       "99  https://i.ytimg.com/vi/iA6eaXRGt5w/hq720.jpg?s...   \n",
       "\n",
       "                                                 name duration regdate_ment  \\\n",
       "0   Joolz Guides - London History Walks - Travel F...    17:25         3년 전   \n",
       "1                       EWFW | Emma Watson Fans World     2:08         2년 전   \n",
       "2                                         ASMR Weekly  1:00:15         1년 전   \n",
       "3                                  FanHub Emma Watson     3:52         3년 전   \n",
       "4                            Universal Orlando Resort     1:57         7년 전   \n",
       "..                                                ...      ...          ...   \n",
       "95                                      Real Mongolia    21:07         2년 전   \n",
       "96                           South China Morning Post     3:05         1년 전   \n",
       "97                             Monreve Tours Mongolia    57:05         1년 전   \n",
       "98                                유네스코아태무형유산센터 ICHCAP     3:20         7년 전   \n",
       "99                                          TRT World     3:04         4년 전   \n",
       "\n",
       "   viewCount_raw  \n",
       "0       조회수 85만회  \n",
       "1       조회수 37만회  \n",
       "2       조회수 14만회  \n",
       "3       조회수 26만회  \n",
       "4      조회수 216만회  \n",
       "..           ...  \n",
       "95       조회수 49회  \n",
       "96     조회수 2.3만회  \n",
       "97     조회수 1.9만회  \n",
       "98       조회수 46회  \n",
       "99     조회수 2.4천회  \n",
       "\n",
       "[100 rows x 10 columns]"
      ]
     },
     "execution_count": 21,
     "metadata": {},
     "output_type": "execute_result"
    }
   ],
   "source": [
    "result_df"
   ]
  },
  {
   "cell_type": "code",
   "execution_count": 29,
   "metadata": {},
   "outputs": [
    {
     "data": {
      "text/plain": [
       "'/Users/mycelebs_28'"
      ]
     },
     "execution_count": 29,
     "metadata": {},
     "output_type": "execute_result"
    }
   ],
   "source": [
    "Desktop"
   ]
  },
  {
   "cell_type": "code",
   "execution_count": 30,
   "metadata": {},
   "outputs": [
    {
     "name": "stdout",
     "output_type": "stream",
     "text": [
      "100\n"
     ]
    }
   ],
   "source": [
    "# 엑셀화\n",
    "result_df.to_excel(Desktop+f'/Desktop/test.xlsx', index=False)\n",
    "print(len(result_df))"
   ]
  },
  {
   "cell_type": "code",
   "execution_count": null,
   "metadata": {},
   "outputs": [],
   "source": []
  },
  {
   "cell_type": "markdown",
   "metadata": {},
   "source": [
    "# 데이터 크롤링 시작"
   ]
  },
  {
   "cell_type": "code",
   "execution_count": 17,
   "metadata": {},
   "outputs": [
    {
     "name": "stderr",
     "output_type": "stream",
     "text": [
      "\n",
      "\n",
      "====== WebDriver manager ======\n",
      "Current google-chrome version is 95.0.4638\n",
      "Get LATEST driver version for 95.0.4638\n",
      "There is no [mac64] chromedriver for browser 95.0.4638 in cache\n",
      "Get LATEST driver version for 95.0.4638\n",
      "Trying to download new driver from https://chromedriver.storage.googleapis.com/95.0.4638.17/chromedriver_mac64.zip\n",
      "Driver has been saved in cache [/Users/mycelebs_28/.wdm/drivers/chromedriver/mac64/95.0.4638.17]\n",
      "/var/folders/j7/cfh4g_9d45b2vjb9rs3659bm0000gn/T/ipykernel_47106/908755404.py:18: DeprecationWarning: use options instead of chrome_options\n",
      "  drv       = webdriver.Chrome(ChromeDriverManager().install(), chrome_options=options)\n"
     ]
    }
   ],
   "source": [
    "options = webdriver.ChromeOptions()\n",
    "#options.add_argument('headless')\n",
    "options.add_argument('--incognito')\n",
    "prefs = {'profile.default_content_setting_values': {'cookies': 2, 'images': 1, 'plugins': 2, 'popups': 2,\n",
    "                                                    'geolocation': 2, 'notifications': 2,\n",
    "                                                    'auto_select_certificate': 2, 'fullscreen': 2, 'mouselock': 2,\n",
    "                                                    'mixed_script': 2, 'media_stream': 2, 'media_stream_mic': 2,\n",
    "                                                    'media_stream_camera': 2, 'protocol_handlers': 2,\n",
    "                                                    'ppapi_broker': 2, 'automatic_downloads': 2, 'midi_sysex': 2,\n",
    "                                                    'push_messaging': 2, 'ssl_cert_decisions': 2,\n",
    "                                                    'metro_switch_to_desktop': 2, 'protected_media_identifier': 2,\n",
    "                                                    'app_banner': 2, 'site_engagement': 2, 'durable_storage': 2}}\n",
    "options.add_experimental_option('prefs', prefs)\n",
    "options.add_argument(\"start-maximized\")\n",
    "options.add_argument(\"disable-infobars\")\n",
    "options.add_argument(\"--disable-extensions\")\n",
    "\n",
    "drv       = webdriver.Chrome(ChromeDriverManager().install(), chrome_options=options)\n",
    "data_list = [] "
   ]
  },
  {
   "cell_type": "code",
   "execution_count": 12,
   "metadata": {
    "scrolled": true
   },
   "outputs": [
    {
     "name": "stderr",
     "output_type": "stream",
     "text": [
      "[WDM] - Current google-chrome version is 94.0.4606\n",
      "[WDM] - Get LATEST driver version for 94.0.4606\n"
     ]
    },
    {
     "name": "stdout",
     "output_type": "stream",
     "text": [
      " \n"
     ]
    },
    {
     "name": "stderr",
     "output_type": "stream",
     "text": [
      "[WDM] - Driver [/Users/mycelebs-it1/.wdm/drivers/chromedriver/mac64/94.0.4606.61/chromedriver] found in cache\n",
      "/Users/mycelebs-it1/opt/anaconda3/lib/python3.7/site-packages/ipykernel_launcher.py:18: DeprecationWarning: use options instead of chrome_options\n",
      "\n",
      "\n",
      "돌리는중:   0%|          | 0/129 [00:00<?, ?it/s]\u001b[A\u001b[A"
     ]
    },
    {
     "name": "stdout",
     "output_type": "stream",
     "text": [
      "United States Kailua-Kona travel\n"
     ]
    },
    {
     "name": "stderr",
     "output_type": "stream",
     "text": [
      "\n",
      "\n",
      "돌리는중:   1%|          | 1/129 [00:16<34:41, 16.26s/it]\u001b[A\u001b[A"
     ]
    },
    {
     "name": "stdout",
     "output_type": "stream",
     "text": [
      "United States Washington travel\n"
     ]
    },
    {
     "name": "stderr",
     "output_type": "stream",
     "text": [
      "\n",
      "\n",
      "돌리는중:   2%|▏         | 2/129 [00:30<33:00, 15.59s/it]\u001b[A\u001b[A"
     ]
    },
    {
     "name": "stdout",
     "output_type": "stream",
     "text": [
      "United States New York travel\n"
     ]
    },
    {
     "name": "stderr",
     "output_type": "stream",
     "text": [
      "\n",
      "\n",
      "돌리는중:   2%|▏         | 3/129 [00:43<31:28, 14.99s/it]\u001b[A\u001b[A"
     ]
    },
    {
     "name": "stdout",
     "output_type": "stream",
     "text": [
      "United States Niagara Falls travel\n"
     ]
    },
    {
     "name": "stderr",
     "output_type": "stream",
     "text": [
      "\n",
      "\n",
      "돌리는중:   3%|▎         | 4/129 [00:57<30:19, 14.56s/it]\u001b[A\u001b[A"
     ]
    },
    {
     "name": "stdout",
     "output_type": "stream",
     "text": [
      "United States Bryce Canyon travel\n"
     ]
    },
    {
     "name": "stderr",
     "output_type": "stream",
     "text": [
      "\n",
      "\n",
      "돌리는중:   4%|▍         | 5/129 [01:11<29:44, 14.39s/it]\u001b[A\u001b[A"
     ]
    },
    {
     "name": "stdout",
     "output_type": "stream",
     "text": [
      "United States Waterport travel\n"
     ]
    },
    {
     "name": "stderr",
     "output_type": "stream",
     "text": [
      "\n",
      "\n",
      "돌리는중:   5%|▍         | 6/129 [01:25<29:08, 14.21s/it]\u001b[A\u001b[A"
     ]
    },
    {
     "name": "stdout",
     "output_type": "stream",
     "text": [
      "Australia Margaret River Town travel\n"
     ]
    },
    {
     "name": "stderr",
     "output_type": "stream",
     "text": [
      "\n",
      "\n",
      "돌리는중:   5%|▌         | 7/129 [01:38<28:35, 14.06s/it]\u001b[A\u001b[A"
     ]
    },
    {
     "name": "stdout",
     "output_type": "stream",
     "text": [
      "Australia Stoney Creek travel\n"
     ]
    },
    {
     "name": "stderr",
     "output_type": "stream",
     "text": [
      "\n",
      "\n",
      "돌리는중:   6%|▌         | 8/129 [01:53<28:35, 14.18s/it]\u001b[A\u001b[A"
     ]
    },
    {
     "name": "stdout",
     "output_type": "stream",
     "text": [
      "Australia Saint Leonards travel\n"
     ]
    },
    {
     "name": "stderr",
     "output_type": "stream",
     "text": [
      "\n",
      "\n",
      "돌리는중:   7%|▋         | 9/129 [02:07<28:13, 14.11s/it]\u001b[A\u001b[A"
     ]
    },
    {
     "name": "stdout",
     "output_type": "stream",
     "text": [
      "Australia Rottnest Island travel\n"
     ]
    },
    {
     "name": "stderr",
     "output_type": "stream",
     "text": [
      "\n",
      "\n",
      "돌리는중:   8%|▊         | 10/129 [02:22<28:33, 14.40s/it]\u001b[A\u001b[A"
     ]
    },
    {
     "name": "stdout",
     "output_type": "stream",
     "text": [
      "Australia Noosa North Shore travel\n"
     ]
    },
    {
     "name": "stderr",
     "output_type": "stream",
     "text": [
      "\n",
      "\n",
      "돌리는중:   9%|▊         | 11/129 [02:36<27:58, 14.23s/it]\u001b[A\u001b[A"
     ]
    },
    {
     "name": "stdout",
     "output_type": "stream",
     "text": [
      "Canada Stoneham travel\n"
     ]
    },
    {
     "name": "stderr",
     "output_type": "stream",
     "text": [
      "\n",
      "\n",
      "돌리는중:   9%|▉         | 12/129 [02:50<27:30, 14.11s/it]\u001b[A\u001b[A"
     ]
    },
    {
     "name": "stdout",
     "output_type": "stream",
     "text": [
      "Canada Lake Louise travel\n"
     ]
    },
    {
     "name": "stderr",
     "output_type": "stream",
     "text": [
      "\n",
      "\n",
      "돌리는중:  10%|█         | 13/129 [03:03<26:58, 13.95s/it]\u001b[A\u001b[A"
     ]
    },
    {
     "name": "stdout",
     "output_type": "stream",
     "text": [
      "Canada St. Catharines travel\n"
     ]
    },
    {
     "name": "stderr",
     "output_type": "stream",
     "text": [
      "\n",
      "\n",
      "돌리는중:  11%|█         | 14/129 [03:17<26:50, 14.01s/it]\u001b[A\u001b[A"
     ]
    },
    {
     "name": "stdout",
     "output_type": "stream",
     "text": [
      "Canada Dawson City travel\n"
     ]
    },
    {
     "name": "stderr",
     "output_type": "stream",
     "text": [
      "\n",
      "\n",
      "돌리는중:  12%|█▏        | 15/129 [03:31<26:40, 14.04s/it]\u001b[A\u001b[A"
     ]
    },
    {
     "name": "stdout",
     "output_type": "stream",
     "text": [
      "Canada Niagara on the Lake travel\n"
     ]
    },
    {
     "name": "stderr",
     "output_type": "stream",
     "text": [
      "\n",
      "\n",
      "돌리는중:  12%|█▏        | 16/129 [03:45<26:14, 13.93s/it]\u001b[A\u001b[A"
     ]
    },
    {
     "name": "stdout",
     "output_type": "stream",
     "text": [
      "Canada Niagara Falls travel\n"
     ]
    },
    {
     "name": "stderr",
     "output_type": "stream",
     "text": [
      "\n",
      "\n",
      "돌리는중:  13%|█▎        | 17/129 [03:59<25:42, 13.78s/it]\u001b[A\u001b[A"
     ]
    },
    {
     "name": "stdout",
     "output_type": "stream",
     "text": [
      "Canada Mont-Tremblant travel\n"
     ]
    },
    {
     "name": "stderr",
     "output_type": "stream",
     "text": [
      "\n",
      "\n",
      "돌리는중:  14%|█▍        | 18/129 [04:13<25:51, 13.98s/it]\u001b[A\u001b[A"
     ]
    },
    {
     "name": "stdout",
     "output_type": "stream",
     "text": [
      "Canada Saint-Faustin travel\n"
     ]
    },
    {
     "name": "stderr",
     "output_type": "stream",
     "text": [
      "\n",
      "\n",
      "돌리는중:  15%|█▍        | 19/129 [04:26<25:20, 13.82s/it]\u001b[A\u001b[A"
     ]
    },
    {
     "name": "stdout",
     "output_type": "stream",
     "text": [
      "Canada Saint-Eustache travel\n"
     ]
    },
    {
     "name": "stderr",
     "output_type": "stream",
     "text": [
      "\n",
      "\n",
      "돌리는중:  16%|█▌        | 20/129 [04:41<25:15, 13.90s/it]\u001b[A\u001b[A"
     ]
    },
    {
     "name": "stdout",
     "output_type": "stream",
     "text": [
      "Canada St. Albert travel\n"
     ]
    },
    {
     "name": "stderr",
     "output_type": "stream",
     "text": [
      "\n",
      "\n",
      "돌리는중:  16%|█▋        | 21/129 [04:54<24:55, 13.85s/it]\u001b[A\u001b[A"
     ]
    },
    {
     "name": "stdout",
     "output_type": "stream",
     "text": [
      "Canada Gabriola travel\n"
     ]
    },
    {
     "name": "stderr",
     "output_type": "stream",
     "text": [
      "\n",
      "\n",
      "돌리는중:  17%|█▋        | 22/129 [05:08<24:36, 13.80s/it]\u001b[A\u001b[A"
     ]
    },
    {
     "name": "stdout",
     "output_type": "stream",
     "text": [
      "Canada OʼLeary travel\n"
     ]
    },
    {
     "name": "stderr",
     "output_type": "stream",
     "text": [
      "\n",
      "\n",
      "돌리는중:  18%|█▊        | 23/129 [05:22<24:29, 13.86s/it]\u001b[A\u001b[A"
     ]
    },
    {
     "name": "stdout",
     "output_type": "stream",
     "text": [
      "Canada Hammonds Plains travel\n"
     ]
    },
    {
     "name": "stderr",
     "output_type": "stream",
     "text": [
      "\n",
      "\n",
      "돌리는중:  19%|█▊        | 24/129 [05:36<24:08, 13.80s/it]\u001b[A\u001b[A"
     ]
    },
    {
     "name": "stdout",
     "output_type": "stream",
     "text": [
      "Switzerland Bouveret travel\n"
     ]
    },
    {
     "name": "stderr",
     "output_type": "stream",
     "text": [
      "\n",
      "\n",
      "돌리는중:  19%|█▉        | 25/129 [05:49<23:55, 13.80s/it]\u001b[A\u001b[A"
     ]
    },
    {
     "name": "stdout",
     "output_type": "stream",
     "text": [
      "Switzerland Bern travel\n"
     ]
    },
    {
     "name": "stderr",
     "output_type": "stream",
     "text": [
      "\n",
      "\n",
      "돌리는중:  20%|██        | 26/129 [06:03<23:33, 13.72s/it]\u001b[A\u001b[A"
     ]
    },
    {
     "name": "stdout",
     "output_type": "stream",
     "text": [
      "Switzerland St. Moritz travel\n"
     ]
    },
    {
     "name": "stderr",
     "output_type": "stream",
     "text": [
      "\n",
      "\n",
      "돌리는중:  21%|██        | 27/129 [06:17<23:16, 13.69s/it]\u001b[A\u001b[A"
     ]
    },
    {
     "name": "stdout",
     "output_type": "stream",
     "text": [
      "Switzerland Martigny-Ville travel\n"
     ]
    },
    {
     "name": "stderr",
     "output_type": "stream",
     "text": [
      "\n",
      "\n",
      "돌리는중:  22%|██▏       | 28/129 [06:30<22:57, 13.64s/it]\u001b[A\u001b[A"
     ]
    },
    {
     "name": "stdout",
     "output_type": "stream",
     "text": [
      "Switzerland Luzern travel\n"
     ]
    },
    {
     "name": "stderr",
     "output_type": "stream",
     "text": [
      "\n",
      "\n",
      "돌리는중:  22%|██▏       | 29/129 [06:45<23:11, 13.92s/it]\u001b[A\u001b[A"
     ]
    },
    {
     "name": "stdout",
     "output_type": "stream",
     "text": [
      "Switzerland Schönbühl travel\n"
     ]
    },
    {
     "name": "stderr",
     "output_type": "stream",
     "text": [
      "\n",
      "\n",
      "돌리는중:  23%|██▎       | 30/129 [06:58<22:43, 13.77s/it]\u001b[A\u001b[A"
     ]
    },
    {
     "name": "stdout",
     "output_type": "stream",
     "text": [
      "Switzerland Pully travel\n"
     ]
    },
    {
     "name": "stderr",
     "output_type": "stream",
     "text": [
      "\n",
      "\n",
      "돌리는중:  24%|██▍       | 31/129 [07:12<22:39, 13.87s/it]\u001b[A\u001b[A"
     ]
    },
    {
     "name": "stdout",
     "output_type": "stream",
     "text": [
      "Switzerland Warth travel\n"
     ]
    },
    {
     "name": "stderr",
     "output_type": "stream",
     "text": [
      "\n",
      "\n",
      "돌리는중:  25%|██▍       | 32/129 [07:25<22:06, 13.67s/it]\u001b[A\u001b[A"
     ]
    },
    {
     "name": "stdout",
     "output_type": "stream",
     "text": [
      "Germany Triberg travel\n"
     ]
    },
    {
     "name": "stderr",
     "output_type": "stream",
     "text": [
      "\n",
      "\n",
      "돌리는중:  26%|██▌       | 33/129 [07:39<21:54, 13.70s/it]\u001b[A\u001b[A"
     ]
    },
    {
     "name": "stdout",
     "output_type": "stream",
     "text": [
      "Germany Stolpe auf Usedom travel\n"
     ]
    },
    {
     "name": "stderr",
     "output_type": "stream",
     "text": [
      "\n",
      "\n",
      "돌리는중:  26%|██▋       | 34/129 [07:53<21:49, 13.78s/it]\u001b[A\u001b[A"
     ]
    },
    {
     "name": "stdout",
     "output_type": "stream",
     "text": [
      "Germany Immenstaad am Bodensee travel\n"
     ]
    },
    {
     "name": "stderr",
     "output_type": "stream",
     "text": [
      "\n",
      "\n",
      "돌리는중:  27%|██▋       | 35/129 [08:07<21:30, 13.73s/it]\u001b[A\u001b[A"
     ]
    },
    {
     "name": "stdout",
     "output_type": "stream",
     "text": [
      "Germany Köln travel\n"
     ]
    },
    {
     "name": "stderr",
     "output_type": "stream",
     "text": [
      "\n",
      "\n",
      "돌리는중:  28%|██▊       | 36/129 [08:20<21:08, 13.64s/it]\u001b[A\u001b[A"
     ]
    },
    {
     "name": "stdout",
     "output_type": "stream",
     "text": [
      "Germany Radolfzell am Bodensee travel\n"
     ]
    },
    {
     "name": "stderr",
     "output_type": "stream",
     "text": [
      "\n",
      "\n",
      "돌리는중:  29%|██▊       | 37/129 [08:34<20:47, 13.56s/it]\u001b[A\u001b[A"
     ]
    },
    {
     "name": "stdout",
     "output_type": "stream",
     "text": [
      "Germany Ostseebad Nienhagen travel\n"
     ]
    },
    {
     "name": "stderr",
     "output_type": "stream",
     "text": [
      "\n",
      "\n",
      "돌리는중:  29%|██▉       | 38/129 [08:47<20:28, 13.50s/it]\u001b[A\u001b[A"
     ]
    },
    {
     "name": "stdout",
     "output_type": "stream",
     "text": [
      "Germany München travel\n"
     ]
    },
    {
     "name": "stderr",
     "output_type": "stream",
     "text": [
      "\n",
      "\n",
      "돌리는중:  30%|███       | 39/129 [09:00<20:08, 13.43s/it]\u001b[A\u001b[A"
     ]
    },
    {
     "name": "stdout",
     "output_type": "stream",
     "text": [
      "Germany Nürnberg travel\n"
     ]
    },
    {
     "name": "stderr",
     "output_type": "stream",
     "text": [
      "\n",
      "\n",
      "돌리는중:  31%|███       | 40/129 [09:13<19:47, 13.34s/it]\u001b[A\u001b[A"
     ]
    },
    {
     "name": "stdout",
     "output_type": "stream",
     "text": [
      "Germany Hanau am Main travel\n"
     ]
    },
    {
     "name": "stderr",
     "output_type": "stream",
     "text": [
      "\n",
      "\n",
      "돌리는중:  32%|███▏      | 41/129 [09:27<19:34, 13.35s/it]\u001b[A\u001b[A"
     ]
    },
    {
     "name": "stdout",
     "output_type": "stream",
     "text": [
      "Germany Furtwangen travel\n"
     ]
    },
    {
     "name": "stderr",
     "output_type": "stream",
     "text": [
      "\n",
      "\n",
      "돌리는중:  33%|███▎      | 42/129 [09:41<19:44, 13.61s/it]\u001b[A\u001b[A"
     ]
    },
    {
     "name": "stdout",
     "output_type": "stream",
     "text": [
      "Germany Esslingen travel\n"
     ]
    },
    {
     "name": "stderr",
     "output_type": "stream",
     "text": [
      "\n",
      "\n",
      "돌리는중:  33%|███▎      | 43/129 [09:55<19:37, 13.69s/it]\u001b[A\u001b[A"
     ]
    },
    {
     "name": "stdout",
     "output_type": "stream",
     "text": [
      "Germany Eltville travel\n"
     ]
    },
    {
     "name": "stderr",
     "output_type": "stream",
     "text": [
      "\n",
      "\n",
      "돌리는중:  34%|███▍      | 44/129 [10:09<19:27, 13.73s/it]\u001b[A\u001b[A"
     ]
    },
    {
     "name": "stdout",
     "output_type": "stream",
     "text": [
      "Germany Breisach am Rhein travel\n"
     ]
    },
    {
     "name": "stderr",
     "output_type": "stream",
     "text": [
      "\n",
      "\n",
      "돌리는중:  35%|███▍      | 45/129 [10:22<19:05, 13.63s/it]\u001b[A\u001b[A"
     ]
    },
    {
     "name": "stdout",
     "output_type": "stream",
     "text": [
      "Germany Neu Ulm travel\n"
     ]
    },
    {
     "name": "stderr",
     "output_type": "stream",
     "text": [
      "\n",
      "\n",
      "돌리는중:  36%|███▌      | 46/129 [10:35<18:37, 13.47s/it]\u001b[A\u001b[A"
     ]
    },
    {
     "name": "stdout",
     "output_type": "stream",
     "text": [
      "Germany Monheim travel\n"
     ]
    },
    {
     "name": "stderr",
     "output_type": "stream",
     "text": [
      "\n",
      "\n",
      "돌리는중:  36%|███▋      | 47/129 [10:48<18:23, 13.46s/it]\u001b[A\u001b[A"
     ]
    },
    {
     "name": "stdout",
     "output_type": "stream",
     "text": [
      "Germany Oberschleißheim travel\n"
     ]
    },
    {
     "name": "stderr",
     "output_type": "stream",
     "text": [
      "\n",
      "\n",
      "돌리는중:  37%|███▋      | 48/129 [11:02<18:10, 13.46s/it]\u001b[A\u001b[A"
     ]
    },
    {
     "name": "stdout",
     "output_type": "stream",
     "text": [
      "Spain Calvia Town travel\n"
     ]
    },
    {
     "name": "stderr",
     "output_type": "stream",
     "text": [
      "\n",
      "\n",
      "돌리는중:  38%|███▊      | 49/129 [11:15<17:52, 13.41s/it]\u001b[A\u001b[A"
     ]
    },
    {
     "name": "stdout",
     "output_type": "stream",
     "text": [
      "Spain Magalluf travel\n"
     ]
    },
    {
     "name": "stderr",
     "output_type": "stream",
     "text": [
      "\n",
      "\n",
      "돌리는중:  39%|███▉      | 50/129 [11:29<17:40, 13.42s/it]\u001b[A\u001b[A"
     ]
    },
    {
     "name": "stdout",
     "output_type": "stream",
     "text": [
      "Spain San Ferrán de ses Roques travel\n"
     ]
    },
    {
     "name": "stderr",
     "output_type": "stream",
     "text": [
      "\n",
      "\n",
      "돌리는중:  40%|███▉      | 51/129 [11:42<17:30, 13.46s/it]\u001b[A\u001b[A"
     ]
    },
    {
     "name": "stdout",
     "output_type": "stream",
     "text": [
      "Spain Playa d'en Bossa travel\n"
     ]
    },
    {
     "name": "stderr",
     "output_type": "stream",
     "text": [
      "\n",
      "\n",
      "돌리는중:  40%|████      | 52/129 [11:56<17:17, 13.47s/it]\u001b[A\u001b[A"
     ]
    },
    {
     "name": "stdout",
     "output_type": "stream",
     "text": [
      "Spain Sevilla travel\n"
     ]
    },
    {
     "name": "stderr",
     "output_type": "stream",
     "text": [
      "\n",
      "\n",
      "돌리는중:  41%|████      | 53/129 [12:09<16:58, 13.40s/it]\u001b[A\u001b[A"
     ]
    },
    {
     "name": "stdout",
     "output_type": "stream",
     "text": [
      "Spain Fuencaliente de la Palma travel\n"
     ]
    },
    {
     "name": "stderr",
     "output_type": "stream",
     "text": [
      "\n",
      "\n",
      "돌리는중:  42%|████▏     | 54/129 [12:23<16:49, 13.46s/it]\u001b[A\u001b[A"
     ]
    },
    {
     "name": "stdout",
     "output_type": "stream",
     "text": [
      "Spain San Jose de sa Talaia travel\n"
     ]
    },
    {
     "name": "stderr",
     "output_type": "stream",
     "text": [
      "\n",
      "\n",
      "돌리는중:  43%|████▎     | 55/129 [12:36<16:32, 13.41s/it]\u001b[A\u001b[A"
     ]
    },
    {
     "name": "stdout",
     "output_type": "stream",
     "text": [
      "Spain La Granja de San Ildefonso travel\n"
     ]
    },
    {
     "name": "stderr",
     "output_type": "stream",
     "text": [
      "\n",
      "\n",
      "돌리는중:  43%|████▎     | 56/129 [12:49<16:16, 13.38s/it]\u001b[A\u001b[A"
     ]
    },
    {
     "name": "stdout",
     "output_type": "stream",
     "text": [
      "Spain San Francisco Javier travel\n"
     ]
    },
    {
     "name": "stderr",
     "output_type": "stream",
     "text": [
      "\n",
      "\n",
      "돌리는중:  44%|████▍     | 57/129 [13:03<16:03, 13.39s/it]\u001b[A\u001b[A"
     ]
    },
    {
     "name": "stdout",
     "output_type": "stream",
     "text": [
      "Spain La Laguna travel\n"
     ]
    },
    {
     "name": "stderr",
     "output_type": "stream",
     "text": [
      "\n",
      "\n",
      "돌리는중:  45%|████▍     | 58/129 [13:16<15:50, 13.38s/it]\u001b[A\u001b[A"
     ]
    },
    {
     "name": "stdout",
     "output_type": "stream",
     "text": [
      "Spain San Bartolomé travel\n"
     ]
    },
    {
     "name": "stderr",
     "output_type": "stream",
     "text": [
      "\n",
      "\n",
      "돌리는중:  46%|████▌     | 59/129 [13:29<15:37, 13.39s/it]\u001b[A\u001b[A"
     ]
    },
    {
     "name": "stdout",
     "output_type": "stream",
     "text": [
      "Spain San Antonio travel\n"
     ]
    },
    {
     "name": "stderr",
     "output_type": "stream",
     "text": [
      "\n",
      "\n",
      "돌리는중:  47%|████▋     | 60/129 [13:42<15:18, 13.31s/it]\u001b[A\u001b[A"
     ]
    },
    {
     "name": "stdout",
     "output_type": "stream",
     "text": [
      "Spain Port de la Selva travel\n"
     ]
    },
    {
     "name": "stderr",
     "output_type": "stream",
     "text": [
      "\n",
      "\n",
      "돌리는중:  47%|████▋     | 61/129 [13:56<15:08, 13.36s/it]\u001b[A\u001b[A"
     ]
    },
    {
     "name": "stdout",
     "output_type": "stream",
     "text": [
      "Spain Pola de Somiedo travel\n"
     ]
    },
    {
     "name": "stderr",
     "output_type": "stream",
     "text": [
      "\n",
      "\n",
      "돌리는중:  48%|████▊     | 62/129 [14:09<14:56, 13.39s/it]\u001b[A\u001b[A"
     ]
    },
    {
     "name": "stdout",
     "output_type": "stream",
     "text": [
      "Spain Port d'Alcudia travel\n"
     ]
    },
    {
     "name": "stderr",
     "output_type": "stream",
     "text": [
      "\n",
      "\n",
      "돌리는중:  49%|████▉     | 63/129 [14:23<14:48, 13.46s/it]\u001b[A\u001b[A"
     ]
    },
    {
     "name": "stdout",
     "output_type": "stream",
     "text": [
      "Spain Mazo travel\n"
     ]
    },
    {
     "name": "stderr",
     "output_type": "stream",
     "text": [
      "\n",
      "\n",
      "돌리는중:  50%|████▉     | 64/129 [14:36<14:32, 13.42s/it]\u001b[A\u001b[A"
     ]
    },
    {
     "name": "stdout",
     "output_type": "stream",
     "text": [
      "Spain Ciutadella travel\n"
     ]
    },
    {
     "name": "stderr",
     "output_type": "stream",
     "text": [
      "\n",
      "\n",
      "돌리는중:  50%|█████     | 65/129 [14:50<14:16, 13.38s/it]\u001b[A\u001b[A"
     ]
    },
    {
     "name": "stdout",
     "output_type": "stream",
     "text": [
      "Spain Los Sauces travel\n"
     ]
    },
    {
     "name": "stderr",
     "output_type": "stream",
     "text": [
      "\n",
      "\n",
      "돌리는중:  51%|█████     | 66/129 [15:03<13:58, 13.31s/it]\u001b[A\u001b[A"
     ]
    },
    {
     "name": "stdout",
     "output_type": "stream",
     "text": [
      "Spain Puerto de San Miguel travel\n"
     ]
    },
    {
     "name": "stderr",
     "output_type": "stream",
     "text": [
      "\n",
      "\n",
      "돌리는중:  52%|█████▏    | 67/129 [15:16<13:47, 13.34s/it]\u001b[A\u001b[A"
     ]
    },
    {
     "name": "stdout",
     "output_type": "stream",
     "text": [
      "Spain Aizoáin travel\n"
     ]
    },
    {
     "name": "stderr",
     "output_type": "stream",
     "text": [
      "\n",
      "\n",
      "돌리는중:  53%|█████▎    | 68/129 [15:29<13:26, 13.21s/it]\u001b[A\u001b[A"
     ]
    },
    {
     "name": "stdout",
     "output_type": "stream",
     "text": [
      "France Cap d'Ail travel\n"
     ]
    },
    {
     "name": "stderr",
     "output_type": "stream",
     "text": [
      "\n",
      "\n",
      "돌리는중:  53%|█████▎    | 69/129 [15:42<13:13, 13.23s/it]\u001b[A\u001b[A"
     ]
    },
    {
     "name": "stdout",
     "output_type": "stream",
     "text": [
      "France Mandelieu La Napoule travel\n"
     ]
    },
    {
     "name": "stderr",
     "output_type": "stream",
     "text": [
      "\n",
      "\n",
      "돌리는중:  54%|█████▍    | 70/129 [15:56<13:02, 13.27s/it]\u001b[A\u001b[A"
     ]
    },
    {
     "name": "stdout",
     "output_type": "stream",
     "text": [
      "France Le Mont Saint Michel travel\n"
     ]
    },
    {
     "name": "stderr",
     "output_type": "stream",
     "text": [
      "\n",
      "\n",
      "돌리는중:  55%|█████▌    | 71/129 [16:09<12:53, 13.34s/it]\u001b[A\u001b[A"
     ]
    },
    {
     "name": "stdout",
     "output_type": "stream",
     "text": [
      "France Sixt travel\n"
     ]
    },
    {
     "name": "stderr",
     "output_type": "stream",
     "text": [
      "\n",
      "\n",
      "돌리는중:  56%|█████▌    | 72/129 [16:23<12:39, 13.32s/it]\u001b[A\u001b[A"
     ]
    },
    {
     "name": "stdout",
     "output_type": "stream",
     "text": [
      "France Saint Malo travel\n"
     ]
    },
    {
     "name": "stderr",
     "output_type": "stream",
     "text": [
      "\n",
      "\n",
      "돌리는중:  57%|█████▋    | 73/129 [16:36<12:23, 13.27s/it]\u001b[A\u001b[A"
     ]
    },
    {
     "name": "stdout",
     "output_type": "stream",
     "text": [
      "France Gonfreville-lʼOrcher travel\n"
     ]
    },
    {
     "name": "stderr",
     "output_type": "stream",
     "text": [
      "\n",
      "\n",
      "돌리는중:  57%|█████▋    | 74/129 [16:49<12:11, 13.30s/it]\u001b[A\u001b[A"
     ]
    },
    {
     "name": "stdout",
     "output_type": "stream",
     "text": [
      "France Duilhac travel\n"
     ]
    },
    {
     "name": "stderr",
     "output_type": "stream",
     "text": [
      "\n",
      "\n",
      "돌리는중:  58%|█████▊    | 75/129 [17:02<11:55, 13.26s/it]\u001b[A\u001b[A"
     ]
    },
    {
     "name": "stdout",
     "output_type": "stream",
     "text": [
      "France Sainte-Mondane travel\n"
     ]
    },
    {
     "name": "stderr",
     "output_type": "stream",
     "text": [
      "\n",
      "\n",
      "돌리는중:  59%|█████▉    | 76/129 [17:16<11:47, 13.35s/it]\u001b[A\u001b[A"
     ]
    },
    {
     "name": "stdout",
     "output_type": "stream",
     "text": [
      "France La Roche-Guyon travel\n"
     ]
    },
    {
     "name": "stderr",
     "output_type": "stream",
     "text": [
      "\n",
      "\n",
      "돌리는중:  60%|█████▉    | 77/129 [17:30<11:40, 13.48s/it]\u001b[A\u001b[A"
     ]
    },
    {
     "name": "stdout",
     "output_type": "stream",
     "text": [
      "France La Palud sur Verdon travel\n"
     ]
    },
    {
     "name": "stderr",
     "output_type": "stream",
     "text": [
      "\n",
      "\n",
      "돌리는중:  60%|██████    | 78/129 [17:43<11:25, 13.44s/it]\u001b[A\u001b[A"
     ]
    },
    {
     "name": "stdout",
     "output_type": "stream",
     "text": [
      "France Cricquebœuf travel\n"
     ]
    },
    {
     "name": "stderr",
     "output_type": "stream",
     "text": [
      "\n",
      "\n",
      "돌리는중:  61%|██████    | 79/129 [17:56<11:13, 13.47s/it]\u001b[A\u001b[A"
     ]
    },
    {
     "name": "stdout",
     "output_type": "stream",
     "text": [
      "United Kingdom Derry Londonderry travel\n"
     ]
    },
    {
     "name": "stderr",
     "output_type": "stream",
     "text": [
      "\n",
      "\n",
      "돌리는중:  62%|██████▏   | 80/129 [18:10<11:01, 13.50s/it]\u001b[A\u001b[A"
     ]
    },
    {
     "name": "stdout",
     "output_type": "stream",
     "text": [
      "United Kingdom Brighton & Hove travel\n"
     ]
    },
    {
     "name": "stderr",
     "output_type": "stream",
     "text": [
      "\n",
      "\n",
      "돌리는중:  63%|██████▎   | 81/129 [18:23<10:43, 13.40s/it]\u001b[A\u001b[A"
     ]
    },
    {
     "name": "stdout",
     "output_type": "stream",
     "text": [
      "United Kingdom Bourton on the Water travel\n"
     ]
    },
    {
     "name": "stderr",
     "output_type": "stream",
     "text": [
      "\n",
      "\n",
      "돌리는중:  64%|██████▎   | 82/129 [18:37<10:33, 13.48s/it]\u001b[A\u001b[A"
     ]
    },
    {
     "name": "stdout",
     "output_type": "stream",
     "text": [
      "United Kingdom Blaenau-Ffestiniog travel\n"
     ]
    },
    {
     "name": "stderr",
     "output_type": "stream",
     "text": [
      "\n",
      "\n",
      "돌리는중:  64%|██████▍   | 83/129 [18:50<10:19, 13.47s/it]\u001b[A\u001b[A"
     ]
    },
    {
     "name": "stdout",
     "output_type": "stream",
     "text": [
      "United Kingdom Stirling travel\n"
     ]
    },
    {
     "name": "stderr",
     "output_type": "stream",
     "text": [
      "\n",
      "\n",
      "돌리는중:  65%|██████▌   | 84/129 [19:04<10:04, 13.44s/it]\u001b[A\u001b[A"
     ]
    },
    {
     "name": "stdout",
     "output_type": "stream",
     "text": [
      "United Kingdom Newcastle upon Tyne travel\n"
     ]
    },
    {
     "name": "stderr",
     "output_type": "stream",
     "text": [
      "\n",
      "\n",
      "돌리는중:  66%|██████▌   | 85/129 [19:17<09:52, 13.47s/it]\u001b[A\u001b[A"
     ]
    },
    {
     "name": "stdout",
     "output_type": "stream",
     "text": [
      "United Kingdom Moreton in Marsh travel\n"
     ]
    },
    {
     "name": "stderr",
     "output_type": "stream",
     "text": [
      "\n",
      "\n",
      "돌리는중:  67%|██████▋   | 86/129 [19:31<09:37, 13.43s/it]\u001b[A\u001b[A"
     ]
    },
    {
     "name": "stdout",
     "output_type": "stream",
     "text": [
      "United Kingdom Saint Leonards travel\n"
     ]
    },
    {
     "name": "stderr",
     "output_type": "stream",
     "text": [
      "\n",
      "\n",
      "돌리는중:  67%|██████▋   | 87/129 [19:44<09:22, 13.40s/it]\u001b[A\u001b[A"
     ]
    },
    {
     "name": "stdout",
     "output_type": "stream",
     "text": [
      "Italy Toscolano Maderno travel\n"
     ]
    },
    {
     "name": "stderr",
     "output_type": "stream",
     "text": [
      "\n",
      "\n",
      "돌리는중:  68%|██████▊   | 88/129 [19:57<09:08, 13.39s/it]\u001b[A\u001b[A"
     ]
    },
    {
     "name": "stdout",
     "output_type": "stream",
     "text": [
      "Italy Siracusa travel\n"
     ]
    },
    {
     "name": "stderr",
     "output_type": "stream",
     "text": [
      "\n",
      "\n",
      "돌리는중:  69%|██████▉   | 89/129 [20:10<08:53, 13.34s/it]\u001b[A\u001b[A"
     ]
    },
    {
     "name": "stdout",
     "output_type": "stream",
     "text": [
      "Italy Barberino di Val dʼElsa travel\n"
     ]
    },
    {
     "name": "stderr",
     "output_type": "stream",
     "text": [
      "\n",
      "\n",
      "돌리는중:  70%|██████▉   | 90/129 [20:24<08:39, 13.32s/it]\u001b[A\u001b[A"
     ]
    },
    {
     "name": "stdout",
     "output_type": "stream",
     "text": [
      "Italy Tremosine Sul Garda travel\n"
     ]
    },
    {
     "name": "stderr",
     "output_type": "stream",
     "text": [
      "\n",
      "\n",
      "돌리는중:  71%|███████   | 91/129 [20:37<08:28, 13.38s/it]\u001b[A\u001b[A"
     ]
    },
    {
     "name": "stdout",
     "output_type": "stream",
     "text": [
      "Italy Padova travel\n"
     ]
    },
    {
     "name": "stderr",
     "output_type": "stream",
     "text": [
      "\n",
      "\n",
      "돌리는중:  71%|███████▏  | 92/129 [20:51<08:22, 13.58s/it]\u001b[A\u001b[A"
     ]
    },
    {
     "name": "stdout",
     "output_type": "stream",
     "text": [
      "Italy Napoli travel\n"
     ]
    },
    {
     "name": "stderr",
     "output_type": "stream",
     "text": [
      "\n",
      "\n",
      "돌리는중:  72%|███████▏  | 93/129 [21:05<08:10, 13.63s/it]\u001b[A\u001b[A"
     ]
    },
    {
     "name": "stdout",
     "output_type": "stream",
     "text": [
      "Italy Milano travel\n"
     ]
    },
    {
     "name": "stderr",
     "output_type": "stream",
     "text": [
      "\n",
      "\n",
      "돌리는중:  73%|███████▎  | 94/129 [21:19<07:57, 13.64s/it]\u001b[A\u001b[A"
     ]
    },
    {
     "name": "stdout",
     "output_type": "stream",
     "text": [
      "Italy Cortina dʼAmpezzo travel\n"
     ]
    },
    {
     "name": "stderr",
     "output_type": "stream",
     "text": [
      "\n",
      "\n",
      "돌리는중:  74%|███████▎  | 95/129 [21:32<07:40, 13.55s/it]\u001b[A\u001b[A"
     ]
    },
    {
     "name": "stdout",
     "output_type": "stream",
     "text": [
      "Italy Colle Val D'Elsa travel\n"
     ]
    },
    {
     "name": "stderr",
     "output_type": "stream",
     "text": [
      "\n",
      "\n",
      "돌리는중:  74%|███████▍  | 96/129 [21:45<07:24, 13.46s/it]\u001b[A\u001b[A"
     ]
    },
    {
     "name": "stdout",
     "output_type": "stream",
     "text": [
      "Italy Claino travel\n"
     ]
    },
    {
     "name": "stderr",
     "output_type": "stream",
     "text": [
      "\n",
      "\n",
      "돌리는중:  75%|███████▌  | 97/129 [21:59<07:10, 13.46s/it]\u001b[A\u001b[A"
     ]
    },
    {
     "name": "stdout",
     "output_type": "stream",
     "text": [
      "Italy Cava deʼ Tirreni travel\n"
     ]
    },
    {
     "name": "stderr",
     "output_type": "stream",
     "text": [
      "\n",
      "\n",
      "돌리는중:  76%|███████▌  | 98/129 [22:12<06:56, 13.43s/it]\u001b[A\u001b[A"
     ]
    },
    {
     "name": "stdout",
     "output_type": "stream",
     "text": [
      "Italy Lanzo dʼIntelvi travel\n"
     ]
    },
    {
     "name": "stderr",
     "output_type": "stream",
     "text": [
      "\n",
      "\n",
      "돌리는중:  77%|███████▋  | 99/129 [22:26<06:42, 13.43s/it]\u001b[A\u001b[A"
     ]
    },
    {
     "name": "stdout",
     "output_type": "stream",
     "text": [
      "Italy Ioppolo Giancaxio travel\n"
     ]
    },
    {
     "name": "stderr",
     "output_type": "stream",
     "text": [
      "\n",
      "\n",
      "돌리는중:  78%|███████▊  | 100/129 [22:39<06:26, 13.34s/it]\u001b[A\u001b[A"
     ]
    },
    {
     "name": "stdout",
     "output_type": "stream",
     "text": [
      "New Zealand Coromandel Town travel\n"
     ]
    },
    {
     "name": "stderr",
     "output_type": "stream",
     "text": [
      "\n",
      "\n",
      "돌리는중:  78%|███████▊  | 101/129 [22:52<06:14, 13.38s/it]\u001b[A\u001b[A"
     ]
    },
    {
     "name": "stdout",
     "output_type": "stream",
     "text": [
      "New Zealand  Lyttelton travel\n"
     ]
    },
    {
     "name": "stderr",
     "output_type": "stream",
     "text": [
      "\n",
      "\n",
      "돌리는중:  79%|███████▉  | 102/129 [23:05<06:00, 13.35s/it]\u001b[A\u001b[A"
     ]
    },
    {
     "name": "stdout",
     "output_type": "stream",
     "text": [
      "New Zealand Lake Hawea travel\n"
     ]
    },
    {
     "name": "stderr",
     "output_type": "stream",
     "text": [
      "\n",
      "\n",
      "돌리는중:  80%|███████▉  | 103/129 [23:19<05:46, 13.31s/it]\u001b[A\u001b[A"
     ]
    },
    {
     "name": "stdout",
     "output_type": "stream",
     "text": [
      "Russia Ekaterinburg travel\n"
     ]
    },
    {
     "name": "stderr",
     "output_type": "stream",
     "text": [
      "\n",
      "\n",
      "돌리는중:  81%|████████  | 104/129 [23:32<05:34, 13.37s/it]\u001b[A\u001b[A"
     ]
    },
    {
     "name": "stdout",
     "output_type": "stream",
     "text": [
      "Russia Petropavlovsk-Kamchatskiy travel\n"
     ]
    },
    {
     "name": "stderr",
     "output_type": "stream",
     "text": [
      "\n",
      "\n",
      "돌리는중:  81%|████████▏ | 105/129 [23:45<05:19, 13.29s/it]\u001b[A\u001b[A"
     ]
    },
    {
     "name": "stdout",
     "output_type": "stream",
     "text": [
      "Russia Velikiy Novgorod travel\n"
     ]
    },
    {
     "name": "stderr",
     "output_type": "stream",
     "text": [
      "\n",
      "\n",
      "돌리는중:  82%|████████▏ | 106/129 [23:59<05:07, 13.36s/it]\u001b[A\u001b[A"
     ]
    },
    {
     "name": "stdout",
     "output_type": "stream",
     "text": [
      "Russia Saint Petersburg travel\n"
     ]
    },
    {
     "name": "stderr",
     "output_type": "stream",
     "text": [
      "\n",
      "\n",
      "돌리는중:  83%|████████▎ | 107/129 [24:12<04:52, 13.32s/it]\u001b[A\u001b[A"
     ]
    },
    {
     "name": "stdout",
     "output_type": "stream",
     "text": [
      "Russia Rybachiy travel\n"
     ]
    },
    {
     "name": "stderr",
     "output_type": "stream",
     "text": [
      "\n",
      "\n",
      "돌리는중:  84%|████████▎ | 108/129 [24:26<04:40, 13.38s/it]\u001b[A\u001b[A"
     ]
    },
    {
     "name": "stdout",
     "output_type": "stream",
     "text": [
      "Russia Rostov on Don travel\n"
     ]
    },
    {
     "name": "stderr",
     "output_type": "stream",
     "text": [
      "\n",
      "\n",
      "돌리는중:  84%|████████▍ | 109/129 [24:39<04:27, 13.38s/it]\u001b[A\u001b[A"
     ]
    },
    {
     "name": "stdout",
     "output_type": "stream",
     "text": [
      "Russia Lakhdenpokhya travel\n"
     ]
    },
    {
     "name": "stderr",
     "output_type": "stream",
     "text": [
      "\n",
      "\n",
      "돌리는중:  85%|████████▌ | 110/129 [24:52<04:12, 13.30s/it]\u001b[A\u001b[A"
     ]
    },
    {
     "name": "stdout",
     "output_type": "stream",
     "text": [
      "Russia Solovetskiy travel\n"
     ]
    },
    {
     "name": "stderr",
     "output_type": "stream",
     "text": [
      "\n",
      "\n",
      "돌리는중:  86%|████████▌ | 111/129 [25:05<03:59, 13.30s/it]\u001b[A\u001b[A"
     ]
    },
    {
     "name": "stdout",
     "output_type": "stream",
     "text": [
      "Russia Bugul'deyka travel\n"
     ]
    },
    {
     "name": "stderr",
     "output_type": "stream",
     "text": [
      "\n",
      "\n",
      "돌리는중:  87%|████████▋ | 112/129 [25:19<03:46, 13.35s/it]\u001b[A\u001b[A"
     ]
    },
    {
     "name": "stdout",
     "output_type": "stream",
     "text": [
      "Thailand Rawai Beach travel\n"
     ]
    },
    {
     "name": "stderr",
     "output_type": "stream",
     "text": [
      "\n",
      "\n",
      "돌리는중:  88%|████████▊ | 113/129 [25:32<03:33, 13.36s/it]\u001b[A\u001b[A"
     ]
    },
    {
     "name": "stdout",
     "output_type": "stream",
     "text": [
      "Thailand Ban Pa Khlok travel\n"
     ]
    },
    {
     "name": "stderr",
     "output_type": "stream",
     "text": [
      "\n",
      "\n",
      "돌리는중:  88%|████████▊ | 114/129 [25:45<03:19, 13.27s/it]\u001b[A\u001b[A"
     ]
    },
    {
     "name": "stdout",
     "output_type": "stream",
     "text": [
      "Thailand Mai Khao Beach travel\n"
     ]
    },
    {
     "name": "stderr",
     "output_type": "stream",
     "text": [
      "\n",
      "\n",
      "돌리는중:  89%|████████▉ | 115/129 [25:58<03:05, 13.27s/it]\u001b[A\u001b[A"
     ]
    },
    {
     "name": "stdout",
     "output_type": "stream",
     "text": [
      "Thailand Ko Larn travel\n"
     ]
    },
    {
     "name": "stderr",
     "output_type": "stream",
     "text": [
      "\n",
      "\n",
      "돌리는중:  90%|████████▉ | 116/129 [26:12<02:52, 13.30s/it]\u001b[A\u001b[A"
     ]
    },
    {
     "name": "stdout",
     "output_type": "stream",
     "text": [
      "Thailand Ban Karon travel\n"
     ]
    },
    {
     "name": "stderr",
     "output_type": "stream",
     "text": [
      "\n",
      "\n",
      "돌리는중:  91%|█████████ | 117/129 [26:25<02:39, 13.32s/it]\u001b[A\u001b[A"
     ]
    },
    {
     "name": "stdout",
     "output_type": "stream",
     "text": [
      "Thailand Panwa Beach travel\n"
     ]
    },
    {
     "name": "stderr",
     "output_type": "stream",
     "text": [
      "\n",
      "\n",
      "돌리는중:  91%|█████████▏| 118/129 [26:39<02:27, 13.40s/it]\u001b[A\u001b[A"
     ]
    },
    {
     "name": "stdout",
     "output_type": "stream",
     "text": [
      "Thailand Ko Samed travel\n"
     ]
    },
    {
     "name": "stderr",
     "output_type": "stream",
     "text": [
      "\n",
      "\n",
      "돌리는중:  92%|█████████▏| 119/129 [26:52<02:14, 13.42s/it]\u001b[A\u001b[A"
     ]
    },
    {
     "name": "stdout",
     "output_type": "stream",
     "text": [
      "Thailand Kamala Beach travel\n"
     ]
    },
    {
     "name": "stderr",
     "output_type": "stream",
     "text": [
      "\n",
      "\n",
      "돌리는중:  93%|█████████▎| 120/129 [27:06<02:00, 13.43s/it]\u001b[A\u001b[A"
     ]
    },
    {
     "name": "stdout",
     "output_type": "stream",
     "text": [
      "Thailand Patong Beach travel\n"
     ]
    },
    {
     "name": "stderr",
     "output_type": "stream",
     "text": [
      "\n",
      "\n",
      "돌리는중:  94%|█████████▍| 121/129 [27:21<01:51, 13.89s/it]\u001b[A\u001b[A"
     ]
    },
    {
     "name": "stdout",
     "output_type": "stream",
     "text": [
      "Thailand Prachin Buri travel\n"
     ]
    },
    {
     "name": "stderr",
     "output_type": "stream",
     "text": [
      "\n",
      "\n",
      "돌리는중:  95%|█████████▍| 122/129 [27:34<01:36, 13.85s/it]\u001b[A\u001b[A"
     ]
    },
    {
     "name": "stdout",
     "output_type": "stream",
     "text": [
      "Thailand Phangnga travel\n"
     ]
    },
    {
     "name": "stderr",
     "output_type": "stream",
     "text": [
      "\n",
      "\n",
      "돌리는중:  95%|█████████▌| 123/129 [27:48<01:22, 13.71s/it]\u001b[A\u001b[A"
     ]
    },
    {
     "name": "stdout",
     "output_type": "stream",
     "text": [
      "Thailand Krabi town travel\n"
     ]
    },
    {
     "name": "stderr",
     "output_type": "stream",
     "text": [
      "\n",
      "\n",
      "돌리는중:  96%|█████████▌| 124/129 [28:01<01:08, 13.62s/it]\u001b[A\u001b[A"
     ]
    },
    {
     "name": "stdout",
     "output_type": "stream",
     "text": [
      "Thailand Kanchanaburi City travel\n"
     ]
    },
    {
     "name": "stderr",
     "output_type": "stream",
     "text": [
      "\n",
      "\n",
      "돌리는중:  97%|█████████▋| 125/129 [28:15<00:54, 13.66s/it]\u001b[A\u001b[A"
     ]
    },
    {
     "name": "stdout",
     "output_type": "stream",
     "text": [
      "Thailand Chon Buri travel\n"
     ]
    },
    {
     "name": "stderr",
     "output_type": "stream",
     "text": [
      "\n",
      "\n",
      "돌리는중:  98%|█████████▊| 126/129 [28:29<00:41, 13.69s/it]\u001b[A\u001b[A"
     ]
    },
    {
     "name": "stdout",
     "output_type": "stream",
     "text": [
      "Thailand Wang Nam Khieo travel\n"
     ]
    },
    {
     "name": "stderr",
     "output_type": "stream",
     "text": [
      "\n",
      "\n",
      "돌리는중:  98%|█████████▊| 127/129 [28:42<00:27, 13.64s/it]\u001b[A\u001b[A"
     ]
    },
    {
     "name": "stdout",
     "output_type": "stream",
     "text": [
      "Thailand Ban Dan Makham Tia travel\n"
     ]
    },
    {
     "name": "stderr",
     "output_type": "stream",
     "text": [
      "\n",
      "\n",
      "돌리는중:  99%|█████████▉| 128/129 [28:56<00:13, 13.63s/it]\u001b[A\u001b[A"
     ]
    },
    {
     "name": "stdout",
     "output_type": "stream",
     "text": [
      "Thailand Ko Phangan travel\n"
     ]
    },
    {
     "name": "stderr",
     "output_type": "stream",
     "text": [
      "\n",
      "\n",
      "돌리는중: 100%|██████████| 129/129 [29:09<00:00, 13.56s/it]\u001b[A\u001b[A\n"
     ]
    }
   ],
   "source": [
    "for idx, row in tqdm(data[0:].iterrows(), total = data[0:].shape[0], desc=\"돌리는중\"):\n",
    "\n",
    "    cd_idx = row['cd_idx']\n",
    "    last_pk = last_pk + 1\n",
    "    search_keyword= row['country_name']+' ' + row['cd_name'] +' travel'\n",
    "    print(search_keyword)\n",
    "    drv.get('https://www.youtube.com/results?search_query=' + search_keyword )\n",
    "    \n",
    "    \n",
    "    cd_youtube_search_ko = search_keyword\n",
    "    no_of_pagedowns = 5\n",
    "    elem = drv.find_element_by_tag_name(\"body\")\n",
    "\n",
    "    while no_of_pagedowns:\n",
    "        elem.send_keys(Keys.PAGE_DOWN)\n",
    "        time.sleep(1.2)\n",
    "        no_of_pagedowns -= 1\n",
    "    time.sleep(5)  # sleep을 통해 Robot Error 해결.\n",
    "    soup=BeautifulSoup(drv.page_source,\"html\")\n",
    "\n",
    "    Alll=soup.findAll(\"ytd-video-renderer\",{\"class\":\"style-scope ytd-item-section-renderer\"})\n",
    "    if len(Alll) == 0 :\n",
    "        data_list.append({\"cd_idx\": cd_idx})\n",
    "\n",
    "\n",
    "    num = 0\n",
    "    for i in Alll :\n",
    "        try :\n",
    "            title =i.find(\"a\",{\"id\":\"video-title\"})['title']\n",
    "        except :\n",
    "            title = None\n",
    "        try:\n",
    "            link = 'https://www.youtube.com' + i.find(\"a\",{\"id\":\"video-title\"})['href']\n",
    "        except:\n",
    "            link = None\n",
    "        try:\n",
    "#             text = i.find(\"yt-formatted-string\",{\"id\" : \"description-text\"}).text\n",
    "            text = i.find(\"yt-formatted-string\",{\"class\" : \"metadata-snippet-text style-scope ytd-video-renderer\"}).text            \n",
    "        except:\n",
    "            text = None\n",
    "        try:\n",
    "            image=i.find('img',{\"id\":\"img\"})[\"src\"]\n",
    "\n",
    "        except:\n",
    "            print(f\"image크롤링오류: {cd_idx}:{image}\")\n",
    "            image = None\n",
    "        try:\n",
    "            name = i.find('yt-formatted-string',{\"class\":\"style-scope ytd-channel-name complex-string\"}).text\n",
    "        except:\n",
    "            name = None\n",
    "        try :\n",
    "            duration=i.find('span',{\"class\":\"style-scope ytd-thumbnail-overlay-time-status-renderer\"}).text.strip()\n",
    "        except :\n",
    "            duration = None\n",
    "        try :\n",
    "            viewCount_raw = i.findAll('span',{\"class\":\"style-scope ytd-video-meta-block\"})[0].text\n",
    "        except :\n",
    "            viewCount_raw = None\n",
    "        try :\n",
    "            regdate_ment = i.findAll('span',{\"class\":\"style-scope ytd-video-meta-block\"})[1].text\n",
    "        except :\n",
    "            regdate_ment = None\n",
    "        dataii = {\"pk\": last_pk, \"cd_idx\": cd_idx, \"cd_youtube_search_ko\":search_keyword, \"link\": link, \"title\": title,\n",
    "        \"text\": text, \"image\": image, \"name\": name,\n",
    "        \"duration\": duration, \"regdate_ment\": regdate_ment, \"viewCount_raw\": viewCount_raw}\n",
    "        data_list.append(dataii)\n",
    "        num += 1\n",
    "        if (num == 10):\n",
    "            break\n",
    "\n",
    "\n",
    "columns = [\n",
    "    'pk','cd_idx', 'cd_youtube_search_ko', 'link', 'title',\n",
    "    'text', 'image', 'name',  'duration', 'regdate_ment', 'viewCount_raw'] \n",
    "result_df = pd.DataFrame(data_list, columns=columns)\n",
    "\n",
    "#제출날짜 및 세트 번호 수정\n",
    "drv.close()"
   ]
  },
  {
   "cell_type": "code",
   "execution_count": 13,
   "metadata": {
    "scrolled": true
   },
   "outputs": [
    {
     "data": {
      "text/html": [
       "<div>\n",
       "<style scoped>\n",
       "    .dataframe tbody tr th:only-of-type {\n",
       "        vertical-align: middle;\n",
       "    }\n",
       "\n",
       "    .dataframe tbody tr th {\n",
       "        vertical-align: top;\n",
       "    }\n",
       "\n",
       "    .dataframe thead th {\n",
       "        text-align: right;\n",
       "    }\n",
       "</style>\n",
       "<table border=\"1\" class=\"dataframe\">\n",
       "  <thead>\n",
       "    <tr style=\"text-align: right;\">\n",
       "      <th></th>\n",
       "      <th>cd_idx</th>\n",
       "      <th>cd_youtube_search_ko</th>\n",
       "      <th>link</th>\n",
       "      <th>title</th>\n",
       "      <th>text</th>\n",
       "      <th>image</th>\n",
       "      <th>name</th>\n",
       "      <th>duration</th>\n",
       "      <th>regdate_ment</th>\n",
       "      <th>viewCount</th>\n",
       "    </tr>\n",
       "  </thead>\n",
       "  <tbody>\n",
       "    <tr>\n",
       "      <th>0</th>\n",
       "      <td>1218202</td>\n",
       "      <td>United States Kailua-Kona travel</td>\n",
       "      <td>https://www.youtube.com/watch?v=4EnvTQukbMk</td>\n",
       "      <td>Hawaiian Island Hopping: Kailua-Kona – Ancient...</td>\n",
       "      <td>Discover historic parks, pristine beaches, mar...</td>\n",
       "      <td>https://i.ytimg.com/vi/4EnvTQukbMk/hq720.jpg?s...</td>\n",
       "      <td>Visit The USA</td>\n",
       "      <td>0:50</td>\n",
       "      <td>1년 전</td>\n",
       "      <td>조회수 948회</td>\n",
       "    </tr>\n",
       "    <tr>\n",
       "      <th>1</th>\n",
       "      <td>1218202</td>\n",
       "      <td>United States Kailua-Kona travel</td>\n",
       "      <td>https://www.youtube.com/watch?v=SDfLDjREDY0</td>\n",
       "      <td>Things To Do in Kailua Kona, Hawaii 4k</td>\n",
       "      <td>Hey Must Do Travelers! Today we are traveling ...</td>\n",
       "      <td>https://i.ytimg.com/vi/SDfLDjREDY0/hqdefault.j...</td>\n",
       "      <td>Must Do Travels</td>\n",
       "      <td>7:04</td>\n",
       "      <td>2년 전</td>\n",
       "      <td>조회수 10만회</td>\n",
       "    </tr>\n",
       "    <tr>\n",
       "      <th>2</th>\n",
       "      <td>1218202</td>\n",
       "      <td>United States Kailua-Kona travel</td>\n",
       "      <td>https://www.youtube.com/watch?v=7G2S5jgXs50</td>\n",
       "      <td>BIG ISLAND HAWAII, TOP 15 things to Do, Kona, ...</td>\n",
       "      <td>I'm excited to share with you one of my favori...</td>\n",
       "      <td>https://i.ytimg.com/vi/7G2S5jgXs50/hq720.jpg?s...</td>\n",
       "      <td>Active Tours</td>\n",
       "      <td>10:03</td>\n",
       "      <td>1년 전</td>\n",
       "      <td>조회수 22만회</td>\n",
       "    </tr>\n",
       "    <tr>\n",
       "      <th>3</th>\n",
       "      <td>1218202</td>\n",
       "      <td>United States Kailua-Kona travel</td>\n",
       "      <td>https://www.youtube.com/watch?v=CNjB0r_aIkQ</td>\n",
       "      <td>Headed to Hawaii? Here's What You Need to Know...</td>\n",
       "      <td>If you're trying to figure out Hawaii's travel...</td>\n",
       "      <td>https://i.ytimg.com/vi/CNjB0r_aIkQ/hq720.jpg?s...</td>\n",
       "      <td>The Hawaii Vacation Guide</td>\n",
       "      <td>9:05</td>\n",
       "      <td>2개월 전</td>\n",
       "      <td>조회수 6.4만회</td>\n",
       "    </tr>\n",
       "    <tr>\n",
       "      <th>4</th>\n",
       "      <td>1218202</td>\n",
       "      <td>United States Kailua-Kona travel</td>\n",
       "      <td>https://www.youtube.com/watch?v=iX-wnhGrk9s</td>\n",
       "      <td>Hawaii Travel Vlog 1| Kailua Kona Food &amp; Trave...</td>\n",
       "      <td>Where to snorkel on the big island? Where to s...</td>\n",
       "      <td>https://i.ytimg.com/vi/iX-wnhGrk9s/hq720.jpg?s...</td>\n",
       "      <td>Ms. Ming lifestyle</td>\n",
       "      <td>31:55</td>\n",
       "      <td>2개월 전</td>\n",
       "      <td>조회수 1.1천회</td>\n",
       "    </tr>\n",
       "    <tr>\n",
       "      <th>...</th>\n",
       "      <td>...</td>\n",
       "      <td>...</td>\n",
       "      <td>...</td>\n",
       "      <td>...</td>\n",
       "      <td>...</td>\n",
       "      <td>...</td>\n",
       "      <td>...</td>\n",
       "      <td>...</td>\n",
       "      <td>...</td>\n",
       "      <td>...</td>\n",
       "    </tr>\n",
       "    <tr>\n",
       "      <th>1276</th>\n",
       "      <td>3112058</td>\n",
       "      <td>Thailand Ko Phangan travel</td>\n",
       "      <td>https://www.youtube.com/watch?v=9_FMkudnURw</td>\n",
       "      <td>Driving Koh Phangan island, Thailand 4k 60fps</td>\n",
       "      <td>Complete driving tour around island on motorbi...</td>\n",
       "      <td>https://i.ytimg.com/vi/9_FMkudnURw/hq720.jpg?s...</td>\n",
       "      <td>walking4k</td>\n",
       "      <td>49:01</td>\n",
       "      <td>1년 전</td>\n",
       "      <td>조회수 1.5만회</td>\n",
       "    </tr>\n",
       "    <tr>\n",
       "      <th>1277</th>\n",
       "      <td>3112058</td>\n",
       "      <td>Thailand Ko Phangan travel</td>\n",
       "      <td>https://www.youtube.com/watch?v=CXL-_G11vXA</td>\n",
       "      <td>Ko Phangan, Thailand | A Hippie Backpacker Par...</td>\n",
       "      <td>Music during the video: \"Asian Fork Fight\" by ...</td>\n",
       "      <td>https://i.ytimg.com/vi/CXL-_G11vXA/hq720.jpg?s...</td>\n",
       "      <td>Gabriel Traveler</td>\n",
       "      <td>22:21</td>\n",
       "      <td>1년 전</td>\n",
       "      <td>조회수 4.1만회</td>\n",
       "    </tr>\n",
       "    <tr>\n",
       "      <th>1278</th>\n",
       "      <td>3112058</td>\n",
       "      <td>Thailand Ko Phangan travel</td>\n",
       "      <td>https://www.youtube.com/watch?v=lL1LumRP-eg</td>\n",
       "      <td>Travel to KOH PHANGAN in 2020 | Thailand (Part...</td>\n",
       "      <td>Last week, we took a spontaneous trip to Koh P...</td>\n",
       "      <td>https://i.ytimg.com/vi/lL1LumRP-eg/hq720.jpg?s...</td>\n",
       "      <td>Flora and Note</td>\n",
       "      <td>14:39</td>\n",
       "      <td>11개월 전</td>\n",
       "      <td>조회수 9.1천회</td>\n",
       "    </tr>\n",
       "    <tr>\n",
       "      <th>1279</th>\n",
       "      <td>3112058</td>\n",
       "      <td>Thailand Ko Phangan travel</td>\n",
       "      <td>https://www.youtube.com/watch?v=K0B_g4PUNws</td>\n",
       "      <td>Koh Phangan, Detailed Travel Guide (everything...</td>\n",
       "      <td>This is a very detailed travel guide for islan...</td>\n",
       "      <td>https://i.ytimg.com/vi/K0B_g4PUNws/hq720.jpg?s...</td>\n",
       "      <td>Travel Stories</td>\n",
       "      <td>16:47</td>\n",
       "      <td>11개월 전</td>\n",
       "      <td>조회수 1.3만회</td>\n",
       "    </tr>\n",
       "    <tr>\n",
       "      <th>1280</th>\n",
       "      <td>3112058</td>\n",
       "      <td>Thailand Ko Phangan travel</td>\n",
       "      <td>https://www.youtube.com/watch?v=mqjSKgQZksc</td>\n",
       "      <td>Cheapest Paradise Beach I've Stayed On 🏝️ Koh ...</td>\n",
       "      <td>Mai Pen Rai Bungalows on Koh Phangan will set ...</td>\n",
       "      <td>https://i.ytimg.com/vi/mqjSKgQZksc/hq720.jpg?s...</td>\n",
       "      <td>Paddy Doyle</td>\n",
       "      <td>22:19</td>\n",
       "      <td>4개월 전</td>\n",
       "      <td>조회수 3.8만회</td>\n",
       "    </tr>\n",
       "  </tbody>\n",
       "</table>\n",
       "<p>1281 rows × 10 columns</p>\n",
       "</div>"
      ],
      "text/plain": [
       "       cd_idx              cd_youtube_search_ko  \\\n",
       "0     1218202  United States Kailua-Kona travel   \n",
       "1     1218202  United States Kailua-Kona travel   \n",
       "2     1218202  United States Kailua-Kona travel   \n",
       "3     1218202  United States Kailua-Kona travel   \n",
       "4     1218202  United States Kailua-Kona travel   \n",
       "...       ...                               ...   \n",
       "1276  3112058        Thailand Ko Phangan travel   \n",
       "1277  3112058        Thailand Ko Phangan travel   \n",
       "1278  3112058        Thailand Ko Phangan travel   \n",
       "1279  3112058        Thailand Ko Phangan travel   \n",
       "1280  3112058        Thailand Ko Phangan travel   \n",
       "\n",
       "                                             link  \\\n",
       "0     https://www.youtube.com/watch?v=4EnvTQukbMk   \n",
       "1     https://www.youtube.com/watch?v=SDfLDjREDY0   \n",
       "2     https://www.youtube.com/watch?v=7G2S5jgXs50   \n",
       "3     https://www.youtube.com/watch?v=CNjB0r_aIkQ   \n",
       "4     https://www.youtube.com/watch?v=iX-wnhGrk9s   \n",
       "...                                           ...   \n",
       "1276  https://www.youtube.com/watch?v=9_FMkudnURw   \n",
       "1277  https://www.youtube.com/watch?v=CXL-_G11vXA   \n",
       "1278  https://www.youtube.com/watch?v=lL1LumRP-eg   \n",
       "1279  https://www.youtube.com/watch?v=K0B_g4PUNws   \n",
       "1280  https://www.youtube.com/watch?v=mqjSKgQZksc   \n",
       "\n",
       "                                                  title  \\\n",
       "0     Hawaiian Island Hopping: Kailua-Kona – Ancient...   \n",
       "1                Things To Do in Kailua Kona, Hawaii 4k   \n",
       "2     BIG ISLAND HAWAII, TOP 15 things to Do, Kona, ...   \n",
       "3     Headed to Hawaii? Here's What You Need to Know...   \n",
       "4     Hawaii Travel Vlog 1| Kailua Kona Food & Trave...   \n",
       "...                                                 ...   \n",
       "1276      Driving Koh Phangan island, Thailand 4k 60fps   \n",
       "1277  Ko Phangan, Thailand | A Hippie Backpacker Par...   \n",
       "1278  Travel to KOH PHANGAN in 2020 | Thailand (Part...   \n",
       "1279  Koh Phangan, Detailed Travel Guide (everything...   \n",
       "1280  Cheapest Paradise Beach I've Stayed On 🏝️ Koh ...   \n",
       "\n",
       "                                                   text  \\\n",
       "0     Discover historic parks, pristine beaches, mar...   \n",
       "1     Hey Must Do Travelers! Today we are traveling ...   \n",
       "2     I'm excited to share with you one of my favori...   \n",
       "3     If you're trying to figure out Hawaii's travel...   \n",
       "4     Where to snorkel on the big island? Where to s...   \n",
       "...                                                 ...   \n",
       "1276  Complete driving tour around island on motorbi...   \n",
       "1277  Music during the video: \"Asian Fork Fight\" by ...   \n",
       "1278  Last week, we took a spontaneous trip to Koh P...   \n",
       "1279  This is a very detailed travel guide for islan...   \n",
       "1280  Mai Pen Rai Bungalows on Koh Phangan will set ...   \n",
       "\n",
       "                                                  image  \\\n",
       "0     https://i.ytimg.com/vi/4EnvTQukbMk/hq720.jpg?s...   \n",
       "1     https://i.ytimg.com/vi/SDfLDjREDY0/hqdefault.j...   \n",
       "2     https://i.ytimg.com/vi/7G2S5jgXs50/hq720.jpg?s...   \n",
       "3     https://i.ytimg.com/vi/CNjB0r_aIkQ/hq720.jpg?s...   \n",
       "4     https://i.ytimg.com/vi/iX-wnhGrk9s/hq720.jpg?s...   \n",
       "...                                                 ...   \n",
       "1276  https://i.ytimg.com/vi/9_FMkudnURw/hq720.jpg?s...   \n",
       "1277  https://i.ytimg.com/vi/CXL-_G11vXA/hq720.jpg?s...   \n",
       "1278  https://i.ytimg.com/vi/lL1LumRP-eg/hq720.jpg?s...   \n",
       "1279  https://i.ytimg.com/vi/K0B_g4PUNws/hq720.jpg?s...   \n",
       "1280  https://i.ytimg.com/vi/mqjSKgQZksc/hq720.jpg?s...   \n",
       "\n",
       "                           name duration regdate_ment  viewCount  \n",
       "0                 Visit The USA     0:50         1년 전   조회수 948회  \n",
       "1               Must Do Travels     7:04         2년 전   조회수 10만회  \n",
       "2                  Active Tours    10:03         1년 전   조회수 22만회  \n",
       "3     The Hawaii Vacation Guide     9:05        2개월 전  조회수 6.4만회  \n",
       "4            Ms. Ming lifestyle    31:55        2개월 전  조회수 1.1천회  \n",
       "...                         ...      ...          ...        ...  \n",
       "1276                  walking4k    49:01         1년 전  조회수 1.5만회  \n",
       "1277           Gabriel Traveler    22:21         1년 전  조회수 4.1만회  \n",
       "1278             Flora and Note    14:39       11개월 전  조회수 9.1천회  \n",
       "1279             Travel Stories    16:47       11개월 전  조회수 1.3만회  \n",
       "1280                Paddy Doyle    22:19        4개월 전  조회수 3.8만회  \n",
       "\n",
       "[1281 rows x 10 columns]"
      ]
     },
     "execution_count": 13,
     "metadata": {},
     "output_type": "execute_result"
    }
   ],
   "source": [
    "columns = [\n",
    "    'pk','cd_idx', 'cd_youtube_search_ko', 'link', 'title',\n",
    "    'text', 'image', 'name',  'duration', 'regdate_ment','viewCount', 'viewCount_raw','regist_date','update_date'\n",
    "]\n",
    "result_df = pd.DataFrame(data_list, columns=columns)\n",
    "result_df"
   ]
  },
  {
   "cell_type": "markdown",
   "metadata": {},
   "source": [
    "# 나머지 정보 채우기 (viewCount,regist_date,update_date)"
   ]
  },
  {
   "cell_type": "code",
   "execution_count": null,
   "metadata": {},
   "outputs": [],
   "source": [
    "#viewCount\n",
    "for idx, row in tqdm(result_df[0:].iterrows(), total = result_df[0:].shape[0], desc=\"돌리는중\"):\n",
    "    if '조회수 없음' in row['viewCount_raw']:\n",
    "        result_df['viewCount'][idx]=0\n",
    "    \n",
    "    else:\n",
    "        raw = row['viewCount_raw'].replace('조회수 ','').replace('회','')\n",
    "        if '만' in raw:\n",
    "            raw=float(raw.replace('만',''))\n",
    "            raw=raw*10000\n",
    "            result_df['viewCount'][idx]=int(raw)\n",
    "\n",
    "        elif '천' in raw:\n",
    "            raw=float(raw.replace('천',''))\n",
    "            raw=raw*1000\n",
    "            result_df['viewCount'][idx]=int(raw)\n",
    "\n",
    "        else:\n",
    "            result_df['viewCount'][idx]=int(raw)\n",
    "        "
   ]
  },
  {
   "cell_type": "code",
   "execution_count": null,
   "metadata": {},
   "outputs": [],
   "source": [
    "#regist_date,update_date\n",
    "result_df['update_date'] = datetime.datetime.now().strftime('%Y-%m-%d %H:%M:%S')\n",
    "result_df['regist_date'] = datetime.datetime.now().strftime('%Y-%m-%d %H:%M:%S')"
   ]
  },
  {
   "cell_type": "code",
   "execution_count": null,
   "metadata": {},
   "outputs": [],
   "source": [
    "result_df"
   ]
  },
  {
   "cell_type": "code",
   "execution_count": null,
   "metadata": {},
   "outputs": [],
   "source": []
  },
  {
   "cell_type": "code",
   "execution_count": null,
   "metadata": {},
   "outputs": [],
   "source": []
  },
  {
   "cell_type": "markdown",
   "metadata": {},
   "source": [
    "# 2. 최종 데이터 정제 저장"
   ]
  },
  {
   "cell_type": "code",
   "execution_count": 14,
   "metadata": {},
   "outputs": [
    {
     "name": "stdout",
     "output_type": "stream",
     "text": [
      "1281\n",
      "1\n",
      "1280\n"
     ]
    }
   ],
   "source": [
    "# 임시 백업 df 설정\n",
    "temp_df = pd.DataFrame(data_list, columns=columns)\n",
    "\n",
    "# 결측값 있는 행 확인\n",
    "check_columns  = [\"pk\",\"cd_idx\", \"cd_youtube_search_ko\", \"link\", \"title\", \"image\", \"name\"]\n",
    "missing_values = result_df[result_df[check_columns].isnull().any(axis=1)]\n",
    "\n",
    "print(len(temp_df))\n",
    "print(len(missing_values))\n",
    "print(len(temp_df) - len(missing_values))"
   ]
  },
  {
   "cell_type": "code",
   "execution_count": 15,
   "metadata": {},
   "outputs": [
    {
     "name": "stdout",
     "output_type": "stream",
     "text": [
      "1차 drop 이후 개수: 1280\n",
      "추가 drop 개수: 10\n",
      "1270\n"
     ]
    }
   ],
   "source": [
    "# 결측값 있는 행 drop 및 저장\n",
    "result_df.drop(missing_values.index, axis=0, inplace=True)\n",
    "print(f\"1차 drop 이후 개수: {len(result_df)}\")\n",
    "\n",
    "# 추가 요청 사항 drop 및 저장\n",
    "drop_df    = result_df[(result_df[\"duration\"].isnull() == True) | (result_df[\"regdate_ment\"].isnull() == True)]\n",
    "drop_index = drop_df.index\n",
    "result_df.drop(drop_index, axis=0, inplace=True)\n",
    "print(f\"추가 drop 개수: {len(drop_index)}\")\n",
    "\n",
    "# index 정렬\n",
    "result_df.reset_index(drop=True, inplace=True)\n",
    "print(len(result_df))"
   ]
  },
  {
   "cell_type": "markdown",
   "metadata": {},
   "source": [
    "# excel 파일로 저장"
   ]
  },
  {
   "cell_type": "code",
   "execution_count": 16,
   "metadata": {},
   "outputs": [
    {
     "data": {
      "text/plain": [
       "'/Users/mycelebs_28/Desktop/staypia_city_데이터수집'"
      ]
     },
     "execution_count": 16,
     "metadata": {},
     "output_type": "execute_result"
    }
   ],
   "source": [
    "Desktop"
   ]
  },
  {
   "cell_type": "code",
   "execution_count": 18,
   "metadata": {},
   "outputs": [
    {
     "name": "stdout",
     "output_type": "stream",
     "text": [
      "1270\n"
     ]
    }
   ],
   "source": [
    "# 엑셀화\n",
    "result_df.to_excel(Desktop+f'/youtube/result/youtube_crawling_{date}.xlsx', index=False)\n",
    "print(len(result_df))"
   ]
  },
  {
   "cell_type": "code",
   "execution_count": 41,
   "metadata": {},
   "outputs": [],
   "source": [
    "# url 개수가 65000개 이상일때만\n",
    "writer = pd.ExcelWriter(Desktop+f'/youtube/result/youtube_crawling_{date}.xlsx', engine='xlsxwriter', options={'strings_to_urls': False})\n",
    "result_df.to_excel(writer)\n",
    "writer.close()"
   ]
  },
  {
   "cell_type": "code",
   "execution_count": null,
   "metadata": {},
   "outputs": [],
   "source": []
  },
  {
   "cell_type": "markdown",
   "metadata": {},
   "source": [
    "# csv 파일로 저장"
   ]
  },
  {
   "cell_type": "code",
   "execution_count": null,
   "metadata": {},
   "outputs": [],
   "source": [
    "result_df.to_csv(Desktop+f'/youtube/upload/youtube_crawling_{date}.csv', index=False)"
   ]
  },
  {
   "cell_type": "code",
   "execution_count": null,
   "metadata": {},
   "outputs": [],
   "source": []
  },
  {
   "cell_type": "code",
   "execution_count": null,
   "metadata": {},
   "outputs": [],
   "source": [
    "engine_conn.close()\n",
    "engine.dispose()"
   ]
  },
  {
   "cell_type": "code",
   "execution_count": null,
   "metadata": {},
   "outputs": [],
   "source": []
  },
  {
   "cell_type": "code",
   "execution_count": null,
   "metadata": {},
   "outputs": [],
   "source": []
  }
 ],
 "metadata": {
  "kernelspec": {
   "display_name": "Python 3 (ipykernel)",
   "language": "python",
   "name": "python3"
  },
  "language_info": {
   "codemirror_mode": {
    "name": "ipython",
    "version": 3
   },
   "file_extension": ".py",
   "mimetype": "text/x-python",
   "name": "python",
   "nbconvert_exporter": "python",
   "pygments_lexer": "ipython3",
   "version": "3.9.7"
  }
 },
 "nbformat": 4,
 "nbformat_minor": 4
}
